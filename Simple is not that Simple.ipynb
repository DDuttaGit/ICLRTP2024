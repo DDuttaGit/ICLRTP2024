{
 "cells": [
  {
   "cell_type": "markdown",
   "metadata": {
    "id": "3rFCMJ4YeFVA"
   },
   "source": [
    "### Code GAN"
   ]
  },
  {
   "cell_type": "code",
   "execution_count": null,
   "metadata": {
    "id": "lQVYt92QGzYW"
   },
   "outputs": [],
   "source": [
    "!pip install torchmetrics torchquad statsmodels\n",
    "!apt install texlive\n",
    "!sudo apt-get install dvipng texlive-latex-extra texlive-fonts-recommended cm-super"
   ]
  },
  {
   "cell_type": "code",
   "execution_count": null,
   "metadata": {
    "colab": {
     "background_save": true
    },
    "id": "sK442hZphNVm"
   },
   "outputs": [],
   "source": [
    "import torch.nn as nn\n",
    "import torch\n",
    "from torchmetrics import Accuracy\n",
    "# from torchvision.datasets import FashionMNIST\n",
    "# from torchvision import transforms\n",
    "# from torch.utils.data import  DataLoader\n",
    "from torch.functional import F\n",
    "import numpy as np\n",
    "import matplotlib.pyplot as plt\n",
    "%matplotlib inline\n",
    "plt.rcParams['text.usetex'] = True\n",
    "plt.rcParams[\"font.family\"] = \"serif\"\n",
    "plt.rcParams['font.size'] = 15\n",
    "import sys\n",
    "from sklearn.utils import shuffle\n",
    "\n",
    "cuda = True if torch.cuda.is_available() else False\n",
    "from torch.autograd import Variable\n",
    "Tensor = torch.cuda.FloatTensor if cuda else torch.FloatTensor\n",
    "torch.manual_seed(0)"
   ]
  },
  {
   "cell_type": "markdown",
   "metadata": {
    "id": "akvQitRO1kGY"
   },
   "source": [
    "#### Create Data"
   ]
  },
  {
   "cell_type": "code",
   "execution_count": null,
   "metadata": {
    "id": "vmL1FIXQCUcB"
   },
   "outputs": [],
   "source": [
    "class DataModule:\n",
    "    def __init__(self,dim, normalize=True, **kwargs):\n",
    "        # a 3-D X : (batchs, numbers, 1)\n",
    "        # and we will follow the -π to π for initial experiments\n",
    "        if kwargs['f'] == 'delta':\n",
    "            self.p = self.delta()\n",
    "        elif kwargs['f'] == 'gauss':\n",
    "            self.X = np.random.normal(loc=kwargs['mu'], scale=kwargs['sigma'], size=dim)\n",
    "            if normalize:\n",
    "                self.scale = (self.X.max() - self.X.min())\n",
    "                self.X = self.X / self.scale\n",
    "            self.p = self.gauss(kwargs['mu'], kwargs['sigma'])\n",
    "        elif kwargs['f'] == 'uniform':\n",
    "            self.X = np.random.uniform(kwargs['min'], kwargs['max'], size=dim)\n",
    "            if normalize:\n",
    "                self.scale = (self.X.max() - self.X.min())\n",
    "                self.X = self.X / self.scale\n",
    "            self.p = self.uniform(kwargs['min'], kwargs['max'])\n",
    "        train_ratio = int(0.8*len(self.X))\n",
    "        self.X_train, self.X_test = self.X[:train_ratio], self.X[train_ratio:]\n",
    "        self.X_train, self.X_test  = Variable(Tensor(self.X_train)),Variable(Tensor(self.X_test))\n",
    "\n",
    "    def delta(self):\n",
    "        dim = self.X.shape\n",
    "        return np.where(self.X == 0, np.inf*np.ones(dim), np.zeros(dim))\n",
    "\n",
    "    def gauss(self, mu, sigma):\n",
    "        return np.exp(-0.5*((self.X-mu)/sigma)**2) / (np.sqrt(2*np.pi)*sigma)\n",
    "\n",
    "    def uniform(self, min, max):\n",
    "        dim = self.X.shape\n",
    "        return 1 / (max - min) * np.ones(dim)"
   ]
  },
  {
   "cell_type": "markdown",
   "metadata": {
    "id": "pMLsjD8D1ZAo"
   },
   "source": [
    "#### Generator and Discriminator"
   ]
  },
  {
   "cell_type": "code",
   "execution_count": null,
   "metadata": {
    "id": "D48sbaYqtfMG"
   },
   "outputs": [],
   "source": [
    "class Generator(nn.Module):\n",
    "\n",
    "    def __init__(self):\n",
    "        super(Generator, self).__init__()\n",
    "\n",
    "        self.model = nn.Sequential(\n",
    "                nn.Linear(1, 4),\n",
    "                nn.LeakyReLU(0.01),\n",
    "                nn.Linear(4,4),\n",
    "                nn.LeakyReLU(0.01),\n",
    "                nn.Linear(4,4),\n",
    "                nn.LeakyReLU(0.01),\n",
    "                nn.Linear(4, 1),\n",
    "                nn.Tanh()\n",
    "            )\n",
    "\n",
    "    def forward(self, z):\n",
    "        y_gen = self.model(z)\n",
    "        return y_gen\n",
    "\n",
    "\n",
    "class Discriminator(nn.Module):\n",
    "    def __init__(self):\n",
    "        super(Discriminator, self).__init__()\n",
    "        self.model = nn.Sequential(\n",
    "            nn.Flatten(),\n",
    "            nn.Linear(1, 8),   #8,\n",
    "            nn.ReLU(),\n",
    "            nn.Linear(8, 4),\n",
    "            nn.ReLU(),\n",
    "            nn.Linear(4, 1),\n",
    "            nn.Sigmoid(),\n",
    "        )\n",
    "\n",
    "    def forward(self, fn):\n",
    "        validity = self.model(fn)\n",
    "        return validity\n",
    "\n",
    "\n",
    "adversarial_loss = nn.BCELoss()"
   ]
  },
  {
   "cell_type": "markdown",
   "metadata": {
    "id": "CBrfk4oFx52X",
    "tags": []
   },
   "source": [
    "\n",
    "## **$\\mathcal{N}(0,1) \\to \\mathcal{N}(-200,1)$**"
   ]
  },
  {
   "cell_type": "markdown",
   "metadata": {
    "id": "aVIanmwMURJZ",
    "jp-MarkdownHeadingCollapsed": true,
    "tags": []
   },
   "source": [
    "### Vanilla GAN"
   ]
  },
  {
   "cell_type": "code",
   "execution_count": null,
   "metadata": {
    "id": "YTx3A6YIqqr9"
   },
   "outputs": [],
   "source": [
    "!rm -r Log\n",
    "!mkdir Log\n",
    "generator = Generator()\n",
    "discriminator = Discriminator()\n",
    "\n",
    "\n",
    "if cuda:\n",
    "    generator.cuda()\n",
    "    discriminator.cuda()\n",
    "    adversarial_loss.cuda()\n",
    "\n",
    "optimizer_G = torch.optim.Adam(generator.parameters(), lr=1e-3)\n",
    "optimizer_D = torch.optim.SGD(discriminator.parameters(), lr=1e-3)\n",
    "\n",
    "\n",
    "\n",
    "data_loader = DataModule(dim=(100,50,1), f='gauss', mu=-200, sigma=1)\n",
    "# data = DataModule(dim=(10,50,1), f='uniform', min=-12, max=500)\n",
    "Xt_train, Xt_test = data_loader.X_train, data_loader.X_test"
   ]
  },
  {
   "cell_type": "code",
   "execution_count": null,
   "metadata": {
    "colab": {
     "base_uri": "https://localhost:8080/",
     "height": 1000
    },
    "executionInfo": {
     "elapsed": 337498,
     "status": "ok",
     "timestamp": 1701790769097,
     "user": {
      "displayName": "Debanjan Dutta",
      "userId": "06129041946097564727"
     },
     "user_tz": -330
    },
    "id": "YJFaiEPAUhdh",
    "outputId": "9f5210ca-93be-45f2-b120-40e119240989"
   },
   "outputs": [],
   "source": [
    "\n",
    "epochs = 1000\n",
    "gloss, dloss = [], []\n",
    "for e in range(epochs):\n",
    "    for b, f in enumerate(data_loader.X_train):\n",
    "        dimn = (f.size(dim=0),  f.size(dim=1))\n",
    "\n",
    "        lbl_one = Variable(Tensor(np.ones(dimn)), requires_grad=False)\n",
    "        z = Variable(Tensor(np.random.normal(size=dimn)))\n",
    "        f_tilde = generator(z)\n",
    "\n",
    "        optimizer_D.zero_grad()\n",
    "        lbl_zero = Variable(Tensor(np.zeros(dimn)), requires_grad=False)\n",
    "        real_loss = adversarial_loss(discriminator(f), lbl_one)\n",
    "        fake_loss = adversarial_loss(discriminator(f_tilde), lbl_zero)\n",
    "        d_loss = (real_loss + fake_loss) / 2\n",
    "        d_loss.backward()\n",
    "        optimizer_D.step()\n",
    "\n",
    "        optimizer_G.zero_grad()\n",
    "        g_loss = adversarial_loss(discriminator(f_tilde.detach()), lbl_one)\n",
    "        g_loss.backward()\n",
    "        optimizer_G.step()\n",
    "        if (e%10 == 0):\n",
    "            torch.save(generator, \"./Log/Generaor_%d\"%(e))\n",
    "\n",
    "        # accuracy = Accuracy()\n",
    "        # b_acc = accuracy(discriminator(f_tilde.detach())>=0.5, lbl_zero.type(torch.int8))\n",
    "        sys.stdout.write(\"\\r[Epoch %d/%d] [Batch %d/%d] [D loss: %f] [G Loss: %f] [Generated: %f]\"%\n",
    "                         (e+1, epochs, b+1, len(Xt_train), d_loss.item(), g_loss.item(), torch.mean(f_tilde)))\n",
    "        # sys.stdout.write(\"\\r[Epoch %d/%d] [Batch %d/%d] [D loss: %f] [G Loss: %f] [Generated: %f]\"%\\\n",
    "                        # (e+1, epochs, b+1, len(data_loader), d_loss.item(), g_loss.item(), torch.mean(f_tilde)))\n",
    "    gloss.append(g_loss.item())\n",
    "    dloss.append(d_loss.item())\n",
    "\n",
    "    \n",
    "plt.plot(range(epochs), gloss)\n",
    "plt.plot(range(epochs), dloss)\n",
    "plt.show()"
   ]
  },
  {
   "cell_type": "markdown",
   "metadata": {
    "id": "brmuJstsnAwn"
   },
   "source": [
    "#### Analysis"
   ]
  },
  {
   "cell_type": "code",
   "execution_count": null,
   "metadata": {
    "colab": {
     "base_uri": "https://localhost:8080/",
     "height": 392
    },
    "executionInfo": {
     "elapsed": 2818,
     "status": "ok",
     "timestamp": 1701790799876,
     "user": {
      "displayName": "Debanjan Dutta",
      "userId": "06129041946097564727"
     },
     "user_tz": -330
    },
    "id": "hUQifNrNnAwo",
    "outputId": "64d4e80e-1588-40bb-8113-ec0f26dcef55"
   },
   "outputs": [],
   "source": [
    "noisetype = \"Normal(0,1)\"\n",
    "GAN = \"Vanilla GAN\"\n",
    "\n",
    "z = Variable(Tensor(np.random.normal(size=(1000,1))))\n",
    "f_tilde = (generator(z)).flatten() * data_loader.scale\n",
    "x1 = f_tilde.cpu().detach().numpy()\n",
    "x2 = Xt_test.flatten().cpu().detach().numpy() * data_loader.scale\n",
    "import scipy.stats as stats\n",
    "fig = plt.figure(figsize=(5,3))\n",
    "x1.sort()\n",
    "x2.sort()\n",
    "plt.scatter(x1, x2, label='Direct QQ-plot on Tar vs Gen', color='blue')\n",
    "# plt.xlabel('Target Data')\n",
    "# plt.ylabel('Generated Data')\n",
    "# plt.title('Given %s Noise Reach Normal(-200, 1) \\n after %d Epochs using %s'%(noisetype, epochs, GAN))\n",
    "plt.show()\n",
    "'https://github.com/eriklindernoren/PyTorch-GAN/blob/master/implementations/wgan/wgan.py'"
   ]
  },
  {
   "cell_type": "code",
   "execution_count": null,
   "metadata": {
    "colab": {
     "base_uri": "https://localhost:8080/",
     "height": 476
    },
    "executionInfo": {
     "elapsed": 1978,
     "status": "ok",
     "timestamp": 1701790807272,
     "user": {
      "displayName": "Debanjan Dutta",
      "userId": "06129041946097564727"
     },
     "user_tz": -330
    },
    "id": "ZgRjsqKanAwp",
    "outputId": "eca01379-4026-44ec-b796-c9c5db675637"
   },
   "outputs": [],
   "source": [
    "# x1 = (x1+200)/500\n",
    "hist = torch.histc(torch.tensor(x1), bins=10, min=x1.min(), max=x1.max())\n",
    "bins = 10\n",
    "x = range(bins)\n",
    "plt.bar(x, hist, align='center')\n",
    "plt.xlabel('Bins')"
   ]
  },
  {
   "cell_type": "code",
   "execution_count": null,
   "metadata": {
    "colab": {
     "base_uri": "https://localhost:8080/"
    },
    "executionInfo": {
     "elapsed": 3,
     "status": "ok",
     "timestamp": 1701791443871,
     "user": {
      "displayName": "Debanjan Dutta",
      "userId": "06129041946097564727"
     },
     "user_tz": -330
    },
    "id": "lU-8sHDvnAwp",
    "outputId": "7d636fdd-1bca-468e-cb0b-c032a726ed66"
   },
   "outputs": [],
   "source": [
    "res = stats.anderson(x1, dist='norm')\n",
    "print(res)"
   ]
  },
  {
   "cell_type": "code",
   "execution_count": null,
   "metadata": {},
   "outputs": [],
   "source": [
    "with open(\"./M/RUN2/N/VGAN.txt\", \"w\") as f:\n",
    "    for x, y in zip(x1, x2):\n",
    "        f.write(str(x) + ',' + str(y)+ '\\n')\n",
    "f.close()"
   ]
  },
  {
   "cell_type": "markdown",
   "metadata": {
    "id": "DePAnR_hs_vd",
    "jp-MarkdownHeadingCollapsed": true,
    "tags": []
   },
   "source": [
    "### W-GAN"
   ]
  },
  {
   "cell_type": "code",
   "execution_count": null,
   "metadata": {
    "id": "S40TenbquBTK"
   },
   "outputs": [],
   "source": [
    "\n",
    "generator = Generator()\n",
    "discriminator = Discriminator()\n",
    "\n",
    "\n",
    "if cuda:\n",
    "    generator.cuda()\n",
    "    discriminator.cuda()\n",
    "    adversarial_loss.cuda()\n",
    "\n",
    "optimizer_G = torch.optim.Adam(generator.parameters(), lr=1e-3)\n",
    "optimizer_D = torch.optim.SGD(discriminator.parameters(), lr=1e-3)\n",
    "\n",
    "\n",
    "data_loader = DataModule(dim=(100,50,1), f='gauss', mu=-200, sigma=1)\n",
    "# data = DataModule(dim=(10,50,1), f='uniform', min=-12, max=500)\n",
    "Xt_train, Xt_test = data_loader.X_train, data_loader.X_test"
   ]
  },
  {
   "cell_type": "code",
   "execution_count": null,
   "metadata": {
    "colab": {
     "base_uri": "https://localhost:8080/",
     "height": 452
    },
    "executionInfo": {
     "elapsed": 132461,
     "status": "ok",
     "timestamp": 1701791817577,
     "user": {
      "displayName": "Debanjan Dutta",
      "userId": "06129041946097564727"
     },
     "user_tz": -330
    },
    "id": "6kEtWBVAtDdh",
    "outputId": "b2a95c39-734d-47c8-f190-b6bf82e0a077"
   },
   "outputs": [],
   "source": [
    "\n",
    "epochs = 200\n",
    "gloss, dloss = [], []\n",
    "clip_value = 0.2\n",
    "n_critic = 7\n",
    "\n",
    "\n",
    "batches_done = 0\n",
    "for e in range(epochs):\n",
    "    for b, f in enumerate(data_loader.X_train):\n",
    "        dimn = (f.size(dim=0),  f.size(dim=1))\n",
    "\n",
    "        z = Variable(Tensor(np.random.normal(size=dimn)))\n",
    "\n",
    "        # ---------------------\n",
    "        #  Train Discriminator\n",
    "        # ---------------------\n",
    "\n",
    "        optimizer_D.zero_grad()\n",
    "\n",
    "\n",
    "        # Generate a batch of images\n",
    "        f_tilde = generator(z).detach()\n",
    "        # Adversarial loss\n",
    "        d_loss = -torch.mean(discriminator(f)) + torch.mean(discriminator(f_tilde))\n",
    "\n",
    "        d_loss.backward()\n",
    "        optimizer_D.step()\n",
    "\n",
    "        # Clip weights of discriminator\n",
    "        for p in discriminator.parameters():\n",
    "            p.data.clamp_(-clip_value, clip_value)\n",
    "\n",
    "        # Train the generator every n_critic iterations\n",
    "        if e % n_critic == 0:\n",
    "\n",
    "            # -----------------\n",
    "            #  Train Generator\n",
    "            # -----------------\n",
    "\n",
    "            optimizer_G.zero_grad()\n",
    "\n",
    "            # Generate a batch of images\n",
    "            f_tilde = generator(z)\n",
    "            # Adversarial loss\n",
    "            g_loss = -torch.mean(discriminator(f_tilde))\n",
    "\n",
    "            g_loss.backward()\n",
    "            optimizer_G.step()\n",
    "\n",
    "        sys.stdout.write(\"\\r[Epoch %d/%d] [Batch %d/%d] [D loss: %f] [G Loss: %f] [Generated: %f]\"%\n",
    "                         (e+1, epochs, b+1, len(Xt_train), d_loss.item(), g_loss.item(), torch.mean(f_tilde)))\n",
    "\n",
    "        batches_done += 1\n",
    "    gloss.append(g_loss.item())\n",
    "    dloss.append(d_loss.item())\n",
    "\n",
    "plt.plot(range(epochs), gloss)\n",
    "plt.plot(range(epochs), dloss)\n",
    "plt.show()"
   ]
  },
  {
   "cell_type": "markdown",
   "metadata": {
    "id": "O1geUjKInfRd"
   },
   "source": [
    "#### Analysis of W-GAN"
   ]
  },
  {
   "cell_type": "code",
   "execution_count": null,
   "metadata": {
    "colab": {
     "base_uri": "https://localhost:8080/",
     "height": 392
    },
    "executionInfo": {
     "elapsed": 924,
     "status": "ok",
     "timestamp": 1701791874809,
     "user": {
      "displayName": "Debanjan Dutta",
      "userId": "06129041946097564727"
     },
     "user_tz": -330
    },
    "id": "eoPZyUUZnfRe",
    "outputId": "a478755f-5492-4c35-d99b-8b09254d17a3"
   },
   "outputs": [],
   "source": [
    "noisetype = \"Normal(0,1)\"\n",
    "GAN = \"W-GAN\"\n",
    "\n",
    "z = Variable(Tensor(np.random.normal(size=(1000,1))))\n",
    "f_tilde = (generator(z)).flatten() * data_loader.scale\n",
    "x1 = f_tilde.cpu().detach().numpy()\n",
    "x2 = Xt_test.flatten().cpu().detach().numpy() * data_loader.scale\n",
    "import scipy.stats as stats\n",
    "fig = plt.figure(figsize=(5,3))\n",
    "x1.sort()\n",
    "x2.sort()\n",
    "plt.scatter(x1, x2, label='Direct QQ-plot on Tar vs Gen', color='blue')\n",
    "# plt.xlabel('Target Data')\n",
    "# plt.ylabel('Generated Data')\n",
    "# plt.title('Given %s Noise Reach Normal(-200, 1) \\n after %d Epochs using %s GAN'%(noisetype, 1000, GAN))\n",
    "plt.show()\n",
    "'https://github.com/eriklindernoren/PyTorch-GAN/blob/master/implementations/wgan/wgan.py'"
   ]
  },
  {
   "cell_type": "code",
   "execution_count": null,
   "metadata": {
    "colab": {
     "base_uri": "https://localhost:8080/",
     "height": 483
    },
    "executionInfo": {
     "elapsed": 639,
     "status": "ok",
     "timestamp": 1701791880154,
     "user": {
      "displayName": "Debanjan Dutta",
      "userId": "06129041946097564727"
     },
     "user_tz": -330
    },
    "id": "DdR1yGFQnfRe",
    "outputId": "8ceec734-7046-4036-f72e-69b2be6995f0"
   },
   "outputs": [],
   "source": [
    "# x1 = (x1+200)/500\n",
    "hist = torch.histc(torch.tensor(x1), bins=10, min=x1.min(), max=x1.max())\n",
    "bins = 10\n",
    "x = range(bins)\n",
    "plt.bar(x, hist, align='center')\n",
    "plt.xlabel('Bins')"
   ]
  },
  {
   "cell_type": "code",
   "execution_count": null,
   "metadata": {
    "colab": {
     "base_uri": "https://localhost:8080/"
    },
    "executionInfo": {
     "elapsed": 508,
     "status": "ok",
     "timestamp": 1701791885457,
     "user": {
      "displayName": "Debanjan Dutta",
      "userId": "06129041946097564727"
     },
     "user_tz": -330
    },
    "id": "PBMKgyHYnfRf",
    "outputId": "b585911e-1e53-4d38-e174-77f22fdb88e4"
   },
   "outputs": [],
   "source": [
    "stats.anderson(x1, dist='norm')"
   ]
  },
  {
   "cell_type": "code",
   "execution_count": null,
   "metadata": {},
   "outputs": [],
   "source": [
    "with open(\"./M/RUN2/N/WGAN.txt\", \"w\") as f:\n",
    "    for x, y in zip(x1, x2):\n",
    "        f.write(str(x) + ',' + str(y)+ '\\n')\n",
    "f.close()"
   ]
  },
  {
   "cell_type": "markdown",
   "metadata": {
    "id": "cO3k-JitqSLp",
    "jp-MarkdownHeadingCollapsed": true,
    "tags": []
   },
   "source": [
    "### LS-GAN\n"
   ]
  },
  {
   "cell_type": "code",
   "execution_count": null,
   "metadata": {
    "id": "RTK5g_6zt7gP"
   },
   "outputs": [],
   "source": [
    "'https://github.com/meliketoy/LSGAN.pytorch/blob/master/main.py'\n",
    "generator = Generator()\n",
    "discriminator = Discriminator()\n",
    "\n",
    "\n",
    "if cuda:\n",
    "    generator.cuda()\n",
    "    discriminator.cuda()\n",
    "    adversarial_loss.cuda()\n",
    "\n",
    "optimizer_G = torch.optim.Adam(generator.parameters(), lr=1e-3)\n",
    "optimizer_D = torch.optim.SGD(discriminator.parameters(), lr=1e-3)\n",
    "\n",
    "\n",
    "\n",
    "data_loader = DataModule(dim=(100,50,1), f='gauss', mu=-200, sigma=1, normalize=False)\n",
    "# data = DataModule(dim=(10,50,1), f='uniform', min=-12, max=500)\n",
    "Xt_train, Xt_test = data_loader.X_train, data_loader.X_test"
   ]
  },
  {
   "cell_type": "code",
   "execution_count": null,
   "metadata": {
    "colab": {
     "base_uri": "https://localhost:8080/",
     "height": 1000
    },
    "executionInfo": {
     "elapsed": 85132,
     "status": "ok",
     "timestamp": 1701794046604,
     "user": {
      "displayName": "Debanjan Dutta",
      "userId": "06129041946097564727"
     },
     "user_tz": -330
    },
    "id": "ferdYRyKqWjg",
    "outputId": "49605c95-239e-442e-8f84-025d3b44daef"
   },
   "outputs": [],
   "source": [
    "\n",
    "epochs = 400\n",
    "gloss, dloss = [], []\n",
    "for e in range(epochs):\n",
    "    for b, f in enumerate(data_loader.X_train):\n",
    "        dimn = (f.size(dim=0),  f.size(dim=1))\n",
    "\n",
    "        lbl_one = Variable(Tensor(np.ones(dimn)), requires_grad=False)\n",
    "        z = Variable(Tensor(np.random.normal(size=dimn)))\n",
    "        f_tilde = generator(z)\n",
    "\n",
    "        optimizer_D.zero_grad()\n",
    "        lbl_zero = Variable(Tensor(np.zeros(dimn)), requires_grad=False)\n",
    "        errD_real = 0.5 * torch.mean((discriminator(f) - lbl_one)**2)\n",
    "        errD_fake = 0.5 * torch.mean((discriminator(f_tilde) - lbl_zero)**2)\n",
    "        d_loss = (errD_fake + errD_real) / 2\n",
    "        d_loss.backward()\n",
    "        optimizer_D.step()\n",
    "\n",
    "        optimizer_G.zero_grad()\n",
    "        g_loss = 0.5 * torch.mean((discriminator(f_tilde.detach()) - lbl_one)**2) # criterion(output, label)\n",
    "        g_loss.backward()\n",
    "        optimizer_G.step()\n",
    "\n",
    "        # accuracy = Accuracy()\n",
    "        # b_acc = accuracy(discriminator(f_tilde.detach())>=0.5, lbl_zero.type(torch.int8))\n",
    "        sys.stdout.write(\"\\r[Epoch %d/%d] [Batch %d/%d] [D loss: %f] [G Loss: %f] [Generated: %f]\"%\n",
    "                         (e+1, epochs, b+1, len(Xt_train), d_loss.item(), g_loss.item(), torch.mean(f_tilde)))\n",
    "        # sys.stdout.write(\"\\r[Epoch %d/%d] [Batch %d/%d] [D loss: %f] [G Loss: %f] [Generated: %f]\"%\\\n",
    "                        # (e+1, epochs, b+1, len(data_loader), d_loss.item(), g_loss.item(), torch.mean(f_tilde)))\n",
    "    gloss.append(g_loss.item())\n",
    "    dloss.append(d_loss.item())\n",
    "\n",
    "plt.plot(range(epochs), gloss)\n",
    "plt.plot(range(epochs), dloss)\n",
    "plt.show()"
   ]
  },
  {
   "cell_type": "markdown",
   "metadata": {
    "id": "KhiuaGKrqNrJ"
   },
   "source": [
    "#### Analysis of LSGAN"
   ]
  },
  {
   "cell_type": "code",
   "execution_count": null,
   "metadata": {
    "colab": {
     "base_uri": "https://localhost:8080/",
     "height": 392
    },
    "executionInfo": {
     "elapsed": 1099,
     "status": "ok",
     "timestamp": 1701794047696,
     "user": {
      "displayName": "Debanjan Dutta",
      "userId": "06129041946097564727"
     },
     "user_tz": -330
    },
    "id": "OExKkaN85Urn",
    "outputId": "f6f5d03f-45f8-4af8-b356-ae9adc0e6548"
   },
   "outputs": [],
   "source": [
    "noisetype = \"Normal(0,1)\"\n",
    "GAN = \"LSGAN\"\n",
    "\n",
    "z = Variable(Tensor(np.random.normal(size=(1000,1))))\n",
    "f_tilde = (generator(z)).flatten()\n",
    "x1 = f_tilde.detach().cpu().numpy()\n",
    "x2 = Xt_test.flatten().detach().cpu().numpy()\n",
    "import scipy.stats as stats\n",
    "fig = plt.figure(figsize=(5,3))\n",
    "x1.sort()\n",
    "x2.sort()\n",
    "plt.scatter(x1, x2, label='Direct QQ-plot on Tar vs Gen', color='blue')\n",
    "# plt.xlabel('Target Data')\n",
    "# plt.ylabel('Generated Data')\n",
    "# plt.title('Given %s Noise Reach Normal(-200, 1) \\n after %d Epochs using %s'%(noisetype, epochs, GAN))\n",
    "plt.show()\n",
    "'https://github.com/eriklindernoren/PyTorch-GAN/blob/master/implementations/wgan/wgan.py'"
   ]
  },
  {
   "cell_type": "code",
   "execution_count": null,
   "metadata": {
    "colab": {
     "base_uri": "https://localhost:8080/",
     "height": 476
    },
    "executionInfo": {
     "elapsed": 38,
     "status": "ok",
     "timestamp": 1701794047697,
     "user": {
      "displayName": "Debanjan Dutta",
      "userId": "06129041946097564727"
     },
     "user_tz": -330
    },
    "id": "E9QwZPeZoro4",
    "outputId": "1b07ae1b-3c3e-474c-a014-d34146a7728c"
   },
   "outputs": [],
   "source": [
    "# x1 = (x1+200)/500\n",
    "hist = torch.histc(torch.tensor(x1), bins=10, min=x1.min(), max=x1.max())\n",
    "bins = 10\n",
    "x = range(bins)\n",
    "plt.bar(x, hist, align='center')\n",
    "plt.xlabel('Bins')"
   ]
  },
  {
   "cell_type": "code",
   "execution_count": null,
   "metadata": {
    "colab": {
     "base_uri": "https://localhost:8080/"
    },
    "executionInfo": {
     "elapsed": 35,
     "status": "ok",
     "timestamp": 1701794047698,
     "user": {
      "displayName": "Debanjan Dutta",
      "userId": "06129041946097564727"
     },
     "user_tz": -330
    },
    "id": "ss1Wk0sOs30v",
    "outputId": "f41eecb7-7141-4914-b513-fbe7499130aa"
   },
   "outputs": [],
   "source": [
    "stats.anderson(x1, dist='norm')"
   ]
  },
  {
   "cell_type": "code",
   "execution_count": null,
   "metadata": {},
   "outputs": [],
   "source": [
    "with open(\"./M/RUN2/N/LSGAN.txt\", \"w\") as f:\n",
    "    for x, y in zip(x1, x2):\n",
    "        f.write(str(x) + ',' + str(y)+ '\\n')\n",
    "f.close()"
   ]
  },
  {
   "cell_type": "markdown",
   "metadata": {
    "id": "ggAZCU1H0Skb",
    "jp-MarkdownHeadingCollapsed": true,
    "tags": []
   },
   "source": [
    "\n",
    "## End of Part I\n",
    "---\n",
    "\n",
    "\n",
    "\n",
    "---\n",
    "\n",
    "\n",
    "\n",
    "---\n",
    "\n"
   ]
  },
  {
   "cell_type": "markdown",
   "metadata": {
    "id": "Me-fqJrhw7WL",
    "tags": []
   },
   "source": [
    "## **$\\mathcal{U}(0,1) \\to \\mathcal{N}(-200,1)$**"
   ]
  },
  {
   "cell_type": "markdown",
   "metadata": {
    "id": "GAP1PTwmwuCF",
    "jp-MarkdownHeadingCollapsed": true,
    "tags": []
   },
   "source": [
    "### Vanilla GAN\n"
   ]
  },
  {
   "cell_type": "code",
   "execution_count": null,
   "metadata": {
    "id": "1aslLf9CwuCG"
   },
   "outputs": [],
   "source": [
    "!rm -r Log2\n",
    "!mkdir Log2\n",
    "generator = Generator()\n",
    "discriminator = Discriminator()\n",
    "\n",
    "\n",
    "if cuda:\n",
    "    generator.cuda()\n",
    "    discriminator.cuda()\n",
    "    adversarial_loss.cuda()\n",
    "\n",
    "optimizer_G = torch.optim.Adam(generator.parameters(), lr=1e-3)\n",
    "optimizer_D = torch.optim.SGD(discriminator.parameters(), lr=1e-3)\n",
    "\n",
    "\n",
    "\n",
    "data_loader = DataModule(dim=(100,50,1), f='gauss', mu=-200, sigma=1)\n",
    "# data = DataModule(dim=(10,50,1), f='uniform', min=-12, max=500)\n",
    "Xt_train, Xt_test = data_loader.X_train, data_loader.X_test"
   ]
  },
  {
   "cell_type": "code",
   "execution_count": null,
   "metadata": {
    "colab": {
     "base_uri": "https://localhost:8080/",
     "height": 1000
    },
    "executionInfo": {
     "elapsed": 297052,
     "status": "ok",
     "timestamp": 1701795850470,
     "user": {
      "displayName": "Debanjan Dutta",
      "userId": "06129041946097564727"
     },
     "user_tz": -330
    },
    "id": "OygjUECWwuCG",
    "outputId": "f5da4dc5-63f8-40b2-813d-33c0fa30e70f"
   },
   "outputs": [],
   "source": [
    "\n",
    "epochs = 1000\n",
    "gloss, dloss = [], []\n",
    "for e in range(epochs):\n",
    "    for b, f in enumerate(data_loader.X_train):\n",
    "        dimn = (f.size(dim=0),  f.size(dim=1))\n",
    "\n",
    "        lbl_one = Variable(Tensor(np.ones(dimn)), requires_grad=False)\n",
    "        z = Variable(Tensor(np.random.random(size=dimn)))\n",
    "        f_tilde = generator(z)\n",
    "\n",
    "        optimizer_D.zero_grad()\n",
    "        lbl_zero = Variable(Tensor(np.zeros(dimn)), requires_grad=False)\n",
    "        real_loss = adversarial_loss(discriminator(f), lbl_one)\n",
    "        fake_loss = adversarial_loss(discriminator(f_tilde), lbl_zero)\n",
    "        d_loss = (real_loss + fake_loss) / 2\n",
    "        d_loss.backward()\n",
    "        optimizer_D.step()\n",
    "\n",
    "        optimizer_G.zero_grad()\n",
    "        g_loss = adversarial_loss(discriminator(f_tilde.detach()), lbl_one)\n",
    "        g_loss.backward()\n",
    "        optimizer_G.step()\n",
    "        if (e%10 == 0):\n",
    "            torch.save(generator, \"./Log/Generaor_%d\"%(e))\n",
    "\n",
    "        # accuracy = Accuracy()\n",
    "        # b_acc = accuracy(discriminator(f_tilde.detach())>=0.5, lbl_zero.type(torch.int8))\n",
    "        sys.stdout.write(\"\\r[Epoch %d/%d] [Batch %d/%d] [D loss: %f] [G Loss: %f] [Generated: %f]\"%\n",
    "                         (e+1, epochs, b+1, len(Xt_train), d_loss.item(), g_loss.item(), torch.mean(f_tilde)))\n",
    "        # sys.stdout.write(\"\\r[Epoch %d/%d] [Batch %d/%d] [D loss: %f] [G Loss: %f] [Generated: %f]\"%\\\n",
    "                        # (e+1, epochs, b+1, len(data_loader), d_loss.item(), g_loss.item(), torch.mean(f_tilde)))\n",
    "    gloss.append(g_loss.item())\n",
    "    dloss.append(d_loss.item())\n",
    "\n",
    "plt.plot(range(epochs), gloss)\n",
    "plt.plot(range(epochs), dloss)\n",
    "plt.show()"
   ]
  },
  {
   "cell_type": "markdown",
   "metadata": {
    "id": "2Wox2KYmwuCH"
   },
   "source": [
    "#### Analysis"
   ]
  },
  {
   "cell_type": "code",
   "execution_count": null,
   "metadata": {
    "colab": {
     "base_uri": "https://localhost:8080/",
     "height": 392
    },
    "executionInfo": {
     "elapsed": 1210,
     "status": "ok",
     "timestamp": 1701795851674,
     "user": {
      "displayName": "Debanjan Dutta",
      "userId": "06129041946097564727"
     },
     "user_tz": -330
    },
    "id": "EB31_KpCwuCH",
    "outputId": "30b86770-ec0b-4169-88d4-11c657d65aaf"
   },
   "outputs": [],
   "source": [
    "noisetype = \"Uniform(0,1)\"\n",
    "GAN = \"Vanilla GAN\"\n",
    "\n",
    "z = Variable(Tensor(np.random.random(size=(1000,1))))\n",
    "f_tilde = (generator(z)).flatten() * data_loader.scale\n",
    "x1 = f_tilde.cpu().detach().numpy()\n",
    "x2 = Xt_test.flatten().cpu().detach().numpy() * data_loader.scale\n",
    "import scipy.stats as stats\n",
    "fig = plt.figure(figsize=(5,3))\n",
    "x1.sort()\n",
    "x2.sort()\n",
    "plt.scatter(x1, x2, label='Direct QQ-plot on Tar vs Gen', color='blue')\n",
    "# plt.xlabel('Target Data')\n",
    "# plt.ylabel('Generated Data')\n",
    "# plt.title('Given %s Noise Reach Normal(-200, 1) \\n after %d Epochs using %s'%(noisetype, epochs, GAN))\n",
    "plt.show()\n",
    "'https://github.com/eriklindernoren/PyTorch-GAN/blob/master/implementations/wgan/wgan.py'"
   ]
  },
  {
   "cell_type": "code",
   "execution_count": null,
   "metadata": {
    "colab": {
     "base_uri": "https://localhost:8080/",
     "height": 482
    },
    "executionInfo": {
     "elapsed": 13,
     "status": "ok",
     "timestamp": 1701795851675,
     "user": {
      "displayName": "Debanjan Dutta",
      "userId": "06129041946097564727"
     },
     "user_tz": -330
    },
    "id": "gYG8oNaWwuCH",
    "outputId": "d96893ca-f6f1-4ea9-9d69-e23298f2ec07"
   },
   "outputs": [],
   "source": [
    "# x1 = (x1+200)/500\n",
    "hist = torch.histc(torch.tensor(x1), bins=10, min=x1.min(), max=x1.max())\n",
    "bins = 10\n",
    "x = range(bins)\n",
    "plt.bar(x, hist, align='center')\n",
    "plt.xlabel('Bins')"
   ]
  },
  {
   "cell_type": "code",
   "execution_count": null,
   "metadata": {
    "colab": {
     "base_uri": "https://localhost:8080/"
    },
    "executionInfo": {
     "elapsed": 9,
     "status": "ok",
     "timestamp": 1701795851675,
     "user": {
      "displayName": "Debanjan Dutta",
      "userId": "06129041946097564727"
     },
     "user_tz": -330
    },
    "id": "P3wLQx9uwuCI",
    "outputId": "63c66a25-fe53-4e64-bb81-0bdb8096b3b8"
   },
   "outputs": [],
   "source": [
    "stats.anderson(x1, dist='norm')"
   ]
  },
  {
   "cell_type": "code",
   "execution_count": null,
   "metadata": {},
   "outputs": [],
   "source": [
    "with open(\"./M/RUN2/U(0,1)toN(-200,1)/VGAN.txt\", \"w\") as f:\n",
    "    for x, y in zip(x1, x2):\n",
    "        f.write(str(x) + ',' + str(y)+ '\\n')\n",
    "f.close()"
   ]
  },
  {
   "cell_type": "markdown",
   "metadata": {
    "id": "6aEoY5MfwuCI",
    "jp-MarkdownHeadingCollapsed": true,
    "tags": []
   },
   "source": [
    "### W-GAN"
   ]
  },
  {
   "cell_type": "code",
   "execution_count": null,
   "metadata": {
    "id": "FsCrXHytwuCI"
   },
   "outputs": [],
   "source": [
    "\n",
    "generator = Generator()\n",
    "discriminator = Discriminator()\n",
    "\n",
    "\n",
    "if cuda:\n",
    "    generator.cuda()\n",
    "    discriminator.cuda()\n",
    "    adversarial_loss.cuda()\n",
    "\n",
    "optimizer_G = torch.optim.Adam(generator.parameters(), lr=1e-3)\n",
    "optimizer_D = torch.optim.SGD(discriminator.parameters(), lr=1e-3)\n",
    "\n",
    "\n",
    "data_loader = DataModule(dim=(100,50,1), f='gauss', mu=-200, sigma=1)\n",
    "# data = DataModule(dim=(10,50,1), f='uniform', min=-12, max=500)\n",
    "Xt_train, Xt_test = data_loader.X_train, data_loader.X_test"
   ]
  },
  {
   "cell_type": "code",
   "execution_count": null,
   "metadata": {
    "colab": {
     "base_uri": "https://localhost:8080/",
     "height": 452
    },
    "executionInfo": {
     "elapsed": 191267,
     "status": "ok",
     "timestamp": 1701796044057,
     "user": {
      "displayName": "Debanjan Dutta",
      "userId": "06129041946097564727"
     },
     "user_tz": -330
    },
    "id": "k-pNuo6nwuCI",
    "outputId": "563cb36c-73c2-4892-ecb2-274c6958a99b"
   },
   "outputs": [],
   "source": [
    "\n",
    "epochs = 400\n",
    "gloss, dloss = [], []\n",
    "clip_value = 0.2\n",
    "n_critic = 7\n",
    "\n",
    "\n",
    "batches_done = 0\n",
    "for e in range(epochs):\n",
    "    for b, f in enumerate(data_loader.X_train):\n",
    "        dimn = (f.size(dim=0),  f.size(dim=1))\n",
    "\n",
    "        z = Variable(Tensor(np.random.random(size=dimn)))\n",
    "\n",
    "        # ---------------------\n",
    "        #  Train Discriminator\n",
    "        # ---------------------\n",
    "\n",
    "        optimizer_D.zero_grad()\n",
    "\n",
    "\n",
    "        # Generate a batch of images\n",
    "        f_tilde = generator(z).detach()\n",
    "        # Adversarial loss\n",
    "        d_loss = -torch.mean(discriminator(f)) + torch.mean(discriminator(f_tilde))\n",
    "\n",
    "        d_loss.backward()\n",
    "        optimizer_D.step()\n",
    "\n",
    "        # Clip weights of discriminator\n",
    "        for p in discriminator.parameters():\n",
    "            p.data.clamp_(-clip_value, clip_value)\n",
    "\n",
    "        # Train the generator every n_critic iterations\n",
    "        if e % n_critic == 0:\n",
    "\n",
    "            # -----------------\n",
    "            #  Train Generator\n",
    "            # -----------------\n",
    "\n",
    "            optimizer_G.zero_grad()\n",
    "\n",
    "            # Generate a batch of images\n",
    "            f_tilde = generator(z)\n",
    "            # Adversarial loss\n",
    "            g_loss = -torch.mean(discriminator(f_tilde))\n",
    "\n",
    "            g_loss.backward()\n",
    "            optimizer_G.step()\n",
    "\n",
    "        sys.stdout.write(\"\\r[Epoch %d/%d] [Batch %d/%d] [D loss: %f] [G Loss: %f] [Generated: %f]\"%\n",
    "                         (e+1, epochs, b+1, len(Xt_train), d_loss.item(), g_loss.item(), torch.mean(f_tilde)))\n",
    "\n",
    "        batches_done += 1\n",
    "    gloss.append(g_loss.item())\n",
    "    dloss.append(d_loss.item())\n",
    "\n",
    "plt.plot(range(epochs), gloss)\n",
    "plt.plot(range(epochs), dloss)\n",
    "plt.show()"
   ]
  },
  {
   "cell_type": "markdown",
   "metadata": {
    "id": "mmvoARxNwuCJ"
   },
   "source": [
    "#### Analysis of W-GAN"
   ]
  },
  {
   "cell_type": "code",
   "execution_count": null,
   "metadata": {
    "colab": {
     "base_uri": "https://localhost:8080/",
     "height": 392
    },
    "executionInfo": {
     "elapsed": 1389,
     "status": "ok",
     "timestamp": 1701796045440,
     "user": {
      "displayName": "Debanjan Dutta",
      "userId": "06129041946097564727"
     },
     "user_tz": -330
    },
    "id": "SXkPxVZLwuCJ",
    "outputId": "11d79138-a7a5-4d2a-9f85-3e4007676e89"
   },
   "outputs": [],
   "source": [
    "noisetype = \"Uniform(0,1)\"\n",
    "GAN = \"W-GAN\"\n",
    "\n",
    "z = Variable(Tensor(np.random.random(size=(1000,1))))\n",
    "f_tilde = (generator(z)).flatten() * data_loader.scale\n",
    "x1 = f_tilde.cpu().detach().numpy()\n",
    "x2 = Xt_test.flatten().cpu().detach().numpy() * data_loader.scale\n",
    "import scipy.stats as stats\n",
    "fig = plt.figure(figsize=(5,3))\n",
    "x1.sort()\n",
    "x2.sort()\n",
    "plt.scatter(x1, x2, label='Direct QQ-plot on Tar vs Gen', color='blue')\n",
    "# plt.xlabel('Target Data')\n",
    "# plt.ylabel('Generated Data')\n",
    "# plt.title('Given %s Noise Reach Normal(-200, 1) \\n after %d Epochs using %s GAN'%(noisetype, 1400, GAN))\n",
    "plt.show()\n",
    "'https://github.com/eriklindernoren/PyTorch-GAN/blob/master/implementations/wgan/wgan.py'"
   ]
  },
  {
   "cell_type": "code",
   "execution_count": null,
   "metadata": {
    "colab": {
     "base_uri": "https://localhost:8080/",
     "height": 476
    },
    "executionInfo": {
     "elapsed": 965,
     "status": "ok",
     "timestamp": 1701796046398,
     "user": {
      "displayName": "Debanjan Dutta",
      "userId": "06129041946097564727"
     },
     "user_tz": -330
    },
    "id": "_tVklASAwuCJ",
    "outputId": "82e446bb-05c4-4713-8df1-73a769bf0e65"
   },
   "outputs": [],
   "source": [
    "# x1 = (x1+200)/500\n",
    "hist = torch.histc(torch.tensor(x1), bins=10, min=x1.min(), max=x1.max())\n",
    "bins = 10\n",
    "x = range(bins)\n",
    "plt.bar(x, hist, align='center')\n",
    "plt.xlabel('Bins')"
   ]
  },
  {
   "cell_type": "code",
   "execution_count": null,
   "metadata": {
    "colab": {
     "base_uri": "https://localhost:8080/"
    },
    "executionInfo": {
     "elapsed": 10,
     "status": "ok",
     "timestamp": 1701796046398,
     "user": {
      "displayName": "Debanjan Dutta",
      "userId": "06129041946097564727"
     },
     "user_tz": -330
    },
    "id": "_HSiib8bwuCK",
    "outputId": "074fad81-ba02-4ff6-f1fc-e7d3831fec00"
   },
   "outputs": [],
   "source": [
    "stats.anderson(x1, dist='norm')"
   ]
  },
  {
   "cell_type": "code",
   "execution_count": null,
   "metadata": {},
   "outputs": [],
   "source": [
    "with open(\"./M/RUN2/U(0,1)toN(-200,1)/WGAN.txt\", \"w\") as f:\n",
    "    for x, y in zip(x1, x2):\n",
    "        f.write(str(x) + ',' + str(y)+ '\\n')\n",
    "f.close()"
   ]
  },
  {
   "cell_type": "markdown",
   "metadata": {
    "id": "G0PHSKuZwuCK",
    "jp-MarkdownHeadingCollapsed": true,
    "tags": []
   },
   "source": [
    "### LS-GAN"
   ]
  },
  {
   "cell_type": "code",
   "execution_count": null,
   "metadata": {
    "id": "RGX-S2rSwuCL"
   },
   "outputs": [],
   "source": [
    "'https://github.com/meliketoy/LSGAN.pytorch/blob/master/main.py'\n",
    "generator = Generator()\n",
    "discriminator = Discriminator()\n",
    "\n",
    "\n",
    "if cuda:\n",
    "    generator.cuda()\n",
    "    discriminator.cuda()\n",
    "    adversarial_loss.cuda()\n",
    "\n",
    "optimizer_G = torch.optim.Adam(generator.parameters(), lr=1e-3)\n",
    "optimizer_D = torch.optim.SGD(discriminator.parameters(), lr=1e-3)\n",
    "\n",
    "\n",
    "# data_loader = DataModule(dim=(100,50,1), f='gauss', mu=-200, sigma=1, normalize=True)\n",
    "data_loader = DataModule(dim=(100,50,1), f='gauss', mu=-200, sigma=1, normalize=False)\n",
    "Xt_train, Xt_test = data_loader.X_train, data_loader.X_test"
   ]
  },
  {
   "cell_type": "code",
   "execution_count": null,
   "metadata": {
    "colab": {
     "base_uri": "https://localhost:8080/",
     "height": 1000
    },
    "executionInfo": {
     "elapsed": 114526,
     "status": "ok",
     "timestamp": 1701795108242,
     "user": {
      "displayName": "Debanjan Dutta",
      "userId": "06129041946097564727"
     },
     "user_tz": -330
    },
    "id": "jNjz5cETwuCL",
    "outputId": "6f6f2f03-e027-4947-9436-ada2f4675323"
   },
   "outputs": [],
   "source": [
    "\n",
    "epochs = 400\n",
    "gloss, dloss = [], []\n",
    "for e in range(epochs):\n",
    "    for b, f in enumerate(data_loader.X_train):\n",
    "        dimn = (f.size(dim=0),  f.size(dim=1))\n",
    "\n",
    "        lbl_one = Variable(Tensor(np.ones(dimn)), requires_grad=False)\n",
    "        z = Variable(Tensor(np.random.random(size=dimn)))\n",
    "        f_tilde = generator(z)\n",
    "\n",
    "        optimizer_D.zero_grad()\n",
    "        lbl_zero = Variable(Tensor(np.zeros(dimn)), requires_grad=False)\n",
    "        errD_real = 0.5 * torch.mean((discriminator(f) - lbl_one)**2)\n",
    "        errD_fake = 0.5 * torch.mean((discriminator(f_tilde) - lbl_zero)**2)\n",
    "        d_loss = (errD_fake + errD_real) / 2\n",
    "        d_loss.backward()\n",
    "        optimizer_D.step()\n",
    "\n",
    "        optimizer_G.zero_grad()\n",
    "        g_loss = 0.5 * torch.mean((discriminator(f_tilde.detach()) - lbl_one)**2) # criterion(output, label)\n",
    "        g_loss.backward()\n",
    "        optimizer_G.step()\n",
    "\n",
    "        # accuracy = Accuracy()\n",
    "        # b_acc = accuracy(discriminator(f_tilde.detach())>=0.5, lbl_zero.type(torch.int8))\n",
    "        sys.stdout.write(\"\\r[Epoch %d/%d] [Batch %d/%d] [D loss: %f] [G Loss: %f] [Generated: %f]\"%\n",
    "                         (e+1, epochs, b+1, len(Xt_train), d_loss.item(), g_loss.item(), torch.mean(f_tilde)))\n",
    "        # sys.stdout.write(\"\\r[Epoch %d/%d] [Batch %d/%d] [D loss: %f] [G Loss: %f] [Generated: %f]\"%\\\n",
    "                        # (e+1, epochs, b+1, len(data_loader), d_loss.item(), g_loss.item(), torch.mean(f_tilde)))\n",
    "    gloss.append(g_loss.item())\n",
    "    dloss.append(d_loss.item())\n",
    "\n",
    "plt.plot(range(epochs), gloss)\n",
    "plt.plot(range(epochs), dloss)\n",
    "plt.show()"
   ]
  },
  {
   "cell_type": "markdown",
   "metadata": {
    "id": "XrpSxZjTwuCL"
   },
   "source": [
    "#### Analysis of LSGAN"
   ]
  },
  {
   "cell_type": "code",
   "execution_count": null,
   "metadata": {
    "colab": {
     "base_uri": "https://localhost:8080/",
     "height": 392
    },
    "executionInfo": {
     "elapsed": 1092,
     "status": "ok",
     "timestamp": 1701795109327,
     "user": {
      "displayName": "Debanjan Dutta",
      "userId": "06129041946097564727"
     },
     "user_tz": -330
    },
    "id": "a48KI3mmwuCL",
    "outputId": "788db5a9-8cf2-4d30-fbfc-791bef6c32ca"
   },
   "outputs": [],
   "source": [
    "noisetype = \"Uniform(0,1)\"\n",
    "GAN = \"LSGAN\"\n",
    "\n",
    "z = Variable(Tensor(np.random.random(size=(1000,1))))\n",
    "f_tilde = (generator(z)).flatten() # * data_loader.scale\n",
    "x1 = f_tilde.cpu().detach().numpy()\n",
    "x2 = Xt_test.flatten().cpu().detach().numpy() # * data_loader.scale\n",
    "import scipy.stats as stats\n",
    "fig = plt.figure(figsize=(5,3))\n",
    "x1.sort()\n",
    "x2.sort()\n",
    "plt.scatter(x1, x2, label='Direct QQ-plot on Tar vs Gen', color='blue')\n",
    "# plt.xlabel('Target Data')\n",
    "# plt.ylabel('Generated Data')\n",
    "# plt.title('Given %s Noise Reach Normal(-200, 1) \\n after %d Epochs using %s'%(noisetype, epochs, GAN))\n",
    "plt.show()\n",
    "'https://github.com/eriklindernoren/PyTorch-GAN/blob/master/implementations/wgan/wgan.py'"
   ]
  },
  {
   "cell_type": "code",
   "execution_count": null,
   "metadata": {
    "colab": {
     "base_uri": "https://localhost:8080/",
     "height": 476
    },
    "executionInfo": {
     "elapsed": 9,
     "status": "ok",
     "timestamp": 1701794961350,
     "user": {
      "displayName": "Debanjan Dutta",
      "userId": "06129041946097564727"
     },
     "user_tz": -330
    },
    "id": "ypxNwCXswuCL",
    "outputId": "88e18593-654b-4365-800e-bbaa0693ce50"
   },
   "outputs": [],
   "source": [
    "# x1 = (x1+200)/500\n",
    "hist = torch.histc(torch.tensor(x1), bins=10, min=x1.min(), max=x1.max())\n",
    "bins = 10\n",
    "x = range(bins)\n",
    "plt.bar(x, hist, align='center')\n",
    "plt.xlabel('Bins')"
   ]
  },
  {
   "cell_type": "code",
   "execution_count": null,
   "metadata": {
    "colab": {
     "base_uri": "https://localhost:8080/"
    },
    "executionInfo": {
     "elapsed": 4,
     "status": "ok",
     "timestamp": 1701795495497,
     "user": {
      "displayName": "Debanjan Dutta",
      "userId": "06129041946097564727"
     },
     "user_tz": -330
    },
    "id": "nWzGspv1wuCM",
    "outputId": "18442f32-5a40-4c05-9252-a90e6948daae"
   },
   "outputs": [],
   "source": [
    "stats.anderson(x1, dist='norm')"
   ]
  },
  {
   "cell_type": "code",
   "execution_count": null,
   "metadata": {},
   "outputs": [],
   "source": [
    "with open(\"./M/RUN2/U(0,1)toN(-200,1)/LSGAN.txt\", \"w\") as f:\n",
    "    for x, y in zip(x1, x2):\n",
    "        f.write(str(x) + ',' + str(y)+ '\\n')\n",
    "f.close()"
   ]
  },
  {
   "cell_type": "markdown",
   "metadata": {
    "jp-MarkdownHeadingCollapsed": true,
    "tags": []
   },
   "source": [
    "## End of Part II\n",
    "\n",
    "---\n",
    "\n",
    "---"
   ]
  },
  {
   "cell_type": "markdown",
   "metadata": {
    "id": "Me-fqJrhw7WL",
    "tags": []
   },
   "source": [
    "## **$\\mathcal{N}(0,1) \\to \\mathcal{N}(-200,5)$**"
   ]
  },
  {
   "cell_type": "markdown",
   "metadata": {
    "id": "GAP1PTwmwuCF",
    "jp-MarkdownHeadingCollapsed": true,
    "tags": []
   },
   "source": [
    "### Vanilla GAN\n"
   ]
  },
  {
   "cell_type": "code",
   "execution_count": null,
   "metadata": {
    "id": "1aslLf9CwuCG"
   },
   "outputs": [],
   "source": [
    "!rm -r Log2\n",
    "!mkdir Log2\n",
    "generator = Generator()\n",
    "discriminator = Discriminator()\n",
    "\n",
    "\n",
    "if cuda:\n",
    "    generator.cuda()\n",
    "    discriminator.cuda()\n",
    "    adversarial_loss.cuda()\n",
    "\n",
    "optimizer_G = torch.optim.Adam(generator.parameters(), lr=1e-3)\n",
    "optimizer_D = torch.optim.SGD(discriminator.parameters(), lr=1e-3)\n",
    "\n",
    "\n",
    "\n",
    "data_loader = DataModule(dim=(100,50,1), f='gauss', mu=-200, sigma=5)\n",
    "# data = DataModule(dim=(10,50,1), f='uniform', min=-12, max=500)\n",
    "Xt_train, Xt_test = data_loader.X_train, data_loader.X_test"
   ]
  },
  {
   "cell_type": "code",
   "execution_count": null,
   "metadata": {
    "colab": {
     "base_uri": "https://localhost:8080/",
     "height": 1000
    },
    "executionInfo": {
     "elapsed": 297052,
     "status": "ok",
     "timestamp": 1701795850470,
     "user": {
      "displayName": "Debanjan Dutta",
      "userId": "06129041946097564727"
     },
     "user_tz": -330
    },
    "id": "OygjUECWwuCG",
    "outputId": "f5da4dc5-63f8-40b2-813d-33c0fa30e70f"
   },
   "outputs": [],
   "source": [
    "\n",
    "epochs = 1000\n",
    "gloss, dloss = [], []\n",
    "for e in range(epochs):\n",
    "    for b, f in enumerate(data_loader.X_train):\n",
    "        dimn = (f.size(dim=0),  f.size(dim=1))\n",
    "\n",
    "        lbl_one = Variable(Tensor(np.ones(dimn)), requires_grad=False)\n",
    "        z = Variable(Tensor(np.random.normal(size=dimn)))\n",
    "        f_tilde = generator(z)\n",
    "\n",
    "        optimizer_D.zero_grad()\n",
    "        lbl_zero = Variable(Tensor(np.zeros(dimn)), requires_grad=False)\n",
    "        real_loss = adversarial_loss(discriminator(f), lbl_one)\n",
    "        fake_loss = adversarial_loss(discriminator(f_tilde), lbl_zero)\n",
    "        d_loss = (real_loss + fake_loss) / 2\n",
    "        d_loss.backward()\n",
    "        optimizer_D.step()\n",
    "\n",
    "        optimizer_G.zero_grad()\n",
    "        g_loss = adversarial_loss(discriminator(f_tilde.detach()), lbl_one)\n",
    "        g_loss.backward()\n",
    "        optimizer_G.step()\n",
    "        if (e%10 == 0):\n",
    "            torch.save(generator, \"./Log/Generaor_%d\"%(e))\n",
    "\n",
    "        # accuracy = Accuracy()\n",
    "        # b_acc = accuracy(discriminator(f_tilde.detach())>=0.5, lbl_zero.type(torch.int8))\n",
    "        sys.stdout.write(\"\\r[Epoch %d/%d] [Batch %d/%d] [D loss: %f] [G Loss: %f] [Generated: %f]\"%\n",
    "                         (e+1, epochs, b+1, len(Xt_train), d_loss.item(), g_loss.item(), torch.mean(f_tilde)))\n",
    "        # sys.stdout.write(\"\\r[Epoch %d/%d] [Batch %d/%d] [D loss: %f] [G Loss: %f] [Generated: %f]\"%\\\n",
    "                        # (e+1, epochs, b+1, len(data_loader), d_loss.item(), g_loss.item(), torch.mean(f_tilde)))\n",
    "    gloss.append(g_loss.item())\n",
    "    dloss.append(d_loss.item())\n",
    "\n",
    "plt.plot(range(epochs), gloss)\n",
    "plt.plot(range(epochs), dloss)\n",
    "plt.show()"
   ]
  },
  {
   "cell_type": "markdown",
   "metadata": {
    "id": "2Wox2KYmwuCH"
   },
   "source": [
    "#### Analysis"
   ]
  },
  {
   "cell_type": "code",
   "execution_count": null,
   "metadata": {
    "colab": {
     "base_uri": "https://localhost:8080/",
     "height": 392
    },
    "executionInfo": {
     "elapsed": 1210,
     "status": "ok",
     "timestamp": 1701795851674,
     "user": {
      "displayName": "Debanjan Dutta",
      "userId": "06129041946097564727"
     },
     "user_tz": -330
    },
    "id": "EB31_KpCwuCH",
    "outputId": "30b86770-ec0b-4169-88d4-11c657d65aaf"
   },
   "outputs": [],
   "source": [
    "noisetype = \"Normal(0,1)\"\n",
    "GAN = \"Vanilla GAN\"\n",
    "\n",
    "z = Variable(Tensor(np.random.normal(size=(1000,1))))\n",
    "f_tilde = (generator(z)).flatten() * data_loader.scale\n",
    "x1 = f_tilde.cpu().detach().numpy()\n",
    "x2 = Xt_test.flatten().cpu().detach().numpy() * data_loader.scale\n",
    "import scipy.stats as stats\n",
    "fig = plt.figure(figsize=(5,3))\n",
    "x1.sort()\n",
    "x2.sort()\n",
    "plt.scatter(x1, x2, label='Direct QQ-plot on Tar vs Gen', color='blue')\n",
    "# plt.xlabel('Target Data')\n",
    "# plt.ylabel('Generated Data')\n",
    "# plt.title('Given %s Noise Reach Normal(-200, 5) \\n after %d Epochs using %s'%(noisetype, epochs, GAN))\n",
    "plt.show()\n",
    "'https://github.com/eriklindernoren/PyTorch-GAN/blob/master/implementations/wgan/wgan.py'"
   ]
  },
  {
   "cell_type": "code",
   "execution_count": null,
   "metadata": {
    "colab": {
     "base_uri": "https://localhost:8080/",
     "height": 482
    },
    "executionInfo": {
     "elapsed": 13,
     "status": "ok",
     "timestamp": 1701795851675,
     "user": {
      "displayName": "Debanjan Dutta",
      "userId": "06129041946097564727"
     },
     "user_tz": -330
    },
    "id": "gYG8oNaWwuCH",
    "outputId": "d96893ca-f6f1-4ea9-9d69-e23298f2ec07"
   },
   "outputs": [],
   "source": [
    "# x1 = (x1+200)/500\n",
    "hist = torch.histc(torch.tensor(x1), bins=10, min=x1.min(), max=x1.max())\n",
    "bins = 10\n",
    "x = range(bins)\n",
    "plt.bar(x, hist, align='center')\n",
    "plt.xlabel('Bins')"
   ]
  },
  {
   "cell_type": "code",
   "execution_count": null,
   "metadata": {
    "colab": {
     "base_uri": "https://localhost:8080/"
    },
    "executionInfo": {
     "elapsed": 9,
     "status": "ok",
     "timestamp": 1701795851675,
     "user": {
      "displayName": "Debanjan Dutta",
      "userId": "06129041946097564727"
     },
     "user_tz": -330
    },
    "id": "P3wLQx9uwuCI",
    "outputId": "63c66a25-fe53-4e64-bb81-0bdb8096b3b8"
   },
   "outputs": [],
   "source": [
    "stats.anderson(x1, dist='norm')"
   ]
  },
  {
   "cell_type": "code",
   "execution_count": null,
   "metadata": {},
   "outputs": [],
   "source": [
    "with open(\"./M/RUN2/N-N(m,s)/VGAN.txt\", \"w\") as f:\n",
    "    for x, y in zip(x1, x2):\n",
    "        f.write(str(x) + ',' + str(y)+ '\\n')\n",
    "f.close()"
   ]
  },
  {
   "cell_type": "markdown",
   "metadata": {
    "id": "6aEoY5MfwuCI",
    "jp-MarkdownHeadingCollapsed": true,
    "tags": []
   },
   "source": [
    "### W-GAN"
   ]
  },
  {
   "cell_type": "code",
   "execution_count": null,
   "metadata": {
    "id": "FsCrXHytwuCI"
   },
   "outputs": [],
   "source": [
    "\n",
    "generator = Generator()\n",
    "discriminator = Discriminator()\n",
    "\n",
    "\n",
    "if cuda:\n",
    "    generator.cuda()\n",
    "    discriminator.cuda()\n",
    "    adversarial_loss.cuda()\n",
    "\n",
    "optimizer_G = torch.optim.Adam(generator.parameters(), lr=1e-3)\n",
    "optimizer_D = torch.optim.SGD(discriminator.parameters(), lr=1e-3)\n",
    "\n",
    "\n",
    "data_loader = DataModule(dim=(100,50,1), f='gauss', mu=-200, sigma=5)\n",
    "# data = DataModule(dim=(10,50,1), f='uniform', min=-12, max=500)\n",
    "Xt_train, Xt_test = data_loader.X_train, data_loader.X_test"
   ]
  },
  {
   "cell_type": "code",
   "execution_count": null,
   "metadata": {
    "colab": {
     "base_uri": "https://localhost:8080/",
     "height": 452
    },
    "executionInfo": {
     "elapsed": 191267,
     "status": "ok",
     "timestamp": 1701796044057,
     "user": {
      "displayName": "Debanjan Dutta",
      "userId": "06129041946097564727"
     },
     "user_tz": -330
    },
    "id": "k-pNuo6nwuCI",
    "outputId": "563cb36c-73c2-4892-ecb2-274c6958a99b"
   },
   "outputs": [],
   "source": [
    "\n",
    "epochs = 400\n",
    "gloss, dloss = [], []\n",
    "clip_value = 0.2\n",
    "n_critic = 7\n",
    "\n",
    "\n",
    "batches_done = 0\n",
    "for e in range(epochs):\n",
    "    for b, f in enumerate(data_loader.X_train):\n",
    "        dimn = (f.size(dim=0),  f.size(dim=1))\n",
    "\n",
    "        z = Variable(Tensor(np.random.normal(size=dimn)))\n",
    "\n",
    "        # ---------------------\n",
    "        #  Train Discriminator\n",
    "        # ---------------------\n",
    "\n",
    "        optimizer_D.zero_grad()\n",
    "\n",
    "\n",
    "        # Generate a batch of images\n",
    "        f_tilde = generator(z).detach()\n",
    "        # Adversarial loss\n",
    "        d_loss = -torch.mean(discriminator(f)) + torch.mean(discriminator(f_tilde))\n",
    "\n",
    "        d_loss.backward()\n",
    "        optimizer_D.step()\n",
    "\n",
    "        # Clip weights of discriminator\n",
    "        for p in discriminator.parameters():\n",
    "            p.data.clamp_(-clip_value, clip_value)\n",
    "\n",
    "        # Train the generator every n_critic iterations\n",
    "        if e % n_critic == 0:\n",
    "\n",
    "            # -----------------\n",
    "            #  Train Generator\n",
    "            # -----------------\n",
    "\n",
    "            optimizer_G.zero_grad()\n",
    "\n",
    "            # Generate a batch of images\n",
    "            f_tilde = generator(z)\n",
    "            # Adversarial loss\n",
    "            g_loss = -torch.mean(discriminator(f_tilde))\n",
    "\n",
    "            g_loss.backward()\n",
    "            optimizer_G.step()\n",
    "\n",
    "        sys.stdout.write(\"\\r[Epoch %d/%d] [Batch %d/%d] [D loss: %f] [G Loss: %f] [Generated: %f]\"%\n",
    "                         (e+1, epochs, b+1, len(Xt_train), d_loss.item(), g_loss.item(), torch.mean(f_tilde)))\n",
    "\n",
    "        batches_done += 1\n",
    "    gloss.append(g_loss.item())\n",
    "    dloss.append(d_loss.item())\n",
    "\n",
    "plt.plot(range(epochs), gloss)\n",
    "plt.plot(range(epochs), dloss)\n",
    "plt.show()"
   ]
  },
  {
   "cell_type": "markdown",
   "metadata": {
    "id": "mmvoARxNwuCJ"
   },
   "source": [
    "#### Analysis of W-GAN"
   ]
  },
  {
   "cell_type": "code",
   "execution_count": null,
   "metadata": {
    "colab": {
     "base_uri": "https://localhost:8080/",
     "height": 392
    },
    "executionInfo": {
     "elapsed": 1389,
     "status": "ok",
     "timestamp": 1701796045440,
     "user": {
      "displayName": "Debanjan Dutta",
      "userId": "06129041946097564727"
     },
     "user_tz": -330
    },
    "id": "SXkPxVZLwuCJ",
    "outputId": "11d79138-a7a5-4d2a-9f85-3e4007676e89"
   },
   "outputs": [],
   "source": [
    "noisetype = \"Normal(0,1)\"\n",
    "GAN = \"W-GAN\"\n",
    "\n",
    "z = Variable(Tensor(np.random.normal(size=(1000,1))))\n",
    "f_tilde = (generator(z)).flatten() * data_loader.scale\n",
    "x1 = f_tilde.cpu().detach().numpy()\n",
    "x2 = Xt_test.flatten().cpu().detach().numpy() * data_loader.scale\n",
    "import scipy.stats as stats\n",
    "fig = plt.figure(figsize=(5,3))\n",
    "x1.sort()\n",
    "x2.sort()\n",
    "plt.scatter(x1, x2, label='Direct QQ-plot on Tar vs Gen', color='blue')\n",
    "# plt.xlabel('Target Data')\n",
    "# plt.ylabel('Generated Data')\n",
    "# plt.title('Given %s Noise Reach Normal(-200, 5) \\n after %d Epochs using %s GAN'%(noisetype, 1400, GAN))\n",
    "plt.show()\n",
    "'https://github.com/eriklindernoren/PyTorch-GAN/blob/master/implementations/wgan/wgan.py'"
   ]
  },
  {
   "cell_type": "code",
   "execution_count": null,
   "metadata": {
    "colab": {
     "base_uri": "https://localhost:8080/",
     "height": 476
    },
    "executionInfo": {
     "elapsed": 965,
     "status": "ok",
     "timestamp": 1701796046398,
     "user": {
      "displayName": "Debanjan Dutta",
      "userId": "06129041946097564727"
     },
     "user_tz": -330
    },
    "id": "_tVklASAwuCJ",
    "outputId": "82e446bb-05c4-4713-8df1-73a769bf0e65"
   },
   "outputs": [],
   "source": [
    "# x1 = (x1+200)/500\n",
    "hist = torch.histc(torch.tensor(x1), bins=10, min=x1.min(), max=x1.max())\n",
    "bins = 10\n",
    "x = range(bins)\n",
    "plt.bar(x, hist, align='center')\n",
    "plt.xlabel('Bins')"
   ]
  },
  {
   "cell_type": "code",
   "execution_count": null,
   "metadata": {
    "colab": {
     "base_uri": "https://localhost:8080/"
    },
    "executionInfo": {
     "elapsed": 10,
     "status": "ok",
     "timestamp": 1701796046398,
     "user": {
      "displayName": "Debanjan Dutta",
      "userId": "06129041946097564727"
     },
     "user_tz": -330
    },
    "id": "_HSiib8bwuCK",
    "outputId": "074fad81-ba02-4ff6-f1fc-e7d3831fec00"
   },
   "outputs": [],
   "source": [
    "stats.anderson(x1, dist='norm')"
   ]
  },
  {
   "cell_type": "code",
   "execution_count": null,
   "metadata": {},
   "outputs": [],
   "source": [
    "with open(\"./M/RUN2/N-N(m,s)/WGAN.txt\", \"w\") as f:\n",
    "    for x, y in zip(x1, x2):\n",
    "        f.write(str(x) + ',' + str(y)+ '\\n')\n",
    "f.close()"
   ]
  },
  {
   "cell_type": "markdown",
   "metadata": {
    "id": "G0PHSKuZwuCK",
    "jp-MarkdownHeadingCollapsed": true,
    "tags": []
   },
   "source": [
    "### LS-GAN"
   ]
  },
  {
   "cell_type": "code",
   "execution_count": null,
   "metadata": {
    "id": "RGX-S2rSwuCL"
   },
   "outputs": [],
   "source": [
    "'https://github.com/meliketoy/LSGAN.pytorch/blob/master/main.py'\n",
    "generator = Generator()\n",
    "discriminator = Discriminator()\n",
    "\n",
    "\n",
    "if cuda:\n",
    "    generator.cuda()\n",
    "    discriminator.cuda()\n",
    "    adversarial_loss.cuda()\n",
    "\n",
    "optimizer_G = torch.optim.Adam(generator.parameters(), lr=1e-3)\n",
    "optimizer_D = torch.optim.SGD(discriminator.parameters(), lr=1e-3)\n",
    "\n",
    "\n",
    "# data_loader = DataModule(dim=(100,50,1), f='gauss', mu=-200, sigma=1, normalize=True)\n",
    "data_loader = DataModule(dim=(100,50,1), f='gauss', mu=-200, sigma=5, normalize=False)\n",
    "Xt_train, Xt_test = data_loader.X_train, data_loader.X_test"
   ]
  },
  {
   "cell_type": "code",
   "execution_count": null,
   "metadata": {
    "colab": {
     "base_uri": "https://localhost:8080/",
     "height": 1000
    },
    "executionInfo": {
     "elapsed": 114526,
     "status": "ok",
     "timestamp": 1701795108242,
     "user": {
      "displayName": "Debanjan Dutta",
      "userId": "06129041946097564727"
     },
     "user_tz": -330
    },
    "id": "jNjz5cETwuCL",
    "outputId": "6f6f2f03-e027-4947-9436-ada2f4675323"
   },
   "outputs": [],
   "source": [
    "\n",
    "epochs = 400\n",
    "gloss, dloss = [], []\n",
    "for e in range(epochs):\n",
    "    for b, f in enumerate(data_loader.X_train):\n",
    "        dimn = (f.size(dim=0),  f.size(dim=1))\n",
    "\n",
    "        lbl_one = Variable(Tensor(np.ones(dimn)), requires_grad=False)\n",
    "        z = Variable(Tensor(np.random.normal(size=dimn)))\n",
    "        f_tilde = generator(z)\n",
    "\n",
    "        optimizer_D.zero_grad()\n",
    "        lbl_zero = Variable(Tensor(np.zeros(dimn)), requires_grad=False)\n",
    "        errD_real = 0.5 * torch.mean((discriminator(f) - lbl_one)**2)\n",
    "        errD_fake = 0.5 * torch.mean((discriminator(f_tilde) - lbl_zero)**2)\n",
    "        d_loss = (errD_fake + errD_real) / 2\n",
    "        d_loss.backward()\n",
    "        optimizer_D.step()\n",
    "\n",
    "        optimizer_G.zero_grad()\n",
    "        g_loss = 0.5 * torch.mean((discriminator(f_tilde.detach()) - lbl_one)**2) # criterion(output, label)\n",
    "        g_loss.backward()\n",
    "        optimizer_G.step()\n",
    "\n",
    "        # accuracy = Accuracy()\n",
    "        # b_acc = accuracy(discriminator(f_tilde.detach())>=0.5, lbl_zero.type(torch.int8))\n",
    "        sys.stdout.write(\"\\r[Epoch %d/%d] [Batch %d/%d] [D loss: %f] [G Loss: %f] [Generated: %f]\"%\n",
    "                         (e+1, epochs, b+1, len(Xt_train), d_loss.item(), g_loss.item(), torch.mean(f_tilde)))\n",
    "        # sys.stdout.write(\"\\r[Epoch %d/%d] [Batch %d/%d] [D loss: %f] [G Loss: %f] [Generated: %f]\"%\\\n",
    "                        # (e+1, epochs, b+1, len(data_loader), d_loss.item(), g_loss.item(), torch.mean(f_tilde)))\n",
    "    gloss.append(g_loss.item())\n",
    "    dloss.append(d_loss.item())\n",
    "\n",
    "plt.plot(range(epochs), gloss)\n",
    "plt.plot(range(epochs), dloss)\n",
    "plt.show()"
   ]
  },
  {
   "cell_type": "markdown",
   "metadata": {
    "id": "XrpSxZjTwuCL"
   },
   "source": [
    "#### Analysis of LSGAN"
   ]
  },
  {
   "cell_type": "code",
   "execution_count": null,
   "metadata": {
    "colab": {
     "base_uri": "https://localhost:8080/",
     "height": 392
    },
    "executionInfo": {
     "elapsed": 1092,
     "status": "ok",
     "timestamp": 1701795109327,
     "user": {
      "displayName": "Debanjan Dutta",
      "userId": "06129041946097564727"
     },
     "user_tz": -330
    },
    "id": "a48KI3mmwuCL",
    "outputId": "788db5a9-8cf2-4d30-fbfc-791bef6c32ca"
   },
   "outputs": [],
   "source": [
    "noisetype = \"Normal(0,1)\"\n",
    "GAN = \"LSGAN\"\n",
    "\n",
    "z = Variable(Tensor(np.random.normal(size=(1000,1))))\n",
    "f_tilde = (generator(z)).flatten() # * data_loader.scale\n",
    "x1 = f_tilde.cpu().detach().numpy()\n",
    "x2 = Xt_test.flatten().cpu().detach().numpy() # * data_loader.scale\n",
    "import scipy.stats as stats\n",
    "fig = plt.figure(figsize=(5,3))\n",
    "x1.sort()\n",
    "x2.sort()\n",
    "plt.scatter(x1, x2, label='Direct QQ-plot on Tar vs Gen', color='blue')\n",
    "# plt.xlabel('Target Data')\n",
    "# plt.ylabel('Generated Data')\n",
    "# plt.title('Given %s Noise Reach Normal(-200, 5) \\n after %d Epochs using %s'%(noisetype, epochs, GAN))\n",
    "plt.show()\n",
    "'https://github.com/eriklindernoren/PyTorch-GAN/blob/master/implementations/wgan/wgan.py'"
   ]
  },
  {
   "cell_type": "code",
   "execution_count": null,
   "metadata": {
    "colab": {
     "base_uri": "https://localhost:8080/",
     "height": 476
    },
    "executionInfo": {
     "elapsed": 9,
     "status": "ok",
     "timestamp": 1701794961350,
     "user": {
      "displayName": "Debanjan Dutta",
      "userId": "06129041946097564727"
     },
     "user_tz": -330
    },
    "id": "ypxNwCXswuCL",
    "outputId": "88e18593-654b-4365-800e-bbaa0693ce50"
   },
   "outputs": [],
   "source": [
    "# x1 = (x1+200)/500\n",
    "hist = torch.histc(torch.tensor(x1), bins=10, min=x1.min(), max=x1.max())\n",
    "bins = 10\n",
    "x = range(bins)\n",
    "plt.bar(x, hist, align='center')\n",
    "plt.xlabel('Bins')"
   ]
  },
  {
   "cell_type": "code",
   "execution_count": null,
   "metadata": {
    "colab": {
     "base_uri": "https://localhost:8080/"
    },
    "executionInfo": {
     "elapsed": 4,
     "status": "ok",
     "timestamp": 1701795495497,
     "user": {
      "displayName": "Debanjan Dutta",
      "userId": "06129041946097564727"
     },
     "user_tz": -330
    },
    "id": "nWzGspv1wuCM",
    "outputId": "18442f32-5a40-4c05-9252-a90e6948daae"
   },
   "outputs": [],
   "source": [
    "stats.anderson(x1, dist='norm')"
   ]
  },
  {
   "cell_type": "code",
   "execution_count": null,
   "metadata": {},
   "outputs": [],
   "source": [
    "with open(\"./M/RUN2/N-N(m,s)/LSGAN.txt\", \"w\") as f:\n",
    "    for x, y in zip(x1, x2):\n",
    "        f.write(str(x) + ',' + str(y)+ '\\n')\n",
    "f.close()"
   ]
  },
  {
   "cell_type": "markdown",
   "metadata": {},
   "source": [
    "## End of Part III\n",
    "\n",
    "---\n",
    "\n",
    "---"
   ]
  },
  {
   "cell_type": "markdown",
   "metadata": {
    "id": "Me-fqJrhw7WL",
    "tags": []
   },
   "source": [
    "## **$\\mathcal{U}(0,1) \\to \\mathcal{N}(0,1)$**"
   ]
  },
  {
   "cell_type": "markdown",
   "metadata": {
    "id": "GAP1PTwmwuCF",
    "tags": []
   },
   "source": [
    "### Vanilla GAN\n"
   ]
  },
  {
   "cell_type": "code",
   "execution_count": null,
   "metadata": {
    "id": "1aslLf9CwuCG"
   },
   "outputs": [],
   "source": [
    "!rm -r Log2\n",
    "!mkdir Log2\n",
    "generator = Generator()\n",
    "discriminator = Discriminator()\n",
    "\n",
    "\n",
    "if cuda:\n",
    "    generator.cuda()\n",
    "    discriminator.cuda()\n",
    "    adversarial_loss.cuda()\n",
    "\n",
    "optimizer_G = torch.optim.Adam(generator.parameters(), lr=1e-3)\n",
    "optimizer_D = torch.optim.SGD(discriminator.parameters(), lr=1e-3)\n",
    "\n",
    "\n",
    "\n",
    "data_loader = DataModule(dim=(100,50,1), f='gauss', mu=0, sigma=1)\n",
    "# data = DataModule(dim=(10,50,1), f='uniform', min=-12, max=500)\n",
    "Xt_train, Xt_test = data_loader.X_train, data_loader.X_test"
   ]
  },
  {
   "cell_type": "code",
   "execution_count": null,
   "metadata": {
    "colab": {
     "base_uri": "https://localhost:8080/",
     "height": 1000
    },
    "executionInfo": {
     "elapsed": 297052,
     "status": "ok",
     "timestamp": 1701795850470,
     "user": {
      "displayName": "Debanjan Dutta",
      "userId": "06129041946097564727"
     },
     "user_tz": -330
    },
    "id": "OygjUECWwuCG",
    "outputId": "f5da4dc5-63f8-40b2-813d-33c0fa30e70f"
   },
   "outputs": [],
   "source": [
    "\n",
    "epochs = 1000\n",
    "gloss, dloss = [], []\n",
    "for e in range(epochs):\n",
    "    for b, f in enumerate(data_loader.X_train):\n",
    "        dimn = (f.size(dim=0),  f.size(dim=1))\n",
    "\n",
    "        lbl_one = Variable(Tensor(np.ones(dimn)), requires_grad=False)\n",
    "        z = Variable(Tensor(np.random.random(size=dimn)))\n",
    "        f_tilde = generator(z)\n",
    "\n",
    "        optimizer_D.zero_grad()\n",
    "        lbl_zero = Variable(Tensor(np.zeros(dimn)), requires_grad=False)\n",
    "        real_loss = adversarial_loss(discriminator(f), lbl_one)\n",
    "        fake_loss = adversarial_loss(discriminator(f_tilde), lbl_zero)\n",
    "        d_loss = (real_loss + fake_loss) / 2\n",
    "        d_loss.backward()\n",
    "        optimizer_D.step()\n",
    "\n",
    "        optimizer_G.zero_grad()\n",
    "        g_loss = adversarial_loss(discriminator(f_tilde.detach()), lbl_one)\n",
    "        g_loss.backward()\n",
    "        optimizer_G.step()\n",
    "        if (e%10 == 0):\n",
    "            torch.save(generator, \"./Log/Generaor_%d\"%(e))\n",
    "\n",
    "        # accuracy = Accuracy()\n",
    "        # b_acc = accuracy(discriminator(f_tilde.detach())>=0.5, lbl_zero.type(torch.int8))\n",
    "        sys.stdout.write(\"[Epoch %d/%d] [Batch %d/%d] [D loss: %f] [G Loss: %f] [Generated: %f]\\r\"%\n",
    "                         (e+1, epochs, b+1, len(Xt_train), d_loss.item(), g_loss.item(), torch.mean(f_tilde)))\n",
    "        # sys.stdout.write(\"\\r[Epoch %d/%d] [Batch %d/%d] [D loss: %f] [G Loss: %f] [Generated: %f]\"%\\\n",
    "                        # (e+1, epochs, b+1, len(data_loader), d_loss.item(), g_loss.item(), torch.mean(f_tilde)))\n",
    "    gloss.append(g_loss.item())\n",
    "    dloss.append(d_loss.item())\n",
    "\n",
    "plt.plot(range(epochs), gloss)\n",
    "plt.plot(range(epochs), dloss)\n",
    "plt.show()"
   ]
  },
  {
   "cell_type": "markdown",
   "metadata": {
    "id": "2Wox2KYmwuCH"
   },
   "source": [
    "#### Analysis"
   ]
  },
  {
   "cell_type": "code",
   "execution_count": null,
   "metadata": {
    "colab": {
     "base_uri": "https://localhost:8080/",
     "height": 392
    },
    "executionInfo": {
     "elapsed": 1210,
     "status": "ok",
     "timestamp": 1701795851674,
     "user": {
      "displayName": "Debanjan Dutta",
      "userId": "06129041946097564727"
     },
     "user_tz": -330
    },
    "id": "EB31_KpCwuCH",
    "outputId": "30b86770-ec0b-4169-88d4-11c657d65aaf"
   },
   "outputs": [],
   "source": [
    "noisetype = \"Uniform(0,1)\"\n",
    "GAN = \"Vanilla GAN\"\n",
    "import statsmodels.api as sm \n",
    "import pylab as py \n",
    "\n",
    "z = Variable(Tensor(np.random.random(size=(1000,1))))\n",
    "f_tilde = (generator(z)).flatten() * data_loader.scale\n",
    "x1 = f_tilde.cpu().detach().numpy()\n",
    "x2 = Xt_test.flatten().cpu().detach().numpy() * data_loader.scale\n",
    "import scipy.stats as stats\n",
    "fig = plt.figure(figsize=(5,3))\n",
    "x1.sort()\n",
    "x2.sort()\n",
    "plt.scatter(x1, x2, label='Direct QQ-plot on Tar vs Gen', color='blue')\n",
    "# plt.xlabel('Generated Data')\n",
    "# plt.ylabel('Target Data')\n",
    "# plt.title('Given %s Noise Reach Normal(0, 1) \\n after %d Epochs using %s'%(noisetype, epochs, GAN))\n",
    "plt.show()"
   ]
  },
  {
   "cell_type": "code",
   "execution_count": null,
   "metadata": {
    "colab": {
     "base_uri": "https://localhost:8080/",
     "height": 482
    },
    "executionInfo": {
     "elapsed": 13,
     "status": "ok",
     "timestamp": 1701795851675,
     "user": {
      "displayName": "Debanjan Dutta",
      "userId": "06129041946097564727"
     },
     "user_tz": -330
    },
    "id": "gYG8oNaWwuCH",
    "outputId": "d96893ca-f6f1-4ea9-9d69-e23298f2ec07"
   },
   "outputs": [],
   "source": [
    "# x1 = (x1+200)/500\n",
    "hist = torch.histc(torch.tensor(x1), bins=10, min=x1.min(), max=x1.max())\n",
    "bins = 10\n",
    "x = range(bins)\n",
    "plt.bar(x, hist, align='center')\n",
    "plt.xlabel('Bins')"
   ]
  },
  {
   "cell_type": "code",
   "execution_count": null,
   "metadata": {
    "colab": {
     "base_uri": "https://localhost:8080/"
    },
    "executionInfo": {
     "elapsed": 9,
     "status": "ok",
     "timestamp": 1701795851675,
     "user": {
      "displayName": "Debanjan Dutta",
      "userId": "06129041946097564727"
     },
     "user_tz": -330
    },
    "id": "P3wLQx9uwuCI",
    "outputId": "63c66a25-fe53-4e64-bb81-0bdb8096b3b8"
   },
   "outputs": [],
   "source": [
    "stats.anderson(x1, dist='norm')"
   ]
  },
  {
   "cell_type": "code",
   "execution_count": null,
   "metadata": {},
   "outputs": [],
   "source": [
    "with open(\"./M/RUN2/U(0,1)toN(0,1)/VGAN.txt\", \"w\") as f:\n",
    "    for x, y in zip(x1, x2):\n",
    "        f.write(str(x) + ',' + str(y)+ '\\n')\n",
    "f.close()"
   ]
  },
  {
   "cell_type": "markdown",
   "metadata": {
    "id": "6aEoY5MfwuCI",
    "jp-MarkdownHeadingCollapsed": true,
    "tags": []
   },
   "source": [
    "### W-GAN"
   ]
  },
  {
   "cell_type": "code",
   "execution_count": null,
   "metadata": {
    "id": "FsCrXHytwuCI"
   },
   "outputs": [],
   "source": [
    "\n",
    "generator = Generator()\n",
    "discriminator = Discriminator()\n",
    "\n",
    "\n",
    "if cuda:\n",
    "    generator.cuda()\n",
    "    discriminator.cuda()\n",
    "    adversarial_loss.cuda()\n",
    "\n",
    "optimizer_G = torch.optim.Adam(generator.parameters(), lr=1e-3)\n",
    "optimizer_D = torch.optim.SGD(discriminator.parameters(), lr=1e-3)\n",
    "\n",
    "\n",
    "data_loader = DataModule(dim=(100,50,1), f='gauss', mu=0, sigma=1)\n",
    "# data = DataModule(dim=(10,50,1), f='uniform', min=-12, max=500)\n",
    "Xt_train, Xt_test = data_loader.X_train, data_loader.X_test"
   ]
  },
  {
   "cell_type": "code",
   "execution_count": null,
   "metadata": {
    "colab": {
     "base_uri": "https://localhost:8080/",
     "height": 452
    },
    "executionInfo": {
     "elapsed": 191267,
     "status": "ok",
     "timestamp": 1701796044057,
     "user": {
      "displayName": "Debanjan Dutta",
      "userId": "06129041946097564727"
     },
     "user_tz": -330
    },
    "id": "k-pNuo6nwuCI",
    "outputId": "563cb36c-73c2-4892-ecb2-274c6958a99b"
   },
   "outputs": [],
   "source": [
    "\n",
    "epochs = 400\n",
    "gloss, dloss = [], []\n",
    "clip_value = 0.2\n",
    "n_critic = 7\n",
    "\n",
    "\n",
    "batches_done = 0\n",
    "for e in range(epochs):\n",
    "    for b, f in enumerate(data_loader.X_train):\n",
    "        dimn = (f.size(dim=0),  f.size(dim=1))\n",
    "\n",
    "        z = Variable(Tensor(np.random.random(size=dimn)))\n",
    "\n",
    "        # ---------------------\n",
    "        #  Train Discriminator\n",
    "        # ---------------------\n",
    "\n",
    "        optimizer_D.zero_grad()\n",
    "\n",
    "\n",
    "        # Generate a batch of images\n",
    "        f_tilde = generator(z).detach()\n",
    "        # Adversarial loss\n",
    "        d_loss = -torch.mean(discriminator(f)) + torch.mean(discriminator(f_tilde))\n",
    "\n",
    "        d_loss.backward()\n",
    "        optimizer_D.step()\n",
    "\n",
    "        # Clip weights of discriminator\n",
    "        for p in discriminator.parameters():\n",
    "            p.data.clamp_(-clip_value, clip_value)\n",
    "\n",
    "        # Train the generator every n_critic iterations\n",
    "        if e % n_critic == 0:\n",
    "\n",
    "            # -----------------\n",
    "            #  Train Generator\n",
    "            # -----------------\n",
    "\n",
    "            optimizer_G.zero_grad()\n",
    "\n",
    "            # Generate a batch of images\n",
    "            f_tilde = generator(z)\n",
    "            # Adversarial loss\n",
    "            g_loss = -torch.mean(discriminator(f_tilde))\n",
    "\n",
    "            g_loss.backward()\n",
    "            optimizer_G.step()\n",
    "\n",
    "        sys.stdout.write(\"\\r[Epoch %d/%d] [Batch %d/%d] [D loss: %f] [G Loss: %f] [Generated: %f]\"%\n",
    "                         (e+1, epochs, b+1, len(Xt_train), d_loss.item(), g_loss.item(), torch.mean(f_tilde)))\n",
    "\n",
    "        batches_done += 1\n",
    "    gloss.append(g_loss.item())\n",
    "    dloss.append(d_loss.item())\n",
    "\n",
    "plt.plot(range(epochs), gloss)\n",
    "plt.plot(range(epochs), dloss)\n",
    "plt.show()"
   ]
  },
  {
   "cell_type": "markdown",
   "metadata": {
    "id": "mmvoARxNwuCJ"
   },
   "source": [
    "#### Analysis of W-GAN"
   ]
  },
  {
   "cell_type": "code",
   "execution_count": null,
   "metadata": {
    "colab": {
     "base_uri": "https://localhost:8080/",
     "height": 392
    },
    "executionInfo": {
     "elapsed": 1389,
     "status": "ok",
     "timestamp": 1701796045440,
     "user": {
      "displayName": "Debanjan Dutta",
      "userId": "06129041946097564727"
     },
     "user_tz": -330
    },
    "id": "SXkPxVZLwuCJ",
    "outputId": "11d79138-a7a5-4d2a-9f85-3e4007676e89"
   },
   "outputs": [],
   "source": [
    "noisetype = \"Uniform(0,1)\"\n",
    "GAN = \"W-GAN\"\n",
    "\n",
    "z = Variable(Tensor(np.random.random(size=(1000,1))))\n",
    "f_tilde = (generator(z)).flatten() * data_loader.scale\n",
    "x1 = f_tilde.cpu().detach().numpy()\n",
    "x2 = Xt_test.flatten().cpu().detach().numpy() * data_loader.scale\n",
    "import scipy.stats as stats\n",
    "fig = plt.figure(figsize=(5,3))\n",
    "x1.sort()\n",
    "x2.sort()\n",
    "plt.scatter(x1, x2, label='Direct QQ-plot on Tar vs Gen', color='blue')\n",
    "plt.show()\n",
    "'https://github.com/eriklindernoren/PyTorch-GAN/blob/master/implementations/wgan/wgan.py'"
   ]
  },
  {
   "cell_type": "code",
   "execution_count": null,
   "metadata": {
    "colab": {
     "base_uri": "https://localhost:8080/",
     "height": 476
    },
    "executionInfo": {
     "elapsed": 965,
     "status": "ok",
     "timestamp": 1701796046398,
     "user": {
      "displayName": "Debanjan Dutta",
      "userId": "06129041946097564727"
     },
     "user_tz": -330
    },
    "id": "_tVklASAwuCJ",
    "outputId": "82e446bb-05c4-4713-8df1-73a769bf0e65"
   },
   "outputs": [],
   "source": [
    "# x1 = (x1+200)/500\n",
    "hist = torch.histc(torch.tensor(x1), bins=10, min=x1.min(), max=x1.max())\n",
    "bins = 10\n",
    "x = range(bins)\n",
    "plt.bar(x, hist, align='center')\n",
    "plt.xlabel('Bins')"
   ]
  },
  {
   "cell_type": "code",
   "execution_count": null,
   "metadata": {
    "colab": {
     "base_uri": "https://localhost:8080/"
    },
    "executionInfo": {
     "elapsed": 10,
     "status": "ok",
     "timestamp": 1701796046398,
     "user": {
      "displayName": "Debanjan Dutta",
      "userId": "06129041946097564727"
     },
     "user_tz": -330
    },
    "id": "_HSiib8bwuCK",
    "outputId": "074fad81-ba02-4ff6-f1fc-e7d3831fec00"
   },
   "outputs": [],
   "source": [
    "stats.anderson(x1, dist='norm')"
   ]
  },
  {
   "cell_type": "code",
   "execution_count": null,
   "metadata": {},
   "outputs": [],
   "source": [
    "with open(\"./M/RUN2/U(0,1)toN(0,1)/WGAN.txt\", \"w\") as f:\n",
    "    for x, y in zip(x1, x2):\n",
    "        f.write(str(x) + ',' + str(y)+ '\\n')\n",
    "f.close()"
   ]
  },
  {
   "cell_type": "markdown",
   "metadata": {
    "id": "G0PHSKuZwuCK",
    "jp-MarkdownHeadingCollapsed": true,
    "tags": []
   },
   "source": [
    "### LS-GAN"
   ]
  },
  {
   "cell_type": "code",
   "execution_count": null,
   "metadata": {
    "id": "RGX-S2rSwuCL"
   },
   "outputs": [],
   "source": [
    "'https://github.com/meliketoy/LSGAN.pytorch/blob/master/main.py'\n",
    "generator = Generator()\n",
    "discriminator = Discriminator()\n",
    "\n",
    "\n",
    "if cuda:\n",
    "    generator.cuda()\n",
    "    discriminator.cuda()\n",
    "    adversarial_loss.cuda()\n",
    "\n",
    "optimizer_G = torch.optim.Adam(generator.parameters(), lr=1e-3)\n",
    "optimizer_D = torch.optim.SGD(discriminator.parameters(), lr=1e-3)\n",
    "\n",
    "\n",
    "# data_loader = DataModule(dim=(100,50,1), f='gauss', mu=-200, sigma=1, normalize=True)\n",
    "data_loader = DataModule(dim=(100,50,1), f='gauss', mu=0, sigma=1, normalize=False)\n",
    "Xt_train, Xt_test = data_loader.X_train, data_loader.X_test"
   ]
  },
  {
   "cell_type": "code",
   "execution_count": null,
   "metadata": {
    "colab": {
     "base_uri": "https://localhost:8080/",
     "height": 1000
    },
    "executionInfo": {
     "elapsed": 114526,
     "status": "ok",
     "timestamp": 1701795108242,
     "user": {
      "displayName": "Debanjan Dutta",
      "userId": "06129041946097564727"
     },
     "user_tz": -330
    },
    "id": "jNjz5cETwuCL",
    "outputId": "6f6f2f03-e027-4947-9436-ada2f4675323"
   },
   "outputs": [],
   "source": [
    "\n",
    "epochs = 400\n",
    "gloss, dloss = [], []\n",
    "for e in range(epochs):\n",
    "    for b, f in enumerate(data_loader.X_train):\n",
    "        dimn = (f.size(dim=0),  f.size(dim=1))\n",
    "\n",
    "        lbl_one = Variable(Tensor(np.ones(dimn)), requires_grad=False)\n",
    "        z = Variable(Tensor(np.random.random(size=dimn)))\n",
    "        f_tilde = generator(z)\n",
    "\n",
    "        optimizer_D.zero_grad()\n",
    "        lbl_zero = Variable(Tensor(np.zeros(dimn)), requires_grad=False)\n",
    "        errD_real = 0.5 * torch.mean((discriminator(f) - lbl_one)**2)\n",
    "        errD_fake = 0.5 * torch.mean((discriminator(f_tilde) - lbl_zero)**2)\n",
    "        d_loss = (errD_fake + errD_real) / 2\n",
    "        d_loss.backward()\n",
    "        optimizer_D.step()\n",
    "\n",
    "        optimizer_G.zero_grad()\n",
    "        g_loss = 0.5 * torch.mean((discriminator(f_tilde.detach()) - lbl_one)**2) # criterion(output, label)\n",
    "        g_loss.backward()\n",
    "        optimizer_G.step()\n",
    "\n",
    "        # accuracy = Accuracy()\n",
    "        # b_acc = accuracy(discriminator(f_tilde.detach())>=0.5, lbl_zero.type(torch.int8))\n",
    "        sys.stdout.write(\"\\r[Epoch %d/%d] [Batch %d/%d] [D loss: %f] [G Loss: %f] [Generated: %f]\"%\n",
    "                         (e+1, epochs, b+1, len(Xt_train), d_loss.item(), g_loss.item(), torch.mean(f_tilde)))\n",
    "        # sys.stdout.write(\"\\r[Epoch %d/%d] [Batch %d/%d] [D loss: %f] [G Loss: %f] [Generated: %f]\"%\\\n",
    "                        # (e+1, epochs, b+1, len(data_loader), d_loss.item(), g_loss.item(), torch.mean(f_tilde)))\n",
    "    gloss.append(g_loss.item())\n",
    "    dloss.append(d_loss.item())\n",
    "\n",
    "plt.plot(range(epochs), gloss)\n",
    "plt.plot(range(epochs), dloss)\n",
    "plt.show()"
   ]
  },
  {
   "cell_type": "markdown",
   "metadata": {
    "id": "XrpSxZjTwuCL"
   },
   "source": [
    "#### Analysis of LSGAN"
   ]
  },
  {
   "cell_type": "code",
   "execution_count": null,
   "metadata": {
    "colab": {
     "base_uri": "https://localhost:8080/",
     "height": 392
    },
    "executionInfo": {
     "elapsed": 1092,
     "status": "ok",
     "timestamp": 1701795109327,
     "user": {
      "displayName": "Debanjan Dutta",
      "userId": "06129041946097564727"
     },
     "user_tz": -330
    },
    "id": "a48KI3mmwuCL",
    "outputId": "788db5a9-8cf2-4d30-fbfc-791bef6c32ca"
   },
   "outputs": [],
   "source": [
    "noisetype = \"Uniform(0,1)\"\n",
    "GAN = \"LSGAN\"\n",
    "\n",
    "z = Variable(Tensor(np.random.random(size=(1000,1))))\n",
    "f_tilde = (generator(z)).flatten() # * data_loader.scale\n",
    "x1 = f_tilde.cpu().detach().numpy()\n",
    "x2 = Xt_test.flatten().cpu().detach().numpy() # * data_loader.scale\n",
    "import scipy.stats as stats\n",
    "fig = plt.figure(figsize=(5,3))\n",
    "x1.sort()\n",
    "x2.sort()\n",
    "plt.scatter(x1, x2, label='Direct QQ-plot on Tar vs Gen', color='blue')\n",
    "plt.show()\n",
    "'https://github.com/eriklindernoren/PyTorch-GAN/blob/master/implementations/wgan/wgan.py'"
   ]
  },
  {
   "cell_type": "code",
   "execution_count": null,
   "metadata": {
    "colab": {
     "base_uri": "https://localhost:8080/",
     "height": 476
    },
    "executionInfo": {
     "elapsed": 9,
     "status": "ok",
     "timestamp": 1701794961350,
     "user": {
      "displayName": "Debanjan Dutta",
      "userId": "06129041946097564727"
     },
     "user_tz": -330
    },
    "id": "ypxNwCXswuCL",
    "outputId": "88e18593-654b-4365-800e-bbaa0693ce50"
   },
   "outputs": [],
   "source": [
    "# x1 = (x1+200)/500\n",
    "hist = torch.histc(torch.tensor(x1), bins=10, min=x1.min(), max=x1.max())\n",
    "bins = 10\n",
    "x = range(bins)\n",
    "plt.bar(x, hist, align='center')\n",
    "plt.xlabel('Bins')"
   ]
  },
  {
   "cell_type": "code",
   "execution_count": null,
   "metadata": {
    "colab": {
     "base_uri": "https://localhost:8080/"
    },
    "executionInfo": {
     "elapsed": 4,
     "status": "ok",
     "timestamp": 1701795495497,
     "user": {
      "displayName": "Debanjan Dutta",
      "userId": "06129041946097564727"
     },
     "user_tz": -330
    },
    "id": "nWzGspv1wuCM",
    "outputId": "18442f32-5a40-4c05-9252-a90e6948daae"
   },
   "outputs": [],
   "source": [
    "stats.anderson(x1, dist='norm')"
   ]
  },
  {
   "cell_type": "code",
   "execution_count": null,
   "metadata": {},
   "outputs": [],
   "source": [
    "with open(\"./M/RUN2/U(0,1)toN(0,1)/LSGAN.txt\", \"w\") as f:\n",
    "    for x, y in zip(x1, x2):\n",
    "        f.write(str(x) + ',' + str(y)+ '\\n')\n",
    "f.close()"
   ]
  },
  {
   "cell_type": "markdown",
   "metadata": {
    "jp-MarkdownHeadingCollapsed": true,
    "tags": []
   },
   "source": [
    "## End of Part IV\n",
    "\n",
    "---\n",
    "\n",
    "---"
   ]
  }
 ],
 "metadata": {
  "colab": {
   "collapsed_sections": [
    "DePAnR_hs_vd",
    "cO3k-JitqSLp"
   ],
   "name": "",
   "provenance": [
    {
     "file_id": "12ngwM45wMYdKGyh36BrYkA-ItJNX2gSl",
     "timestamp": 1701775127349
    }
   ],
   "version": ""
  },
  "kernelspec": {
   "display_name": "Python 3",
   "language": "python",
   "name": "python3"
  },
  "language_info": {
   "codemirror_mode": {
    "name": "ipython",
    "version": 3
   },
   "file_extension": ".py",
   "mimetype": "text/x-python",
   "name": "python",
   "nbconvert_exporter": "python",
   "pygments_lexer": "ipython3",
   "version": "3.8.10"
  }
 },
 "nbformat": 4,
 "nbformat_minor": 4
}
