{
 "cells": [
  {
   "cell_type": "markdown",
   "metadata": {
    "id": "3rFCMJ4YeFVA"
   },
   "source": [
    "### Code GAN\n",
    "Target is to go from $p_z \\to p_{\\delta, \\text{ gauss or uniform}}$, where conventionally $z \\sim \\mathcal{N}(0, 1)$\n",
    "\n",
    "Enough `Babble'-ing, CODE Please!!!"
   ]
  },
  {
   "cell_type": "code",
   "execution_count": 190,
   "metadata": {
    "id": "lQVYt92QGzYW"
   },
   "outputs": [
    {
     "name": "stdout",
     "output_type": "stream",
     "text": [
      "Defaulting to user installation because normal site-packages is not writeable\n",
      "Requirement already satisfied: torchmetrics in /home/iplab/.local/lib/python3.8/site-packages (0.9.2)\n",
      "Requirement already satisfied: torchquad in /home/iplab/.local/lib/python3.8/site-packages (0.4.0)\n",
      "Collecting statsmodels\n",
      "  Downloading statsmodels-0.14.0-cp38-cp38-manylinux_2_17_x86_64.manylinux2014_x86_64.whl (10.2 MB)\n",
      "\u001b[2K     \u001b[38;2;114;156;31m━━━━━━━━━━━━━━━━━━━━━━━━━━━━━━━━━━━━━━━━\u001b[0m \u001b[32m10.2/10.2 MB\u001b[0m \u001b[31m3.5 MB/s\u001b[0m eta \u001b[36m0:00:00\u001b[0mm eta \u001b[36m0:00:01\u001b[0m36m0:00:01\u001b[0m\n",
      "\u001b[?25hRequirement already satisfied: numpy>=1.17.2 in /home/iplab/.local/lib/python3.8/site-packages (from torchmetrics) (1.23.4)\n",
      "Requirement already satisfied: torch>=1.3.1 in /home/iplab/.local/lib/python3.8/site-packages (from torchmetrics) (1.10.1+cu113)\n",
      "Requirement already satisfied: packaging in /home/iplab/.local/lib/python3.8/site-packages (from torchmetrics) (20.9)\n",
      "Requirement already satisfied: matplotlib>=3.3.3 in /home/iplab/.local/lib/python3.8/site-packages (from torchquad) (3.6.2)\n",
      "Requirement already satisfied: autoray>=0.5.0 in /home/iplab/.local/lib/python3.8/site-packages (from torchquad) (0.6.7)\n",
      "Requirement already satisfied: loguru>=0.5.3 in /home/iplab/.local/lib/python3.8/site-packages (from torchquad) (0.7.2)\n",
      "Requirement already satisfied: scipy>=1.6.0 in /home/iplab/.local/lib/python3.8/site-packages (from torchquad) (1.9.3)\n",
      "Requirement already satisfied: tqdm>=4.56.1 in /home/iplab/.local/lib/python3.8/site-packages (from torchquad) (4.64.1)\n",
      "Collecting patsy>=0.5.2\n",
      "  Downloading patsy-0.5.4-py2.py3-none-any.whl (233 kB)\n",
      "\u001b[2K     \u001b[38;2;114;156;31m━━━━━━━━━━━━━━━━━━━━━━━━━━━━━━━━━━━━━━━\u001b[0m \u001b[32m233.9/233.9 kB\u001b[0m \u001b[31m1.7 MB/s\u001b[0m eta \u001b[36m0:00:00\u001b[0m[31m4.2 MB/s\u001b[0m eta \u001b[36m0:00:01\u001b[0m\n",
      "\u001b[?25hCollecting packaging\n",
      "  Downloading packaging-23.2-py3-none-any.whl (53 kB)\n",
      "\u001b[2K     \u001b[38;2;114;156;31m━━━━━━━━━━━━━━━━━━━━━━━━━━━━━━━━━━━━━━━\u001b[0m \u001b[32m53.0/53.0 kB\u001b[0m \u001b[31m693.5 kB/s\u001b[0m eta \u001b[36m0:00:00\u001b[0m31m6.7 MB/s\u001b[0m eta \u001b[36m0:00:01\u001b[0m\n",
      "\u001b[?25hRequirement already satisfied: pandas>=1.0 in /home/iplab/.local/lib/python3.8/site-packages (from statsmodels) (2.0.3)\n",
      "Requirement already satisfied: cycler>=0.10 in /usr/lib/python3/dist-packages (from matplotlib>=3.3.3->torchquad) (0.10.0)\n",
      "Requirement already satisfied: fonttools>=4.22.0 in /home/iplab/.local/lib/python3.8/site-packages (from matplotlib>=3.3.3->torchquad) (4.38.0)\n",
      "Requirement already satisfied: pillow>=6.2.0 in /home/iplab/.local/lib/python3.8/site-packages (from matplotlib>=3.3.3->torchquad) (9.2.0)\n",
      "Requirement already satisfied: contourpy>=1.0.1 in /home/iplab/.local/lib/python3.8/site-packages (from matplotlib>=3.3.3->torchquad) (1.0.6)\n",
      "Requirement already satisfied: kiwisolver>=1.0.1 in /usr/lib/python3/dist-packages (from matplotlib>=3.3.3->torchquad) (1.0.1)\n",
      "Requirement already satisfied: python-dateutil>=2.7 in /home/iplab/.local/lib/python3.8/site-packages (from matplotlib>=3.3.3->torchquad) (2.8.2)\n",
      "Requirement already satisfied: pyparsing>=2.2.1 in /usr/lib/python3/dist-packages (from matplotlib>=3.3.3->torchquad) (2.4.6)\n",
      "Requirement already satisfied: pytz>=2020.1 in /home/iplab/.local/lib/python3.8/site-packages (from pandas>=1.0->statsmodels) (2023.3)\n",
      "Requirement already satisfied: tzdata>=2022.1 in /home/iplab/.local/lib/python3.8/site-packages (from pandas>=1.0->statsmodels) (2022.7)\n",
      "Requirement already satisfied: six in /home/iplab/.local/lib/python3.8/site-packages (from patsy>=0.5.2->statsmodels) (1.15.0)\n",
      "Requirement already satisfied: typing-extensions in /home/iplab/.local/lib/python3.8/site-packages (from torch>=1.3.1->torchmetrics) (4.6.3)\n",
      "Installing collected packages: patsy, packaging, statsmodels\n",
      "  Attempting uninstall: packaging\n",
      "    Found existing installation: packaging 20.9\n",
      "    Uninstalling packaging-20.9:\n",
      "      Successfully uninstalled packaging-20.9\n",
      "\u001b[31mERROR: pip's dependency resolver does not currently take into account all the packages that are installed. This behaviour is the source of the following dependency conflicts.\n",
      "simple-driving 0.0.1 requires pybullet, which is not installed.\n",
      "fastai 2.2.7 requires torch<1.8,>=1.7.0, but you have torch 1.10.1+cu113 which is incompatible.\n",
      "fastai 2.2.7 requires torchvision<0.9,>=0.8, but you have torchvision 0.11.2+cu113 which is incompatible.\u001b[0m\u001b[31m\n",
      "\u001b[0mSuccessfully installed packaging-23.2 patsy-0.5.4 statsmodels-0.14.0\n",
      "--- Logging error ---\n",
      "Traceback (most recent call last):\n",
      "  File \"/home/iplab/.local/lib/python3.8/site-packages/pip/_internal/utils/logging.py\", line 177, in emit\n",
      "    self.console.print(renderable, overflow=\"ignore\", crop=False, style=style)\n",
      "  File \"/home/iplab/.local/lib/python3.8/site-packages/pip/_vendor/rich/console.py\", line 1752, in print\n",
      "    extend(render(renderable, render_options))\n",
      "  File \"/home/iplab/.local/lib/python3.8/site-packages/pip/_vendor/rich/console.py\", line 1390, in render\n",
      "    for render_output in iter_render:\n",
      "  File \"/home/iplab/.local/lib/python3.8/site-packages/pip/_internal/utils/logging.py\", line 134, in __rich_console__\n",
      "    for line in lines:\n",
      "  File \"/home/iplab/.local/lib/python3.8/site-packages/pip/_vendor/rich/segment.py\", line 245, in split_lines\n",
      "    for segment in segments:\n",
      "  File \"/home/iplab/.local/lib/python3.8/site-packages/pip/_vendor/rich/console.py\", line 1368, in render\n",
      "    renderable = rich_cast(renderable)\n",
      "  File \"/home/iplab/.local/lib/python3.8/site-packages/pip/_vendor/rich/protocol.py\", line 36, in rich_cast\n",
      "    renderable = cast_method()\n",
      "  File \"/home/iplab/.local/lib/python3.8/site-packages/pip/_internal/self_outdated_check.py\", line 130, in __rich__\n",
      "    pip_cmd = get_best_invocation_for_this_pip()\n",
      "  File \"/home/iplab/.local/lib/python3.8/site-packages/pip/_internal/utils/entrypoints.py\", line 58, in get_best_invocation_for_this_pip\n",
      "    if found_executable and os.path.samefile(\n",
      "  File \"/usr/lib/python3.8/genericpath.py\", line 101, in samefile\n",
      "    s2 = os.stat(f2)\n",
      "FileNotFoundError: [Errno 2] No such file or directory: '/usr/bin/pip3.8'\n",
      "Call stack:\n",
      "  File \"/home/iplab/.local/bin/pip\", line 8, in <module>\n",
      "    sys.exit(main())\n",
      "  File \"/home/iplab/.local/lib/python3.8/site-packages/pip/_internal/cli/main.py\", line 70, in main\n",
      "    return command.main(cmd_args)\n",
      "  File \"/home/iplab/.local/lib/python3.8/site-packages/pip/_internal/cli/base_command.py\", line 101, in main\n",
      "    return self._main(args)\n",
      "  File \"/home/iplab/.local/lib/python3.8/site-packages/pip/_internal/cli/base_command.py\", line 223, in _main\n",
      "    self.handle_pip_version_check(options)\n",
      "  File \"/home/iplab/.local/lib/python3.8/site-packages/pip/_internal/cli/req_command.py\", line 148, in handle_pip_version_check\n",
      "    pip_self_version_check(session, options)\n",
      "  File \"/home/iplab/.local/lib/python3.8/site-packages/pip/_internal/self_outdated_check.py\", line 237, in pip_self_version_check\n",
      "    logger.info(\"[present-rich] %s\", upgrade_prompt)\n",
      "  File \"/usr/lib/python3.8/logging/__init__.py\", line 1446, in info\n",
      "    self._log(INFO, msg, args, **kwargs)\n",
      "  File \"/usr/lib/python3.8/logging/__init__.py\", line 1589, in _log\n",
      "    self.handle(record)\n",
      "  File \"/usr/lib/python3.8/logging/__init__.py\", line 1599, in handle\n",
      "    self.callHandlers(record)\n",
      "  File \"/usr/lib/python3.8/logging/__init__.py\", line 1661, in callHandlers\n",
      "    hdlr.handle(record)\n",
      "  File \"/usr/lib/python3.8/logging/__init__.py\", line 954, in handle\n",
      "    self.emit(record)\n",
      "  File \"/home/iplab/.local/lib/python3.8/site-packages/pip/_internal/utils/logging.py\", line 179, in emit\n",
      "    self.handleError(record)\n",
      "Message: '[present-rich] %s'\n",
      "Arguments: (UpgradePrompt(old='22.1.2', new='23.3.1'),)\n",
      "\u001b[1;31mE: \u001b[0mCould not open lock file /var/lib/dpkg/lock-frontend - open (13: Permission denied)\u001b[0m\n",
      "\u001b[1;31mE: \u001b[0mUnable to acquire the dpkg frontend lock (/var/lib/dpkg/lock-frontend), are you root?\u001b[0m\n",
      "[sudo] password for iplab: \n"
     ]
    }
   ],
   "source": [
    "!pip install torchmetrics torchquad statsmodels\n",
    "!apt install texlive\n",
    "!sudo apt-get install dvipng texlive-latex-extra texlive-fonts-recommended cm-super"
   ]
  },
  {
   "cell_type": "code",
   "execution_count": 2,
   "metadata": {
    "colab": {
     "background_save": true
    },
    "id": "sK442hZphNVm"
   },
   "outputs": [
    {
     "data": {
      "text/plain": [
       "<torch._C.Generator at 0x7f60d896a670>"
      ]
     },
     "execution_count": 2,
     "metadata": {},
     "output_type": "execute_result"
    }
   ],
   "source": [
    "import torch.nn as nn\n",
    "import torch\n",
    "from torchmetrics import Accuracy\n",
    "# from torchvision.datasets import FashionMNIST\n",
    "# from torchvision import transforms\n",
    "# from torch.utils.data import  DataLoader\n",
    "from torch.functional import F\n",
    "import numpy as np\n",
    "import matplotlib.pyplot as plt\n",
    "%matplotlib inline\n",
    "plt.rcParams['text.usetex'] = True\n",
    "plt.rcParams[\"font.family\"] = \"serif\"\n",
    "plt.rcParams['font.size'] = 15\n",
    "import sys\n",
    "from sklearn.utils import shuffle\n",
    "\n",
    "cuda = True if torch.cuda.is_available() else False\n",
    "from torch.autograd import Variable\n",
    "Tensor = torch.cuda.FloatTensor if cuda else torch.FloatTensor\n",
    "torch.manual_seed(0)"
   ]
  },
  {
   "cell_type": "markdown",
   "metadata": {
    "id": "akvQitRO1kGY"
   },
   "source": [
    "#### Create Data\n",
    " Given $\\delta, \\mathcal{N}(\\mu, \\sigma) \\text{ or } U[\\min, \\max]$ of which $\\mathcal{N}(\\mu, \\sigma)$ is not periodic though in $[-\\pi, \\pi]$, so lets consider $\\mathcal{N}(0, \\sigma)$ to make it more or less symetrric over $[-\\pi, \\pi]$.\n",
    "\n",
    " Now we will sample some points from $[-\\pi, \\pi]$ and pass it through any of the function at a time. Sampling 1L points in (100, 100, 1) dim."
   ]
  },
  {
   "cell_type": "code",
   "execution_count": 3,
   "metadata": {
    "id": "vmL1FIXQCUcB"
   },
   "outputs": [],
   "source": [
    "class DataModule:\n",
    "    def __init__(self,dim, normalize=True, **kwargs):\n",
    "        # a 3-D X : (batchs, numbers, 1)\n",
    "        # and we will follow the -π to π for initial experiments\n",
    "        if kwargs['f'] == 'delta':\n",
    "            self.p = self.delta()\n",
    "        elif kwargs['f'] == 'gauss':\n",
    "            self.X = np.random.normal(loc=kwargs['mu'], scale=kwargs['sigma'], size=dim)\n",
    "            if normalize:\n",
    "                self.scale = (self.X.max() - self.X.min())\n",
    "                self.X = self.X / self.scale\n",
    "            self.p = self.gauss(kwargs['mu'], kwargs['sigma'])\n",
    "        elif kwargs['f'] == 'uniform':\n",
    "            self.X = np.random.uniform(kwargs['min'], kwargs['max'], size=dim)\n",
    "            if normalize:\n",
    "                self.scale = (self.X.max() - self.X.min())\n",
    "                self.X = self.X / self.scale\n",
    "            self.p = self.uniform(kwargs['min'], kwargs['max'])\n",
    "        train_ratio = int(0.8*len(self.X))\n",
    "        self.X_train, self.X_test = self.X[:train_ratio], self.X[train_ratio:]\n",
    "        self.X_train, self.X_test  = Variable(Tensor(self.X_train)),Variable(Tensor(self.X_test))\n",
    "\n",
    "    def delta(self):\n",
    "        dim = self.X.shape\n",
    "        return np.where(self.X == 0, np.inf*np.ones(dim), np.zeros(dim))\n",
    "\n",
    "    def gauss(self, mu, sigma):\n",
    "        return np.exp(-0.5*((self.X-mu)/sigma)**2) / (np.sqrt(2*np.pi)*sigma)\n",
    "\n",
    "    def uniform(self, min, max):\n",
    "        dim = self.X.shape\n",
    "        return 1 / (max - min) * np.ones(dim)"
   ]
  },
  {
   "cell_type": "markdown",
   "metadata": {
    "id": "pMLsjD8D1ZAo"
   },
   "source": [
    "#### Generator and Discriminator"
   ]
  },
  {
   "cell_type": "code",
   "execution_count": 4,
   "metadata": {
    "id": "D48sbaYqtfMG"
   },
   "outputs": [],
   "source": [
    "class Generator(nn.Module):\n",
    "\n",
    "    def __init__(self):\n",
    "        super(Generator, self).__init__()\n",
    "\n",
    "        self.model = nn.Sequential(\n",
    "                nn.Linear(1, 4),\n",
    "                nn.LeakyReLU(0.01),\n",
    "                nn.Linear(4,4),\n",
    "                nn.LeakyReLU(0.01),\n",
    "                nn.Linear(4,4),\n",
    "                nn.LeakyReLU(0.01),\n",
    "                nn.Linear(4, 1),\n",
    "                nn.Tanh()\n",
    "            )\n",
    "\n",
    "    def forward(self, z):\n",
    "        y_gen = self.model(z)\n",
    "        return y_gen\n",
    "\n",
    "\n",
    "class Discriminator(nn.Module):\n",
    "    def __init__(self):\n",
    "        super(Discriminator, self).__init__()\n",
    "        self.model = nn.Sequential(\n",
    "            nn.Flatten(),\n",
    "            nn.Linear(1, 8),   #8,\n",
    "            nn.ReLU(),\n",
    "            nn.Linear(8, 4),\n",
    "            nn.ReLU(),\n",
    "            nn.Linear(4, 1),\n",
    "            nn.Sigmoid(),\n",
    "        )\n",
    "\n",
    "    def forward(self, fn):\n",
    "        validity = self.model(fn)\n",
    "        return validity\n",
    "\n",
    "\n",
    "adversarial_loss = nn.BCELoss()"
   ]
  },
  {
   "cell_type": "markdown",
   "metadata": {
    "id": "CBrfk4oFx52X",
    "tags": []
   },
   "source": [
    "\n",
    "## **$\\mathcal{N}(0,1) \\to \\mathcal{N}(-200,1)$**"
   ]
  },
  {
   "cell_type": "markdown",
   "metadata": {
    "id": "aVIanmwMURJZ",
    "jp-MarkdownHeadingCollapsed": true,
    "tags": []
   },
   "source": [
    "### Vanilla GAN"
   ]
  },
  {
   "cell_type": "code",
   "execution_count": 5,
   "metadata": {
    "id": "YTx3A6YIqqr9"
   },
   "outputs": [],
   "source": [
    "!rm -r Log\n",
    "!mkdir Log\n",
    "generator = Generator()\n",
    "discriminator = Discriminator()\n",
    "\n",
    "\n",
    "if cuda:\n",
    "    generator.cuda()\n",
    "    discriminator.cuda()\n",
    "    adversarial_loss.cuda()\n",
    "\n",
    "optimizer_G = torch.optim.Adam(generator.parameters(), lr=1e-3)\n",
    "optimizer_D = torch.optim.SGD(discriminator.parameters(), lr=1e-3)\n",
    "\n",
    "\n",
    "\n",
    "data_loader = DataModule(dim=(100,50,1), f='gauss', mu=-200, sigma=1)\n",
    "# data = DataModule(dim=(10,50,1), f='uniform', min=-12, max=500)\n",
    "Xt_train, Xt_test = data_loader.X_train, data_loader.X_test"
   ]
  },
  {
   "cell_type": "code",
   "execution_count": 6,
   "metadata": {
    "colab": {
     "base_uri": "https://localhost:8080/",
     "height": 1000
    },
    "executionInfo": {
     "elapsed": 337498,
     "status": "ok",
     "timestamp": 1701790769097,
     "user": {
      "displayName": "Debanjan Dutta",
      "userId": "06129041946097564727"
     },
     "user_tz": -330
    },
    "id": "YJFaiEPAUhdh",
    "outputId": "9f5210ca-93be-45f2-b120-40e119240989"
   },
   "outputs": [
    {
     "name": "stdout",
     "output_type": "stream",
     "text": [
      "[Epoch 1000/1000] [Batch 80/80] [D loss: 0.000526] [G Loss: 6.884997] [Generated: 0.443299]"
     ]
    },
    {
     "data": {
      "image/png": "[encoded data removed]",
      "text/plain": [
       "<Figure size 640x480 with 1 Axes>"
      ]
     },
     "metadata": {},
     "output_type": "display_data"
    }
   ],
   "source": [
    "\n",
    "epochs = 1000\n",
    "gloss, dloss = [], []\n",
    "for e in range(epochs):\n",
    "    for b, f in enumerate(data_loader.X_train):\n",
    "        dimn = (f.size(dim=0),  f.size(dim=1))\n",
    "\n",
    "        lbl_one = Variable(Tensor(np.ones(dimn)), requires_grad=False)\n",
    "        z = Variable(Tensor(np.random.normal(size=dimn)))\n",
    "        f_tilde = generator(z)\n",
    "\n",
    "        optimizer_D.zero_grad()\n",
    "        lbl_zero = Variable(Tensor(np.zeros(dimn)), requires_grad=False)\n",
    "        real_loss = adversarial_loss(discriminator(f), lbl_one)\n",
    "        fake_loss = adversarial_loss(discriminator(f_tilde), lbl_zero)\n",
    "        d_loss = (real_loss + fake_loss) / 2\n",
    "        d_loss.backward()\n",
    "        optimizer_D.step()\n",
    "\n",
    "        optimizer_G.zero_grad()\n",
    "        g_loss = adversarial_loss(discriminator(f_tilde.detach()), lbl_one)\n",
    "        g_loss.backward()\n",
    "        optimizer_G.step()\n",
    "        if (e%10 == 0):\n",
    "            torch.save(generator, \"./Log/Generaor_%d\"%(e))\n",
    "\n",
    "        # accuracy = Accuracy()\n",
    "        # b_acc = accuracy(discriminator(f_tilde.detach())>=0.5, lbl_zero.type(torch.int8))\n",
    "        sys.stdout.write(\"\\r[Epoch %d/%d] [Batch %d/%d] [D loss: %f] [G Loss: %f] [Generated: %f]\"%\n",
    "                         (e+1, epochs, b+1, len(Xt_train), d_loss.item(), g_loss.item(), torch.mean(f_tilde)))\n",
    "        # sys.stdout.write(\"\\r[Epoch %d/%d] [Batch %d/%d] [D loss: %f] [G Loss: %f] [Generated: %f]\"%\\\n",
    "                        # (e+1, epochs, b+1, len(data_loader), d_loss.item(), g_loss.item(), torch.mean(f_tilde)))\n",
    "    gloss.append(g_loss.item())\n",
    "    dloss.append(d_loss.item())\n",
    "\n",
    "    \n",
    "plt.plot(range(epochs), gloss)\n",
    "plt.plot(range(epochs), dloss)\n",
    "plt.show()"
   ]
  },
  {
   "cell_type": "markdown",
   "metadata": {
    "id": "brmuJstsnAwn"
   },
   "source": [
    "#### Analysis"
   ]
  },
  {
   "cell_type": "code",
   "execution_count": 7,
   "metadata": {
    "colab": {
     "base_uri": "https://localhost:8080/",
     "height": 392
    },
    "executionInfo": {
     "elapsed": 2818,
     "status": "ok",
     "timestamp": 1701790799876,
     "user": {
      "displayName": "Debanjan Dutta",
      "userId": "06129041946097564727"
     },
     "user_tz": -330
    },
    "id": "hUQifNrNnAwo",
    "outputId": "64d4e80e-1588-40bb-8113-ec0f26dcef55"
   },
   "outputs": [
    {
     "data": {
      "image/png": "[encoded data removed]",
      "text/plain": [
       "<Figure size 500x300 with 1 Axes>"
      ]
     },
     "metadata": {},
     "output_type": "display_data"
    },
    {
     "data": {
      "text/plain": [
       "'https://github.com/eriklindernoren/PyTorch-GAN/blob/master/implementations/wgan/wgan.py'"
      ]
     },
     "execution_count": 7,
     "metadata": {},
     "output_type": "execute_result"
    }
   ],
   "source": [
    "noisetype = \"Normal(0,1)\"\n",
    "GAN = \"Vanilla GAN\"\n",
    "\n",
    "z = Variable(Tensor(np.random.normal(size=(1000,1))))\n",
    "f_tilde = (generator(z)).flatten() * data_loader.scale\n",
    "x1 = f_tilde.cpu().detach().numpy()\n",
    "x2 = Xt_test.flatten().cpu().detach().numpy() * data_loader.scale\n",
    "import scipy.stats as stats\n",
    "fig = plt.figure(figsize=(5,3))\n",
    "x1.sort()\n",
    "x2.sort()\n",
    "plt.scatter(x1, x2, label='Direct QQ-plot on Tar vs Gen', color='blue')\n",
    "# plt.xlabel('Target Data')\n",
    "# plt.ylabel('Generated Data')\n",
    "# plt.title('Given %s Noise Reach Normal(-200, 1) \\n after %d Epochs using %s'%(noisetype, epochs, GAN))\n",
    "plt.show()\n",
    "'https://github.com/eriklindernoren/PyTorch-GAN/blob/master/implementations/wgan/wgan.py'"
   ]
  },
  {
   "cell_type": "code",
   "execution_count": 8,
   "metadata": {
    "colab": {
     "base_uri": "https://localhost:8080/",
     "height": 476
    },
    "executionInfo": {
     "elapsed": 1978,
     "status": "ok",
     "timestamp": 1701790807272,
     "user": {
      "displayName": "Debanjan Dutta",
      "userId": "06129041946097564727"
     },
     "user_tz": -330
    },
    "id": "ZgRjsqKanAwp",
    "outputId": "eca01379-4026-44ec-b796-c9c5db675637"
   },
   "outputs": [
    {
     "data": {
      "text/plain": [
       "Text(0.5, 0, 'Bins')"
      ]
     },
     "execution_count": 8,
     "metadata": {},
     "output_type": "execute_result"
    },
    {
     "data": {
      "image/png": "[encoded data removed]",
      "text/plain": [
       "<Figure size 640x480 with 1 Axes>"
      ]
     },
     "metadata": {},
     "output_type": "display_data"
    }
   ],
   "source": [
    "# x1 = (x1+200)/500\n",
    "hist = torch.histc(torch.tensor(x1), bins=10, min=x1.min(), max=x1.max())\n",
    "bins = 10\n",
    "x = range(bins)\n",
    "plt.bar(x, hist, align='center')\n",
    "plt.xlabel('Bins')"
   ]
  },
  {
   "cell_type": "code",
   "execution_count": 9,
   "metadata": {
    "colab": {
     "base_uri": "https://localhost:8080/"
    },
    "executionInfo": {
     "elapsed": 3,
     "status": "ok",
     "timestamp": 1701791443871,
     "user": {
      "displayName": "Debanjan Dutta",
      "userId": "06129041946097564727"
     },
     "user_tz": -330
    },
    "id": "lU-8sHDvnAwp",
    "outputId": "7d636fdd-1bca-468e-cb0b-c032a726ed66"
   },
   "outputs": [
    {
     "name": "stdout",
     "output_type": "stream",
     "text": [
      "AndersonResult(statistic=19.2795349153007, critical_values=array([0.574, 0.653, 0.784, 0.914, 1.088]), significance_level=array([15. , 10. ,  5. ,  2.5,  1. ]))\n"
     ]
    }
   ],
   "source": [
    "res = stats.anderson(x1, dist='norm')\n",
    "print(res)"
   ]
  },
  {
   "cell_type": "code",
   "execution_count": 11,
   "metadata": {},
   "outputs": [],
   "source": [
    "with open(\"./M/RUN2/N/VGAN.txt\", \"w\") as f:\n",
    "    for x, y in zip(x1, x2):\n",
    "        f.write(str(x) + ',' + str(y)+ '\\n')\n",
    "f.close()"
   ]
  },
  {
   "cell_type": "markdown",
   "metadata": {
    "id": "DePAnR_hs_vd",
    "jp-MarkdownHeadingCollapsed": true,
    "tags": []
   },
   "source": [
    "### W-GAN"
   ]
  },
  {
   "cell_type": "code",
   "execution_count": 12,
   "metadata": {
    "id": "S40TenbquBTK"
   },
   "outputs": [],
   "source": [
    "\n",
    "generator = Generator()\n",
    "discriminator = Discriminator()\n",
    "\n",
    "\n",
    "if cuda:\n",
    "    generator.cuda()\n",
    "    discriminator.cuda()\n",
    "    adversarial_loss.cuda()\n",
    "\n",
    "optimizer_G = torch.optim.Adam(generator.parameters(), lr=1e-3)\n",
    "optimizer_D = torch.optim.SGD(discriminator.parameters(), lr=1e-3)\n",
    "\n",
    "\n",
    "data_loader = DataModule(dim=(100,50,1), f='gauss', mu=-200, sigma=1)\n",
    "# data = DataModule(dim=(10,50,1), f='uniform', min=-12, max=500)\n",
    "Xt_train, Xt_test = data_loader.X_train, data_loader.X_test"
   ]
  },
  {
   "cell_type": "code",
   "execution_count": 13,
   "metadata": {
    "colab": {
     "base_uri": "https://localhost:8080/",
     "height": 452
    },
    "executionInfo": {
     "elapsed": 132461,
     "status": "ok",
     "timestamp": 1701791817577,
     "user": {
      "displayName": "Debanjan Dutta",
      "userId": "06129041946097564727"
     },
     "user_tz": -330
    },
    "id": "6kEtWBVAtDdh",
    "outputId": "b2a95c39-734d-47c8-f190-b6bf82e0a077"
   },
   "outputs": [
    {
     "name": "stdout",
     "output_type": "stream",
     "text": [
      "[Epoch 200/200] [Batch 80/80] [D loss: -0.227962] [G Loss: -0.436137] [Generated: -0.999880]"
     ]
    },
    {
     "data": {
      "image/png": "[encoded data removed]",
      "text/plain": [
       "<Figure size 640x480 with 1 Axes>"
      ]
     },
     "metadata": {},
     "output_type": "display_data"
    }
   ],
   "source": [
    "\n",
    "epochs = 200\n",
    "gloss, dloss = [], []\n",
    "clip_value = 0.2\n",
    "n_critic = 7\n",
    "\n",
    "\n",
    "batches_done = 0\n",
    "for e in range(epochs):\n",
    "    for b, f in enumerate(data_loader.X_train):\n",
    "        dimn = (f.size(dim=0),  f.size(dim=1))\n",
    "\n",
    "        z = Variable(Tensor(np.random.normal(size=dimn)))\n",
    "\n",
    "        # ---------------------\n",
    "        #  Train Discriminator\n",
    "        # ---------------------\n",
    "\n",
    "        optimizer_D.zero_grad()\n",
    "\n",
    "\n",
    "        # Generate a batch of images\n",
    "        f_tilde = generator(z).detach()\n",
    "        # Adversarial loss\n",
    "        d_loss = -torch.mean(discriminator(f)) + torch.mean(discriminator(f_tilde))\n",
    "\n",
    "        d_loss.backward()\n",
    "        optimizer_D.step()\n",
    "\n",
    "        # Clip weights of discriminator\n",
    "        for p in discriminator.parameters():\n",
    "            p.data.clamp_(-clip_value, clip_value)\n",
    "\n",
    "        # Train the generator every n_critic iterations\n",
    "        if e % n_critic == 0:\n",
    "\n",
    "            # -----------------\n",
    "            #  Train Generator\n",
    "            # -----------------\n",
    "\n",
    "            optimizer_G.zero_grad()\n",
    "\n",
    "            # Generate a batch of images\n",
    "            f_tilde = generator(z)\n",
    "            # Adversarial loss\n",
    "            g_loss = -torch.mean(discriminator(f_tilde))\n",
    "\n",
    "            g_loss.backward()\n",
    "            optimizer_G.step()\n",
    "\n",
    "        sys.stdout.write(\"\\r[Epoch %d/%d] [Batch %d/%d] [D loss: %f] [G Loss: %f] [Generated: %f]\"%\n",
    "                         (e+1, epochs, b+1, len(Xt_train), d_loss.item(), g_loss.item(), torch.mean(f_tilde)))\n",
    "\n",
    "        batches_done += 1\n",
    "    gloss.append(g_loss.item())\n",
    "    dloss.append(d_loss.item())\n",
    "\n",
    "plt.plot(range(epochs), gloss)\n",
    "plt.plot(range(epochs), dloss)\n",
    "plt.show()"
   ]
  },
  {
   "cell_type": "markdown",
   "metadata": {
    "id": "O1geUjKInfRd"
   },
   "source": [
    "#### Analysis of W-GAN"
   ]
  },
  {
   "cell_type": "code",
   "execution_count": 14,
   "metadata": {
    "colab": {
     "base_uri": "https://localhost:8080/",
     "height": 392
    },
    "executionInfo": {
     "elapsed": 924,
     "status": "ok",
     "timestamp": 1701791874809,
     "user": {
      "displayName": "Debanjan Dutta",
      "userId": "06129041946097564727"
     },
     "user_tz": -330
    },
    "id": "eoPZyUUZnfRe",
    "outputId": "a478755f-5492-4c35-d99b-8b09254d17a3"
   },
   "outputs": [
    {
     "data": {
      "image/png": "[encoded data removed]",
      "text/plain": [
       "<Figure size 500x300 with 1 Axes>"
      ]
     },
     "metadata": {},
     "output_type": "display_data"
    },
    {
     "data": {
      "text/plain": [
       "'https://github.com/eriklindernoren/PyTorch-GAN/blob/master/implementations/wgan/wgan.py'"
      ]
     },
     "execution_count": 14,
     "metadata": {},
     "output_type": "execute_result"
    }
   ],
   "source": [
    "noisetype = \"Normal(0,1)\"\n",
    "GAN = \"W-GAN\"\n",
    "\n",
    "z = Variable(Tensor(np.random.normal(size=(1000,1))))\n",
    "f_tilde = (generator(z)).flatten() * data_loader.scale\n",
    "x1 = f_tilde.cpu().detach().numpy()\n",
    "x2 = Xt_test.flatten().cpu().detach().numpy() * data_loader.scale\n",
    "import scipy.stats as stats\n",
    "fig = plt.figure(figsize=(5,3))\n",
    "x1.sort()\n",
    "x2.sort()\n",
    "plt.scatter(x1, x2, label='Direct QQ-plot on Tar vs Gen', color='blue')\n",
    "# plt.xlabel('Target Data')\n",
    "# plt.ylabel('Generated Data')\n",
    "# plt.title('Given %s Noise Reach Normal(-200, 1) \\n after %d Epochs using %s GAN'%(noisetype, 1000, GAN))\n",
    "plt.show()\n",
    "'https://github.com/eriklindernoren/PyTorch-GAN/blob/master/implementations/wgan/wgan.py'"
   ]
  },
  {
   "cell_type": "code",
   "execution_count": 15,
   "metadata": {
    "colab": {
     "base_uri": "https://localhost:8080/",
     "height": 483
    },
    "executionInfo": {
     "elapsed": 639,
     "status": "ok",
     "timestamp": 1701791880154,
     "user": {
      "displayName": "Debanjan Dutta",
      "userId": "06129041946097564727"
     },
     "user_tz": -330
    },
    "id": "DdR1yGFQnfRe",
    "outputId": "8ceec734-7046-4036-f72e-69b2be6995f0"
   },
   "outputs": [
    {
     "data": {
      "text/plain": [
       "Text(0.5, 0, 'Bins')"
      ]
     },
     "execution_count": 15,
     "metadata": {},
     "output_type": "execute_result"
    },
    {
     "data": {
      "image/png": "[encoded data removed]",
      "text/plain": [
       "<Figure size 640x480 with 1 Axes>"
      ]
     },
     "metadata": {},
     "output_type": "display_data"
    }
   ],
   "source": [
    "# x1 = (x1+200)/500\n",
    "hist = torch.histc(torch.tensor(x1), bins=10, min=x1.min(), max=x1.max())\n",
    "bins = 10\n",
    "x = range(bins)\n",
    "plt.bar(x, hist, align='center')\n",
    "plt.xlabel('Bins')"
   ]
  },
  {
   "cell_type": "code",
   "execution_count": 16,
   "metadata": {
    "colab": {
     "base_uri": "https://localhost:8080/"
    },
    "executionInfo": {
     "elapsed": 508,
     "status": "ok",
     "timestamp": 1701791885457,
     "user": {
      "displayName": "Debanjan Dutta",
      "userId": "06129041946097564727"
     },
     "user_tz": -330
    },
    "id": "PBMKgyHYnfRf",
    "outputId": "b585911e-1e53-4d38-e174-77f22fdb88e4"
   },
   "outputs": [
    {
     "data": {
      "text/plain": [
       "AndersonResult(statistic=41.64745416995265, critical_values=array([0.574, 0.653, 0.784, 0.914, 1.088]), significance_level=array([15. , 10. ,  5. ,  2.5,  1. ]))"
      ]
     },
     "execution_count": 16,
     "metadata": {},
     "output_type": "execute_result"
    }
   ],
   "source": [
    "stats.anderson(x1, dist='norm')"
   ]
  },
  {
   "cell_type": "code",
   "execution_count": 17,
   "metadata": {},
   "outputs": [],
   "source": [
    "with open(\"./M/RUN2/N/WGAN.txt\", \"w\") as f:\n",
    "    for x, y in zip(x1, x2):\n",
    "        f.write(str(x) + ',' + str(y)+ '\\n')\n",
    "f.close()"
   ]
  },
  {
   "cell_type": "markdown",
   "metadata": {
    "id": "cO3k-JitqSLp",
    "jp-MarkdownHeadingCollapsed": true,
    "tags": []
   },
   "source": [
    "### LS-GAN\n"
   ]
  },
  {
   "cell_type": "code",
   "execution_count": 18,
   "metadata": {
    "id": "RTK5g_6zt7gP"
   },
   "outputs": [],
   "source": [
    "'https://github.com/meliketoy/LSGAN.pytorch/blob/master/main.py'\n",
    "generator = Generator()\n",
    "discriminator = Discriminator()\n",
    "\n",
    "\n",
    "if cuda:\n",
    "    generator.cuda()\n",
    "    discriminator.cuda()\n",
    "    adversarial_loss.cuda()\n",
    "\n",
    "optimizer_G = torch.optim.Adam(generator.parameters(), lr=1e-3)\n",
    "optimizer_D = torch.optim.SGD(discriminator.parameters(), lr=1e-3)\n",
    "\n",
    "\n",
    "\n",
    "data_loader = DataModule(dim=(100,50,1), f='gauss', mu=-200, sigma=1, normalize=False)\n",
    "# data = DataModule(dim=(10,50,1), f='uniform', min=-12, max=500)\n",
    "Xt_train, Xt_test = data_loader.X_train, data_loader.X_test"
   ]
  },
  {
   "cell_type": "code",
   "execution_count": 19,
   "metadata": {
    "colab": {
     "base_uri": "https://localhost:8080/",
     "height": 1000
    },
    "executionInfo": {
     "elapsed": 85132,
     "status": "ok",
     "timestamp": 1701794046604,
     "user": {
      "displayName": "Debanjan Dutta",
      "userId": "06129041946097564727"
     },
     "user_tz": -330
    },
    "id": "ferdYRyKqWjg",
    "outputId": "49605c95-239e-442e-8f84-025d3b44daef"
   },
   "outputs": [
    {
     "name": "stdout",
     "output_type": "stream",
     "text": [
      "[Epoch 400/400] [Batch 80/80] [D loss: 0.012158] [G Loss: 0.304171] [Generated: -0.432999]"
     ]
    },
    {
     "data": {
      "image/png": "[encoded data removed]",
      "text/plain": [
       "<Figure size 640x480 with 1 Axes>"
      ]
     },
     "metadata": {},
     "output_type": "display_data"
    }
   ],
   "source": [
    "\n",
    "epochs = 400\n",
    "gloss, dloss = [], []\n",
    "for e in range(epochs):\n",
    "    for b, f in enumerate(data_loader.X_train):\n",
    "        dimn = (f.size(dim=0),  f.size(dim=1))\n",
    "\n",
    "        lbl_one = Variable(Tensor(np.ones(dimn)), requires_grad=False)\n",
    "        z = Variable(Tensor(np.random.normal(size=dimn)))\n",
    "        f_tilde = generator(z)\n",
    "\n",
    "        optimizer_D.zero_grad()\n",
    "        lbl_zero = Variable(Tensor(np.zeros(dimn)), requires_grad=False)\n",
    "        errD_real = 0.5 * torch.mean((discriminator(f) - lbl_one)**2)\n",
    "        errD_fake = 0.5 * torch.mean((discriminator(f_tilde) - lbl_zero)**2)\n",
    "        d_loss = (errD_fake + errD_real) / 2\n",
    "        d_loss.backward()\n",
    "        optimizer_D.step()\n",
    "\n",
    "        optimizer_G.zero_grad()\n",
    "        g_loss = 0.5 * torch.mean((discriminator(f_tilde.detach()) - lbl_one)**2) # criterion(output, label)\n",
    "        g_loss.backward()\n",
    "        optimizer_G.step()\n",
    "\n",
    "        # accuracy = Accuracy()\n",
    "        # b_acc = accuracy(discriminator(f_tilde.detach())>=0.5, lbl_zero.type(torch.int8))\n",
    "        sys.stdout.write(\"\\r[Epoch %d/%d] [Batch %d/%d] [D loss: %f] [G Loss: %f] [Generated: %f]\"%\n",
    "                         (e+1, epochs, b+1, len(Xt_train), d_loss.item(), g_loss.item(), torch.mean(f_tilde)))\n",
    "        # sys.stdout.write(\"\\r[Epoch %d/%d] [Batch %d/%d] [D loss: %f] [G Loss: %f] [Generated: %f]\"%\\\n",
    "                        # (e+1, epochs, b+1, len(data_loader), d_loss.item(), g_loss.item(), torch.mean(f_tilde)))\n",
    "    gloss.append(g_loss.item())\n",
    "    dloss.append(d_loss.item())\n",
    "\n",
    "plt.plot(range(epochs), gloss)\n",
    "plt.plot(range(epochs), dloss)\n",
    "plt.show()"
   ]
  },
  {
   "cell_type": "markdown",
   "metadata": {
    "id": "KhiuaGKrqNrJ"
   },
   "source": [
    "#### Analysis of LSGAN"
   ]
  },
  {
   "cell_type": "code",
   "execution_count": 20,
   "metadata": {
    "colab": {
     "base_uri": "https://localhost:8080/",
     "height": 392
    },
    "executionInfo": {
     "elapsed": 1099,
     "status": "ok",
     "timestamp": 1701794047696,
     "user": {
      "displayName": "Debanjan Dutta",
      "userId": "06129041946097564727"
     },
     "user_tz": -330
    },
    "id": "OExKkaN85Urn",
    "outputId": "f6f5d03f-45f8-4af8-b356-ae9adc0e6548"
   },
   "outputs": [
    {
     "data": {
      "image/png": "[encoded data removed]",
      "text/plain": [
       "<Figure size 500x300 with 1 Axes>"
      ]
     },
     "metadata": {},
     "output_type": "display_data"
    },
    {
     "data": {
      "text/plain": [
       "'https://github.com/eriklindernoren/PyTorch-GAN/blob/master/implementations/wgan/wgan.py'"
      ]
     },
     "execution_count": 20,
     "metadata": {},
     "output_type": "execute_result"
    }
   ],
   "source": [
    "noisetype = \"Normal(0,1)\"\n",
    "GAN = \"LSGAN\"\n",
    "\n",
    "z = Variable(Tensor(np.random.normal(size=(1000,1))))\n",
    "f_tilde = (generator(z)).flatten()\n",
    "x1 = f_tilde.detach().cpu().numpy()\n",
    "x2 = Xt_test.flatten().detach().cpu().numpy()\n",
    "import scipy.stats as stats\n",
    "fig = plt.figure(figsize=(5,3))\n",
    "x1.sort()\n",
    "x2.sort()\n",
    "plt.scatter(x1, x2, label='Direct QQ-plot on Tar vs Gen', color='blue')\n",
    "# plt.xlabel('Target Data')\n",
    "# plt.ylabel('Generated Data')\n",
    "# plt.title('Given %s Noise Reach Normal(-200, 1) \\n after %d Epochs using %s'%(noisetype, epochs, GAN))\n",
    "plt.show()\n",
    "'https://github.com/eriklindernoren/PyTorch-GAN/blob/master/implementations/wgan/wgan.py'"
   ]
  },
  {
   "cell_type": "code",
   "execution_count": 21,
   "metadata": {
    "colab": {
     "base_uri": "https://localhost:8080/",
     "height": 476
    },
    "executionInfo": {
     "elapsed": 38,
     "status": "ok",
     "timestamp": 1701794047697,
     "user": {
      "displayName": "Debanjan Dutta",
      "userId": "06129041946097564727"
     },
     "user_tz": -330
    },
    "id": "E9QwZPeZoro4",
    "outputId": "1b07ae1b-3c3e-474c-a014-d34146a7728c"
   },
   "outputs": [
    {
     "data": {
      "text/plain": [
       "Text(0.5, 0, 'Bins')"
      ]
     },
     "execution_count": 21,
     "metadata": {},
     "output_type": "execute_result"
    },
    {
     "data": {
      "image/png": "[encoded data removed]",
      "text/plain": [
       "<Figure size 640x480 with 1 Axes>"
      ]
     },
     "metadata": {},
     "output_type": "display_data"
    }
   ],
   "source": [
    "# x1 = (x1+200)/500\n",
    "hist = torch.histc(torch.tensor(x1), bins=10, min=x1.min(), max=x1.max())\n",
    "bins = 10\n",
    "x = range(bins)\n",
    "plt.bar(x, hist, align='center')\n",
    "plt.xlabel('Bins')"
   ]
  },
  {
   "cell_type": "code",
   "execution_count": 22,
   "metadata": {
    "colab": {
     "base_uri": "https://localhost:8080/"
    },
    "executionInfo": {
     "elapsed": 35,
     "status": "ok",
     "timestamp": 1701794047698,
     "user": {
      "displayName": "Debanjan Dutta",
      "userId": "06129041946097564727"
     },
     "user_tz": -330
    },
    "id": "ss1Wk0sOs30v",
    "outputId": "f41eecb7-7141-4914-b513-fbe7499130aa"
   },
   "outputs": [
    {
     "data": {
      "text/plain": [
       "AndersonResult(statistic=28.01807454839127, critical_values=array([0.574, 0.653, 0.784, 0.914, 1.088]), significance_level=array([15. , 10. ,  5. ,  2.5,  1. ]))"
      ]
     },
     "execution_count": 22,
     "metadata": {},
     "output_type": "execute_result"
    }
   ],
   "source": [
    "stats.anderson(x1, dist='norm')"
   ]
  },
  {
   "cell_type": "code",
   "execution_count": 23,
   "metadata": {},
   "outputs": [],
   "source": [
    "with open(\"./M/RUN2/N/LSGAN.txt\", \"w\") as f:\n",
    "    for x, y in zip(x1, x2):\n",
    "        f.write(str(x) + ',' + str(y)+ '\\n')\n",
    "f.close()"
   ]
  },
  {
   "cell_type": "markdown",
   "metadata": {
    "id": "ggAZCU1H0Skb",
    "jp-MarkdownHeadingCollapsed": true,
    "tags": []
   },
   "source": [
    "\n",
    "## End of Part I\n",
    "---\n",
    "\n",
    "\n",
    "\n",
    "---\n",
    "\n",
    "\n",
    "\n",
    "---\n",
    "\n"
   ]
  },
  {
   "cell_type": "markdown",
   "metadata": {
    "id": "Me-fqJrhw7WL",
    "tags": []
   },
   "source": [
    "## **$\\mathcal{U}(0,1) \\to \\mathcal{N}(-200,1)$**"
   ]
  },
  {
   "cell_type": "markdown",
   "metadata": {
    "id": "GAP1PTwmwuCF",
    "jp-MarkdownHeadingCollapsed": true,
    "tags": []
   },
   "source": [
    "### Vanilla GAN\n"
   ]
  },
  {
   "cell_type": "code",
   "execution_count": 24,
   "metadata": {
    "id": "1aslLf9CwuCG"
   },
   "outputs": [],
   "source": [
    "!rm -r Log2\n",
    "!mkdir Log2\n",
    "generator = Generator()\n",
    "discriminator = Discriminator()\n",
    "\n",
    "\n",
    "if cuda:\n",
    "    generator.cuda()\n",
    "    discriminator.cuda()\n",
    "    adversarial_loss.cuda()\n",
    "\n",
    "optimizer_G = torch.optim.Adam(generator.parameters(), lr=1e-3)\n",
    "optimizer_D = torch.optim.SGD(discriminator.parameters(), lr=1e-3)\n",
    "\n",
    "\n",
    "\n",
    "data_loader = DataModule(dim=(100,50,1), f='gauss', mu=-200, sigma=1)\n",
    "# data = DataModule(dim=(10,50,1), f='uniform', min=-12, max=500)\n",
    "Xt_train, Xt_test = data_loader.X_train, data_loader.X_test"
   ]
  },
  {
   "cell_type": "code",
   "execution_count": 25,
   "metadata": {
    "colab": {
     "base_uri": "https://localhost:8080/",
     "height": 1000
    },
    "executionInfo": {
     "elapsed": 297052,
     "status": "ok",
     "timestamp": 1701795850470,
     "user": {
      "displayName": "Debanjan Dutta",
      "userId": "06129041946097564727"
     },
     "user_tz": -330
    },
    "id": "OygjUECWwuCG",
    "outputId": "f5da4dc5-63f8-40b2-813d-33c0fa30e70f"
   },
   "outputs": [
    {
     "name": "stdout",
     "output_type": "stream",
     "text": [
      "[Epoch 1000/1000] [Batch 80/80] [D loss: 0.000693] [G Loss: 6.614191] [Generated: 0.265776]"
     ]
    },
    {
     "data": {
      "image/png": "[encoded data removed]",
      "text/plain": [
       "<Figure size 640x480 with 1 Axes>"
      ]
     },
     "metadata": {},
     "output_type": "display_data"
    }
   ],
   "source": [
    "\n",
    "epochs = 1000\n",
    "gloss, dloss = [], []\n",
    "for e in range(epochs):\n",
    "    for b, f in enumerate(data_loader.X_train):\n",
    "        dimn = (f.size(dim=0),  f.size(dim=1))\n",
    "\n",
    "        lbl_one = Variable(Tensor(np.ones(dimn)), requires_grad=False)\n",
    "        z = Variable(Tensor(np.random.random(size=dimn)))\n",
    "        f_tilde = generator(z)\n",
    "\n",
    "        optimizer_D.zero_grad()\n",
    "        lbl_zero = Variable(Tensor(np.zeros(dimn)), requires_grad=False)\n",
    "        real_loss = adversarial_loss(discriminator(f), lbl_one)\n",
    "        fake_loss = adversarial_loss(discriminator(f_tilde), lbl_zero)\n",
    "        d_loss = (real_loss + fake_loss) / 2\n",
    "        d_loss.backward()\n",
    "        optimizer_D.step()\n",
    "\n",
    "        optimizer_G.zero_grad()\n",
    "        g_loss = adversarial_loss(discriminator(f_tilde.detach()), lbl_one)\n",
    "        g_loss.backward()\n",
    "        optimizer_G.step()\n",
    "        if (e%10 == 0):\n",
    "            torch.save(generator, \"./Log/Generaor_%d\"%(e))\n",
    "\n",
    "        # accuracy = Accuracy()\n",
    "        # b_acc = accuracy(discriminator(f_tilde.detach())>=0.5, lbl_zero.type(torch.int8))\n",
    "        sys.stdout.write(\"\\r[Epoch %d/%d] [Batch %d/%d] [D loss: %f] [G Loss: %f] [Generated: %f]\"%\n",
    "                         (e+1, epochs, b+1, len(Xt_train), d_loss.item(), g_loss.item(), torch.mean(f_tilde)))\n",
    "        # sys.stdout.write(\"\\r[Epoch %d/%d] [Batch %d/%d] [D loss: %f] [G Loss: %f] [Generated: %f]\"%\\\n",
    "                        # (e+1, epochs, b+1, len(data_loader), d_loss.item(), g_loss.item(), torch.mean(f_tilde)))\n",
    "    gloss.append(g_loss.item())\n",
    "    dloss.append(d_loss.item())\n",
    "\n",
    "plt.plot(range(epochs), gloss)\n",
    "plt.plot(range(epochs), dloss)\n",
    "plt.show()"
   ]
  },
  {
   "cell_type": "markdown",
   "metadata": {
    "id": "2Wox2KYmwuCH"
   },
   "source": [
    "#### Analysis"
   ]
  },
  {
   "cell_type": "code",
   "execution_count": 26,
   "metadata": {
    "colab": {
     "base_uri": "https://localhost:8080/",
     "height": 392
    },
    "executionInfo": {
     "elapsed": 1210,
     "status": "ok",
     "timestamp": 1701795851674,
     "user": {
      "displayName": "Debanjan Dutta",
      "userId": "06129041946097564727"
     },
     "user_tz": -330
    },
    "id": "EB31_KpCwuCH",
    "outputId": "30b86770-ec0b-4169-88d4-11c657d65aaf"
   },
   "outputs": [
    {
     "data": {
      "image/png": "[encoded data removed]",
      "text/plain": [
       "<Figure size 500x300 with 1 Axes>"
      ]
     },
     "metadata": {},
     "output_type": "display_data"
    },
    {
     "data": {
      "text/plain": [
       "'https://github.com/eriklindernoren/PyTorch-GAN/blob/master/implementations/wgan/wgan.py'"
      ]
     },
     "execution_count": 26,
     "metadata": {},
     "output_type": "execute_result"
    }
   ],
   "source": [
    "noisetype = \"Uniform(0,1)\"\n",
    "GAN = \"Vanilla GAN\"\n",
    "\n",
    "z = Variable(Tensor(np.random.random(size=(1000,1))))\n",
    "f_tilde = (generator(z)).flatten() * data_loader.scale\n",
    "x1 = f_tilde.cpu().detach().numpy()\n",
    "x2 = Xt_test.flatten().cpu().detach().numpy() * data_loader.scale\n",
    "import scipy.stats as stats\n",
    "fig = plt.figure(figsize=(5,3))\n",
    "x1.sort()\n",
    "x2.sort()\n",
    "plt.scatter(x1, x2, label='Direct QQ-plot on Tar vs Gen', color='blue')\n",
    "# plt.xlabel('Target Data')\n",
    "# plt.ylabel('Generated Data')\n",
    "# plt.title('Given %s Noise Reach Normal(-200, 1) \\n after %d Epochs using %s'%(noisetype, epochs, GAN))\n",
    "plt.show()\n",
    "'https://github.com/eriklindernoren/PyTorch-GAN/blob/master/implementations/wgan/wgan.py'"
   ]
  },
  {
   "cell_type": "code",
   "execution_count": 27,
   "metadata": {
    "colab": {
     "base_uri": "https://localhost:8080/",
     "height": 482
    },
    "executionInfo": {
     "elapsed": 13,
     "status": "ok",
     "timestamp": 1701795851675,
     "user": {
      "displayName": "Debanjan Dutta",
      "userId": "06129041946097564727"
     },
     "user_tz": -330
    },
    "id": "gYG8oNaWwuCH",
    "outputId": "d96893ca-f6f1-4ea9-9d69-e23298f2ec07"
   },
   "outputs": [
    {
     "data": {
      "text/plain": [
       "Text(0.5, 0, 'Bins')"
      ]
     },
     "execution_count": 27,
     "metadata": {},
     "output_type": "execute_result"
    },
    {
     "data": {
      "image/png": "[encoded data removed]",
      "text/plain": [
       "<Figure size 640x480 with 1 Axes>"
      ]
     },
     "metadata": {},
     "output_type": "display_data"
    }
   ],
   "source": [
    "# x1 = (x1+200)/500\n",
    "hist = torch.histc(torch.tensor(x1), bins=10, min=x1.min(), max=x1.max())\n",
    "bins = 10\n",
    "x = range(bins)\n",
    "plt.bar(x, hist, align='center')\n",
    "plt.xlabel('Bins')"
   ]
  },
  {
   "cell_type": "code",
   "execution_count": 28,
   "metadata": {
    "colab": {
     "base_uri": "https://localhost:8080/"
    },
    "executionInfo": {
     "elapsed": 9,
     "status": "ok",
     "timestamp": 1701795851675,
     "user": {
      "displayName": "Debanjan Dutta",
      "userId": "06129041946097564727"
     },
     "user_tz": -330
    },
    "id": "P3wLQx9uwuCI",
    "outputId": "63c66a25-fe53-4e64-bb81-0bdb8096b3b8"
   },
   "outputs": [
    {
     "data": {
      "text/plain": [
       "AndersonResult(statistic=51.2263779595246, critical_values=array([0.574, 0.653, 0.784, 0.914, 1.088]), significance_level=array([15. , 10. ,  5. ,  2.5,  1. ]))"
      ]
     },
     "execution_count": 28,
     "metadata": {},
     "output_type": "execute_result"
    }
   ],
   "source": [
    "stats.anderson(x1, dist='norm')"
   ]
  },
  {
   "cell_type": "code",
   "execution_count": 29,
   "metadata": {},
   "outputs": [],
   "source": [
    "with open(\"./M/RUN2/U(0,1)toN(-200,1)/VGAN.txt\", \"w\") as f:\n",
    "    for x, y in zip(x1, x2):\n",
    "        f.write(str(x) + ',' + str(y)+ '\\n')\n",
    "f.close()"
   ]
  },
  {
   "cell_type": "markdown",
   "metadata": {
    "id": "6aEoY5MfwuCI",
    "jp-MarkdownHeadingCollapsed": true,
    "tags": []
   },
   "source": [
    "### W-GAN"
   ]
  },
  {
   "cell_type": "code",
   "execution_count": 30,
   "metadata": {
    "id": "FsCrXHytwuCI"
   },
   "outputs": [],
   "source": [
    "\n",
    "generator = Generator()\n",
    "discriminator = Discriminator()\n",
    "\n",
    "\n",
    "if cuda:\n",
    "    generator.cuda()\n",
    "    discriminator.cuda()\n",
    "    adversarial_loss.cuda()\n",
    "\n",
    "optimizer_G = torch.optim.Adam(generator.parameters(), lr=1e-3)\n",
    "optimizer_D = torch.optim.SGD(discriminator.parameters(), lr=1e-3)\n",
    "\n",
    "\n",
    "data_loader = DataModule(dim=(100,50,1), f='gauss', mu=-200, sigma=1)\n",
    "# data = DataModule(dim=(10,50,1), f='uniform', min=-12, max=500)\n",
    "Xt_train, Xt_test = data_loader.X_train, data_loader.X_test"
   ]
  },
  {
   "cell_type": "code",
   "execution_count": 31,
   "metadata": {
    "colab": {
     "base_uri": "https://localhost:8080/",
     "height": 452
    },
    "executionInfo": {
     "elapsed": 191267,
     "status": "ok",
     "timestamp": 1701796044057,
     "user": {
      "displayName": "Debanjan Dutta",
      "userId": "06129041946097564727"
     },
     "user_tz": -330
    },
    "id": "k-pNuo6nwuCI",
    "outputId": "563cb36c-73c2-4892-ecb2-274c6958a99b"
   },
   "outputs": [
    {
     "name": "stdout",
     "output_type": "stream",
     "text": [
      "[Epoch 400/400] [Batch 80/80] [D loss: 0.000000] [G Loss: -0.549834] [Generated: 0.139665]"
     ]
    },
    {
     "data": {
      "image/png": "[encoded data removed]",
      "text/plain": [
       "<Figure size 640x480 with 1 Axes>"
      ]
     },
     "metadata": {},
     "output_type": "display_data"
    }
   ],
   "source": [
    "\n",
    "epochs = 400\n",
    "gloss, dloss = [], []\n",
    "clip_value = 0.2\n",
    "n_critic = 7\n",
    "\n",
    "\n",
    "batches_done = 0\n",
    "for e in range(epochs):\n",
    "    for b, f in enumerate(data_loader.X_train):\n",
    "        dimn = (f.size(dim=0),  f.size(dim=1))\n",
    "\n",
    "        z = Variable(Tensor(np.random.random(size=dimn)))\n",
    "\n",
    "        # ---------------------\n",
    "        #  Train Discriminator\n",
    "        # ---------------------\n",
    "\n",
    "        optimizer_D.zero_grad()\n",
    "\n",
    "\n",
    "        # Generate a batch of images\n",
    "        f_tilde = generator(z).detach()\n",
    "        # Adversarial loss\n",
    "        d_loss = -torch.mean(discriminator(f)) + torch.mean(discriminator(f_tilde))\n",
    "\n",
    "        d_loss.backward()\n",
    "        optimizer_D.step()\n",
    "\n",
    "        # Clip weights of discriminator\n",
    "        for p in discriminator.parameters():\n",
    "            p.data.clamp_(-clip_value, clip_value)\n",
    "\n",
    "        # Train the generator every n_critic iterations\n",
    "        if e % n_critic == 0:\n",
    "\n",
    "            # -----------------\n",
    "            #  Train Generator\n",
    "            # -----------------\n",
    "\n",
    "            optimizer_G.zero_grad()\n",
    "\n",
    "            # Generate a batch of images\n",
    "            f_tilde = generator(z)\n",
    "            # Adversarial loss\n",
    "            g_loss = -torch.mean(discriminator(f_tilde))\n",
    "\n",
    "            g_loss.backward()\n",
    "            optimizer_G.step()\n",
    "\n",
    "        sys.stdout.write(\"\\r[Epoch %d/%d] [Batch %d/%d] [D loss: %f] [G Loss: %f] [Generated: %f]\"%\n",
    "                         (e+1, epochs, b+1, len(Xt_train), d_loss.item(), g_loss.item(), torch.mean(f_tilde)))\n",
    "\n",
    "        batches_done += 1\n",
    "    gloss.append(g_loss.item())\n",
    "    dloss.append(d_loss.item())\n",
    "\n",
    "plt.plot(range(epochs), gloss)\n",
    "plt.plot(range(epochs), dloss)\n",
    "plt.show()"
   ]
  },
  {
   "cell_type": "markdown",
   "metadata": {
    "id": "mmvoARxNwuCJ"
   },
   "source": [
    "#### Analysis of W-GAN"
   ]
  },
  {
   "cell_type": "code",
   "execution_count": 32,
   "metadata": {
    "colab": {
     "base_uri": "https://localhost:8080/",
     "height": 392
    },
    "executionInfo": {
     "elapsed": 1389,
     "status": "ok",
     "timestamp": 1701796045440,
     "user": {
      "displayName": "Debanjan Dutta",
      "userId": "06129041946097564727"
     },
     "user_tz": -330
    },
    "id": "SXkPxVZLwuCJ",
    "outputId": "11d79138-a7a5-4d2a-9f85-3e4007676e89"
   },
   "outputs": [
    {
     "data": {
      "image/png": "[encoded data removed]",
      "text/plain": [
       "<Figure size 500x300 with 1 Axes>"
      ]
     },
     "metadata": {},
     "output_type": "display_data"
    },
    {
     "data": {
      "text/plain": [
       "'https://github.com/eriklindernoren/PyTorch-GAN/blob/master/implementations/wgan/wgan.py'"
      ]
     },
     "execution_count": 32,
     "metadata": {},
     "output_type": "execute_result"
    }
   ],
   "source": [
    "noisetype = \"Uniform(0,1)\"\n",
    "GAN = \"W-GAN\"\n",
    "\n",
    "z = Variable(Tensor(np.random.random(size=(1000,1))))\n",
    "f_tilde = (generator(z)).flatten() * data_loader.scale\n",
    "x1 = f_tilde.cpu().detach().numpy()\n",
    "x2 = Xt_test.flatten().cpu().detach().numpy() * data_loader.scale\n",
    "import scipy.stats as stats\n",
    "fig = plt.figure(figsize=(5,3))\n",
    "x1.sort()\n",
    "x2.sort()\n",
    "plt.scatter(x1, x2, label='Direct QQ-plot on Tar vs Gen', color='blue')\n",
    "# plt.xlabel('Target Data')\n",
    "# plt.ylabel('Generated Data')\n",
    "# plt.title('Given %s Noise Reach Normal(-200, 1) \\n after %d Epochs using %s GAN'%(noisetype, 1400, GAN))\n",
    "plt.show()\n",
    "'https://github.com/eriklindernoren/PyTorch-GAN/blob/master/implementations/wgan/wgan.py'"
   ]
  },
  {
   "cell_type": "code",
   "execution_count": 33,
   "metadata": {
    "colab": {
     "base_uri": "https://localhost:8080/",
     "height": 476
    },
    "executionInfo": {
     "elapsed": 965,
     "status": "ok",
     "timestamp": 1701796046398,
     "user": {
      "displayName": "Debanjan Dutta",
      "userId": "06129041946097564727"
     },
     "user_tz": -330
    },
    "id": "_tVklASAwuCJ",
    "outputId": "82e446bb-05c4-4713-8df1-73a769bf0e65"
   },
   "outputs": [
    {
     "data": {
      "text/plain": [
       "Text(0.5, 0, 'Bins')"
      ]
     },
     "execution_count": 33,
     "metadata": {},
     "output_type": "execute_result"
    },
    {
     "data": {
      "image/png": "[encoded data removed]",
      "text/plain": [
       "<Figure size 640x480 with 1 Axes>"
      ]
     },
     "metadata": {},
     "output_type": "display_data"
    }
   ],
   "source": [
    "# x1 = (x1+200)/500\n",
    "hist = torch.histc(torch.tensor(x1), bins=10, min=x1.min(), max=x1.max())\n",
    "bins = 10\n",
    "x = range(bins)\n",
    "plt.bar(x, hist, align='center')\n",
    "plt.xlabel('Bins')"
   ]
  },
  {
   "cell_type": "code",
   "execution_count": 34,
   "metadata": {
    "colab": {
     "base_uri": "https://localhost:8080/"
    },
    "executionInfo": {
     "elapsed": 10,
     "status": "ok",
     "timestamp": 1701796046398,
     "user": {
      "displayName": "Debanjan Dutta",
      "userId": "06129041946097564727"
     },
     "user_tz": -330
    },
    "id": "_HSiib8bwuCK",
    "outputId": "074fad81-ba02-4ff6-f1fc-e7d3831fec00"
   },
   "outputs": [
    {
     "data": {
      "text/plain": [
       "AndersonResult(statistic=11.14350584372471, critical_values=array([0.574, 0.653, 0.784, 0.914, 1.088]), significance_level=array([15. , 10. ,  5. ,  2.5,  1. ]))"
      ]
     },
     "execution_count": 34,
     "metadata": {},
     "output_type": "execute_result"
    }
   ],
   "source": [
    "stats.anderson(x1, dist='norm')"
   ]
  },
  {
   "cell_type": "code",
   "execution_count": 35,
   "metadata": {},
   "outputs": [],
   "source": [
    "with open(\"./M/RUN2/U(0,1)toN(-200,1)/WGAN.txt\", \"w\") as f:\n",
    "    for x, y in zip(x1, x2):\n",
    "        f.write(str(x) + ',' + str(y)+ '\\n')\n",
    "f.close()"
   ]
  },
  {
   "cell_type": "markdown",
   "metadata": {
    "id": "G0PHSKuZwuCK",
    "jp-MarkdownHeadingCollapsed": true,
    "tags": []
   },
   "source": [
    "### LS-GAN"
   ]
  },
  {
   "cell_type": "code",
   "execution_count": 36,
   "metadata": {
    "id": "RGX-S2rSwuCL"
   },
   "outputs": [],
   "source": [
    "'https://github.com/meliketoy/LSGAN.pytorch/blob/master/main.py'\n",
    "generator = Generator()\n",
    "discriminator = Discriminator()\n",
    "\n",
    "\n",
    "if cuda:\n",
    "    generator.cuda()\n",
    "    discriminator.cuda()\n",
    "    adversarial_loss.cuda()\n",
    "\n",
    "optimizer_G = torch.optim.Adam(generator.parameters(), lr=1e-3)\n",
    "optimizer_D = torch.optim.SGD(discriminator.parameters(), lr=1e-3)\n",
    "\n",
    "\n",
    "# data_loader = DataModule(dim=(100,50,1), f='gauss', mu=-200, sigma=1, normalize=True)\n",
    "data_loader = DataModule(dim=(100,50,1), f='gauss', mu=-200, sigma=1, normalize=False)\n",
    "Xt_train, Xt_test = data_loader.X_train, data_loader.X_test"
   ]
  },
  {
   "cell_type": "code",
   "execution_count": 37,
   "metadata": {
    "colab": {
     "base_uri": "https://localhost:8080/",
     "height": 1000
    },
    "executionInfo": {
     "elapsed": 114526,
     "status": "ok",
     "timestamp": 1701795108242,
     "user": {
      "displayName": "Debanjan Dutta",
      "userId": "06129041946097564727"
     },
     "user_tz": -330
    },
    "id": "jNjz5cETwuCL",
    "outputId": "6f6f2f03-e027-4947-9436-ada2f4675323"
   },
   "outputs": [
    {
     "name": "stdout",
     "output_type": "stream",
     "text": [
      "[Epoch 400/400] [Batch 80/80] [D loss: 0.051231] [G Loss: 0.319901] [Generated: -0.105206]"
     ]
    },
    {
     "data": {
      "image/png": "[encoded data removed]",
      "text/plain": [
       "<Figure size 640x480 with 1 Axes>"
      ]
     },
     "metadata": {},
     "output_type": "display_data"
    }
   ],
   "source": [
    "\n",
    "epochs = 400\n",
    "gloss, dloss = [], []\n",
    "for e in range(epochs):\n",
    "    for b, f in enumerate(data_loader.X_train):\n",
    "        dimn = (f.size(dim=0),  f.size(dim=1))\n",
    "\n",
    "        lbl_one = Variable(Tensor(np.ones(dimn)), requires_grad=False)\n",
    "        z = Variable(Tensor(np.random.random(size=dimn)))\n",
    "        f_tilde = generator(z)\n",
    "\n",
    "        optimizer_D.zero_grad()\n",
    "        lbl_zero = Variable(Tensor(np.zeros(dimn)), requires_grad=False)\n",
    "        errD_real = 0.5 * torch.mean((discriminator(f) - lbl_one)**2)\n",
    "        errD_fake = 0.5 * torch.mean((discriminator(f_tilde) - lbl_zero)**2)\n",
    "        d_loss = (errD_fake + errD_real) / 2\n",
    "        d_loss.backward()\n",
    "        optimizer_D.step()\n",
    "\n",
    "        optimizer_G.zero_grad()\n",
    "        g_loss = 0.5 * torch.mean((discriminator(f_tilde.detach()) - lbl_one)**2) # criterion(output, label)\n",
    "        g_loss.backward()\n",
    "        optimizer_G.step()\n",
    "\n",
    "        # accuracy = Accuracy()\n",
    "        # b_acc = accuracy(discriminator(f_tilde.detach())>=0.5, lbl_zero.type(torch.int8))\n",
    "        sys.stdout.write(\"\\r[Epoch %d/%d] [Batch %d/%d] [D loss: %f] [G Loss: %f] [Generated: %f]\"%\n",
    "                         (e+1, epochs, b+1, len(Xt_train), d_loss.item(), g_loss.item(), torch.mean(f_tilde)))\n",
    "        # sys.stdout.write(\"\\r[Epoch %d/%d] [Batch %d/%d] [D loss: %f] [G Loss: %f] [Generated: %f]\"%\\\n",
    "                        # (e+1, epochs, b+1, len(data_loader), d_loss.item(), g_loss.item(), torch.mean(f_tilde)))\n",
    "    gloss.append(g_loss.item())\n",
    "    dloss.append(d_loss.item())\n",
    "\n",
    "plt.plot(range(epochs), gloss)\n",
    "plt.plot(range(epochs), dloss)\n",
    "plt.show()"
   ]
  },
  {
   "cell_type": "markdown",
   "metadata": {
    "id": "XrpSxZjTwuCL"
   },
   "source": [
    "#### Analysis of LSGAN"
   ]
  },
  {
   "cell_type": "code",
   "execution_count": 38,
   "metadata": {
    "colab": {
     "base_uri": "https://localhost:8080/",
     "height": 392
    },
    "executionInfo": {
     "elapsed": 1092,
     "status": "ok",
     "timestamp": 1701795109327,
     "user": {
      "displayName": "Debanjan Dutta",
      "userId": "06129041946097564727"
     },
     "user_tz": -330
    },
    "id": "a48KI3mmwuCL",
    "outputId": "788db5a9-8cf2-4d30-fbfc-791bef6c32ca"
   },
   "outputs": [
    {
     "data": {
      "image/png": "[encoded data removed]",
      "text/plain": [
       "<Figure size 500x300 with 1 Axes>"
      ]
     },
     "metadata": {},
     "output_type": "display_data"
    },
    {
     "data": {
      "text/plain": [
       "'https://github.com/eriklindernoren/PyTorch-GAN/blob/master/implementations/wgan/wgan.py'"
      ]
     },
     "execution_count": 38,
     "metadata": {},
     "output_type": "execute_result"
    }
   ],
   "source": [
    "noisetype = \"Uniform(0,1)\"\n",
    "GAN = \"LSGAN\"\n",
    "\n",
    "z = Variable(Tensor(np.random.random(size=(1000,1))))\n",
    "f_tilde = (generator(z)).flatten() # * data_loader.scale\n",
    "x1 = f_tilde.cpu().detach().numpy()\n",
    "x2 = Xt_test.flatten().cpu().detach().numpy() # * data_loader.scale\n",
    "import scipy.stats as stats\n",
    "fig = plt.figure(figsize=(5,3))\n",
    "x1.sort()\n",
    "x2.sort()\n",
    "plt.scatter(x1, x2, label='Direct QQ-plot on Tar vs Gen', color='blue')\n",
    "# plt.xlabel('Target Data')\n",
    "# plt.ylabel('Generated Data')\n",
    "# plt.title('Given %s Noise Reach Normal(-200, 1) \\n after %d Epochs using %s'%(noisetype, epochs, GAN))\n",
    "plt.show()\n",
    "'https://github.com/eriklindernoren/PyTorch-GAN/blob/master/implementations/wgan/wgan.py'"
   ]
  },
  {
   "cell_type": "code",
   "execution_count": 39,
   "metadata": {
    "colab": {
     "base_uri": "https://localhost:8080/",
     "height": 476
    },
    "executionInfo": {
     "elapsed": 9,
     "status": "ok",
     "timestamp": 1701794961350,
     "user": {
      "displayName": "Debanjan Dutta",
      "userId": "06129041946097564727"
     },
     "user_tz": -330
    },
    "id": "ypxNwCXswuCL",
    "outputId": "88e18593-654b-4365-800e-bbaa0693ce50"
   },
   "outputs": [
    {
     "data": {
      "text/plain": [
       "Text(0.5, 0, 'Bins')"
      ]
     },
     "execution_count": 39,
     "metadata": {},
     "output_type": "execute_result"
    },
    {
     "data": {
      "image/png": "[encoded data removed]",
      "text/plain": [
       "<Figure size 640x480 with 1 Axes>"
      ]
     },
     "metadata": {},
     "output_type": "display_data"
    }
   ],
   "source": [
    "# x1 = (x1+200)/500\n",
    "hist = torch.histc(torch.tensor(x1), bins=10, min=x1.min(), max=x1.max())\n",
    "bins = 10\n",
    "x = range(bins)\n",
    "plt.bar(x, hist, align='center')\n",
    "plt.xlabel('Bins')"
   ]
  },
  {
   "cell_type": "code",
   "execution_count": 40,
   "metadata": {
    "colab": {
     "base_uri": "https://localhost:8080/"
    },
    "executionInfo": {
     "elapsed": 4,
     "status": "ok",
     "timestamp": 1701795495497,
     "user": {
      "displayName": "Debanjan Dutta",
      "userId": "06129041946097564727"
     },
     "user_tz": -330
    },
    "id": "nWzGspv1wuCM",
    "outputId": "18442f32-5a40-4c05-9252-a90e6948daae"
   },
   "outputs": [
    {
     "data": {
      "text/plain": [
       "AndersonResult(statistic=29.870833362345138, critical_values=array([0.574, 0.653, 0.784, 0.914, 1.088]), significance_level=array([15. , 10. ,  5. ,  2.5,  1. ]))"
      ]
     },
     "execution_count": 40,
     "metadata": {},
     "output_type": "execute_result"
    }
   ],
   "source": [
    "stats.anderson(x1, dist='norm')"
   ]
  },
  {
   "cell_type": "code",
   "execution_count": 41,
   "metadata": {},
   "outputs": [],
   "source": [
    "with open(\"./M/RUN2/U(0,1)toN(-200,1)/LSGAN.txt\", \"w\") as f:\n",
    "    for x, y in zip(x1, x2):\n",
    "        f.write(str(x) + ',' + str(y)+ '\\n')\n",
    "f.close()"
   ]
  },
  {
   "cell_type": "markdown",
   "metadata": {
    "jp-MarkdownHeadingCollapsed": true,
    "tags": []
   },
   "source": [
    "## End of Part II\n",
    "\n",
    "---\n",
    "\n",
    "---"
   ]
  },
  {
   "cell_type": "markdown",
   "metadata": {
    "id": "Me-fqJrhw7WL",
    "tags": []
   },
   "source": [
    "## **$\\mathcal{N}(0,1) \\to \\mathcal{N}(-200,5)$**"
   ]
  },
  {
   "cell_type": "markdown",
   "metadata": {
    "id": "GAP1PTwmwuCF",
    "jp-MarkdownHeadingCollapsed": true,
    "tags": []
   },
   "source": [
    "### Vanilla GAN\n"
   ]
  },
  {
   "cell_type": "code",
   "execution_count": 42,
   "metadata": {
    "id": "1aslLf9CwuCG"
   },
   "outputs": [],
   "source": [
    "!rm -r Log2\n",
    "!mkdir Log2\n",
    "generator = Generator()\n",
    "discriminator = Discriminator()\n",
    "\n",
    "\n",
    "if cuda:\n",
    "    generator.cuda()\n",
    "    discriminator.cuda()\n",
    "    adversarial_loss.cuda()\n",
    "\n",
    "optimizer_G = torch.optim.Adam(generator.parameters(), lr=1e-3)\n",
    "optimizer_D = torch.optim.SGD(discriminator.parameters(), lr=1e-3)\n",
    "\n",
    "\n",
    "\n",
    "data_loader = DataModule(dim=(100,50,1), f='gauss', mu=-200, sigma=5)\n",
    "# data = DataModule(dim=(10,50,1), f='uniform', min=-12, max=500)\n",
    "Xt_train, Xt_test = data_loader.X_train, data_loader.X_test"
   ]
  },
  {
   "cell_type": "code",
   "execution_count": 43,
   "metadata": {
    "colab": {
     "base_uri": "https://localhost:8080/",
     "height": 1000
    },
    "executionInfo": {
     "elapsed": 297052,
     "status": "ok",
     "timestamp": 1701795850470,
     "user": {
      "displayName": "Debanjan Dutta",
      "userId": "06129041946097564727"
     },
     "user_tz": -330
    },
    "id": "OygjUECWwuCG",
    "outputId": "f5da4dc5-63f8-40b2-813d-33c0fa30e70f"
   },
   "outputs": [
    {
     "name": "stdout",
     "output_type": "stream",
     "text": [
      "[Epoch 1000/1000] [Batch 80/80] [D loss: 0.001037] [G Loss: 6.263639] [Generated: -0.368259]"
     ]
    },
    {
     "data": {
      "image/png": "[encoded data removed]",
      "text/plain": [
       "<Figure size 640x480 with 1 Axes>"
      ]
     },
     "metadata": {},
     "output_type": "display_data"
    }
   ],
   "source": [
    "\n",
    "epochs = 1000\n",
    "gloss, dloss = [], []\n",
    "for e in range(epochs):\n",
    "    for b, f in enumerate(data_loader.X_train):\n",
    "        dimn = (f.size(dim=0),  f.size(dim=1))\n",
    "\n",
    "        lbl_one = Variable(Tensor(np.ones(dimn)), requires_grad=False)\n",
    "        z = Variable(Tensor(np.random.normal(size=dimn)))\n",
    "        f_tilde = generator(z)\n",
    "\n",
    "        optimizer_D.zero_grad()\n",
    "        lbl_zero = Variable(Tensor(np.zeros(dimn)), requires_grad=False)\n",
    "        real_loss = adversarial_loss(discriminator(f), lbl_one)\n",
    "        fake_loss = adversarial_loss(discriminator(f_tilde), lbl_zero)\n",
    "        d_loss = (real_loss + fake_loss) / 2\n",
    "        d_loss.backward()\n",
    "        optimizer_D.step()\n",
    "\n",
    "        optimizer_G.zero_grad()\n",
    "        g_loss = adversarial_loss(discriminator(f_tilde.detach()), lbl_one)\n",
    "        g_loss.backward()\n",
    "        optimizer_G.step()\n",
    "        if (e%10 == 0):\n",
    "            torch.save(generator, \"./Log/Generaor_%d\"%(e))\n",
    "\n",
    "        # accuracy = Accuracy()\n",
    "        # b_acc = accuracy(discriminator(f_tilde.detach())>=0.5, lbl_zero.type(torch.int8))\n",
    "        sys.stdout.write(\"\\r[Epoch %d/%d] [Batch %d/%d] [D loss: %f] [G Loss: %f] [Generated: %f]\"%\n",
    "                         (e+1, epochs, b+1, len(Xt_train), d_loss.item(), g_loss.item(), torch.mean(f_tilde)))\n",
    "        # sys.stdout.write(\"\\r[Epoch %d/%d] [Batch %d/%d] [D loss: %f] [G Loss: %f] [Generated: %f]\"%\\\n",
    "                        # (e+1, epochs, b+1, len(data_loader), d_loss.item(), g_loss.item(), torch.mean(f_tilde)))\n",
    "    gloss.append(g_loss.item())\n",
    "    dloss.append(d_loss.item())\n",
    "\n",
    "plt.plot(range(epochs), gloss)\n",
    "plt.plot(range(epochs), dloss)\n",
    "plt.show()"
   ]
  },
  {
   "cell_type": "markdown",
   "metadata": {
    "id": "2Wox2KYmwuCH"
   },
   "source": [
    "#### Analysis"
   ]
  },
  {
   "cell_type": "code",
   "execution_count": 44,
   "metadata": {
    "colab": {
     "base_uri": "https://localhost:8080/",
     "height": 392
    },
    "executionInfo": {
     "elapsed": 1210,
     "status": "ok",
     "timestamp": 1701795851674,
     "user": {
      "displayName": "Debanjan Dutta",
      "userId": "06129041946097564727"
     },
     "user_tz": -330
    },
    "id": "EB31_KpCwuCH",
    "outputId": "30b86770-ec0b-4169-88d4-11c657d65aaf"
   },
   "outputs": [
    {
     "data": {
      "image/png": "[encoded data removed]",
      "text/plain": [
       "<Figure size 500x300 with 1 Axes>"
      ]
     },
     "metadata": {},
     "output_type": "display_data"
    },
    {
     "data": {
      "text/plain": [
       "'https://github.com/eriklindernoren/PyTorch-GAN/blob/master/implementations/wgan/wgan.py'"
      ]
     },
     "execution_count": 44,
     "metadata": {},
     "output_type": "execute_result"
    }
   ],
   "source": [
    "noisetype = \"Normal(0,1)\"\n",
    "GAN = \"Vanilla GAN\"\n",
    "\n",
    "z = Variable(Tensor(np.random.normal(size=(1000,1))))\n",
    "f_tilde = (generator(z)).flatten() * data_loader.scale\n",
    "x1 = f_tilde.cpu().detach().numpy()\n",
    "x2 = Xt_test.flatten().cpu().detach().numpy() * data_loader.scale\n",
    "import scipy.stats as stats\n",
    "fig = plt.figure(figsize=(5,3))\n",
    "x1.sort()\n",
    "x2.sort()\n",
    "plt.scatter(x1, x2, label='Direct QQ-plot on Tar vs Gen', color='blue')\n",
    "# plt.xlabel('Target Data')\n",
    "# plt.ylabel('Generated Data')\n",
    "# plt.title('Given %s Noise Reach Normal(-200, 5) \\n after %d Epochs using %s'%(noisetype, epochs, GAN))\n",
    "plt.show()\n",
    "'https://github.com/eriklindernoren/PyTorch-GAN/blob/master/implementations/wgan/wgan.py'"
   ]
  },
  {
   "cell_type": "code",
   "execution_count": 45,
   "metadata": {
    "colab": {
     "base_uri": "https://localhost:8080/",
     "height": 482
    },
    "executionInfo": {
     "elapsed": 13,
     "status": "ok",
     "timestamp": 1701795851675,
     "user": {
      "displayName": "Debanjan Dutta",
      "userId": "06129041946097564727"
     },
     "user_tz": -330
    },
    "id": "gYG8oNaWwuCH",
    "outputId": "d96893ca-f6f1-4ea9-9d69-e23298f2ec07"
   },
   "outputs": [
    {
     "data": {
      "text/plain": [
       "Text(0.5, 0, 'Bins')"
      ]
     },
     "execution_count": 45,
     "metadata": {},
     "output_type": "execute_result"
    },
    {
     "data": {
      "image/png": "[encoded data removed]",
      "text/plain": [
       "<Figure size 640x480 with 1 Axes>"
      ]
     },
     "metadata": {},
     "output_type": "display_data"
    }
   ],
   "source": [
    "# x1 = (x1+200)/500\n",
    "hist = torch.histc(torch.tensor(x1), bins=10, min=x1.min(), max=x1.max())\n",
    "bins = 10\n",
    "x = range(bins)\n",
    "plt.bar(x, hist, align='center')\n",
    "plt.xlabel('Bins')"
   ]
  },
  {
   "cell_type": "code",
   "execution_count": 46,
   "metadata": {
    "colab": {
     "base_uri": "https://localhost:8080/"
    },
    "executionInfo": {
     "elapsed": 9,
     "status": "ok",
     "timestamp": 1701795851675,
     "user": {
      "displayName": "Debanjan Dutta",
      "userId": "06129041946097564727"
     },
     "user_tz": -330
    },
    "id": "P3wLQx9uwuCI",
    "outputId": "63c66a25-fe53-4e64-bb81-0bdb8096b3b8"
   },
   "outputs": [
    {
     "data": {
      "text/plain": [
       "AndersonResult(statistic=11.114374477532238, critical_values=array([0.574, 0.653, 0.784, 0.914, 1.088]), significance_level=array([15. , 10. ,  5. ,  2.5,  1. ]))"
      ]
     },
     "execution_count": 46,
     "metadata": {},
     "output_type": "execute_result"
    }
   ],
   "source": [
    "stats.anderson(x1, dist='norm')"
   ]
  },
  {
   "cell_type": "code",
   "execution_count": 47,
   "metadata": {},
   "outputs": [],
   "source": [
    "with open(\"./M/RUN2/N-N(m,s)/VGAN.txt\", \"w\") as f:\n",
    "    for x, y in zip(x1, x2):\n",
    "        f.write(str(x) + ',' + str(y)+ '\\n')\n",
    "f.close()"
   ]
  },
  {
   "cell_type": "markdown",
   "metadata": {
    "id": "6aEoY5MfwuCI",
    "jp-MarkdownHeadingCollapsed": true,
    "tags": []
   },
   "source": [
    "### W-GAN"
   ]
  },
  {
   "cell_type": "code",
   "execution_count": 48,
   "metadata": {
    "id": "FsCrXHytwuCI"
   },
   "outputs": [],
   "source": [
    "\n",
    "generator = Generator()\n",
    "discriminator = Discriminator()\n",
    "\n",
    "\n",
    "if cuda:\n",
    "    generator.cuda()\n",
    "    discriminator.cuda()\n",
    "    adversarial_loss.cuda()\n",
    "\n",
    "optimizer_G = torch.optim.Adam(generator.parameters(), lr=1e-3)\n",
    "optimizer_D = torch.optim.SGD(discriminator.parameters(), lr=1e-3)\n",
    "\n",
    "\n",
    "data_loader = DataModule(dim=(100,50,1), f='gauss', mu=-200, sigma=5)\n",
    "# data = DataModule(dim=(10,50,1), f='uniform', min=-12, max=500)\n",
    "Xt_train, Xt_test = data_loader.X_train, data_loader.X_test"
   ]
  },
  {
   "cell_type": "code",
   "execution_count": 49,
   "metadata": {
    "colab": {
     "base_uri": "https://localhost:8080/",
     "height": 452
    },
    "executionInfo": {
     "elapsed": 191267,
     "status": "ok",
     "timestamp": 1701796044057,
     "user": {
      "displayName": "Debanjan Dutta",
      "userId": "06129041946097564727"
     },
     "user_tz": -330
    },
    "id": "k-pNuo6nwuCI",
    "outputId": "563cb36c-73c2-4892-ecb2-274c6958a99b"
   },
   "outputs": [
    {
     "name": "stdout",
     "output_type": "stream",
     "text": [
      "[Epoch 400/400] [Batch 80/80] [D loss: -0.072614] [G Loss: -0.477602] [Generated: -0.999983]"
     ]
    },
    {
     "data": {
      "image/png": "[encoded data removed]",
      "text/plain": [
       "<Figure size 640x480 with 1 Axes>"
      ]
     },
     "metadata": {},
     "output_type": "display_data"
    }
   ],
   "source": [
    "\n",
    "epochs = 400\n",
    "gloss, dloss = [], []\n",
    "clip_value = 0.2\n",
    "n_critic = 7\n",
    "\n",
    "\n",
    "batches_done = 0\n",
    "for e in range(epochs):\n",
    "    for b, f in enumerate(data_loader.X_train):\n",
    "        dimn = (f.size(dim=0),  f.size(dim=1))\n",
    "\n",
    "        z = Variable(Tensor(np.random.normal(size=dimn)))\n",
    "\n",
    "        # ---------------------\n",
    "        #  Train Discriminator\n",
    "        # ---------------------\n",
    "\n",
    "        optimizer_D.zero_grad()\n",
    "\n",
    "\n",
    "        # Generate a batch of images\n",
    "        f_tilde = generator(z).detach()\n",
    "        # Adversarial loss\n",
    "        d_loss = -torch.mean(discriminator(f)) + torch.mean(discriminator(f_tilde))\n",
    "\n",
    "        d_loss.backward()\n",
    "        optimizer_D.step()\n",
    "\n",
    "        # Clip weights of discriminator\n",
    "        for p in discriminator.parameters():\n",
    "            p.data.clamp_(-clip_value, clip_value)\n",
    "\n",
    "        # Train the generator every n_critic iterations\n",
    "        if e % n_critic == 0:\n",
    "\n",
    "            # -----------------\n",
    "            #  Train Generator\n",
    "            # -----------------\n",
    "\n",
    "            optimizer_G.zero_grad()\n",
    "\n",
    "            # Generate a batch of images\n",
    "            f_tilde = generator(z)\n",
    "            # Adversarial loss\n",
    "            g_loss = -torch.mean(discriminator(f_tilde))\n",
    "\n",
    "            g_loss.backward()\n",
    "            optimizer_G.step()\n",
    "\n",
    "        sys.stdout.write(\"\\r[Epoch %d/%d] [Batch %d/%d] [D loss: %f] [G Loss: %f] [Generated: %f]\"%\n",
    "                         (e+1, epochs, b+1, len(Xt_train), d_loss.item(), g_loss.item(), torch.mean(f_tilde)))\n",
    "\n",
    "        batches_done += 1\n",
    "    gloss.append(g_loss.item())\n",
    "    dloss.append(d_loss.item())\n",
    "\n",
    "plt.plot(range(epochs), gloss)\n",
    "plt.plot(range(epochs), dloss)\n",
    "plt.show()"
   ]
  },
  {
   "cell_type": "markdown",
   "metadata": {
    "id": "mmvoARxNwuCJ"
   },
   "source": [
    "#### Analysis of W-GAN"
   ]
  },
  {
   "cell_type": "code",
   "execution_count": 50,
   "metadata": {
    "colab": {
     "base_uri": "https://localhost:8080/",
     "height": 392
    },
    "executionInfo": {
     "elapsed": 1389,
     "status": "ok",
     "timestamp": 1701796045440,
     "user": {
      "displayName": "Debanjan Dutta",
      "userId": "06129041946097564727"
     },
     "user_tz": -330
    },
    "id": "SXkPxVZLwuCJ",
    "outputId": "11d79138-a7a5-4d2a-9f85-3e4007676e89"
   },
   "outputs": [
    {
     "data": {
      "image/png": "[encoded data removed]",
      "text/plain": [
       "<Figure size 500x300 with 1 Axes>"
      ]
     },
     "metadata": {},
     "output_type": "display_data"
    },
    {
     "data": {
      "text/plain": [
       "'https://github.com/eriklindernoren/PyTorch-GAN/blob/master/implementations/wgan/wgan.py'"
      ]
     },
     "execution_count": 50,
     "metadata": {},
     "output_type": "execute_result"
    }
   ],
   "source": [
    "noisetype = \"Normal(0,1)\"\n",
    "GAN = \"W-GAN\"\n",
    "\n",
    "z = Variable(Tensor(np.random.normal(size=(1000,1))))\n",
    "f_tilde = (generator(z)).flatten() * data_loader.scale\n",
    "x1 = f_tilde.cpu().detach().numpy()\n",
    "x2 = Xt_test.flatten().cpu().detach().numpy() * data_loader.scale\n",
    "import scipy.stats as stats\n",
    "fig = plt.figure(figsize=(5,3))\n",
    "x1.sort()\n",
    "x2.sort()\n",
    "plt.scatter(x1, x2, label='Direct QQ-plot on Tar vs Gen', color='blue')\n",
    "# plt.xlabel('Target Data')\n",
    "# plt.ylabel('Generated Data')\n",
    "# plt.title('Given %s Noise Reach Normal(-200, 5) \\n after %d Epochs using %s GAN'%(noisetype, 1400, GAN))\n",
    "plt.show()\n",
    "'https://github.com/eriklindernoren/PyTorch-GAN/blob/master/implementations/wgan/wgan.py'"
   ]
  },
  {
   "cell_type": "code",
   "execution_count": 51,
   "metadata": {
    "colab": {
     "base_uri": "https://localhost:8080/",
     "height": 476
    },
    "executionInfo": {
     "elapsed": 965,
     "status": "ok",
     "timestamp": 1701796046398,
     "user": {
      "displayName": "Debanjan Dutta",
      "userId": "06129041946097564727"
     },
     "user_tz": -330
    },
    "id": "_tVklASAwuCJ",
    "outputId": "82e446bb-05c4-4713-8df1-73a769bf0e65"
   },
   "outputs": [
    {
     "data": {
      "text/plain": [
       "Text(0.5, 0, 'Bins')"
      ]
     },
     "execution_count": 51,
     "metadata": {},
     "output_type": "execute_result"
    },
    {
     "data": {
      "image/png": "[encoded data removed]",
      "text/plain": [
       "<Figure size 640x480 with 1 Axes>"
      ]
     },
     "metadata": {},
     "output_type": "display_data"
    }
   ],
   "source": [
    "# x1 = (x1+200)/500\n",
    "hist = torch.histc(torch.tensor(x1), bins=10, min=x1.min(), max=x1.max())\n",
    "bins = 10\n",
    "x = range(bins)\n",
    "plt.bar(x, hist, align='center')\n",
    "plt.xlabel('Bins')"
   ]
  },
  {
   "cell_type": "code",
   "execution_count": 52,
   "metadata": {
    "colab": {
     "base_uri": "https://localhost:8080/"
    },
    "executionInfo": {
     "elapsed": 10,
     "status": "ok",
     "timestamp": 1701796046398,
     "user": {
      "displayName": "Debanjan Dutta",
      "userId": "06129041946097564727"
     },
     "user_tz": -330
    },
    "id": "_HSiib8bwuCK",
    "outputId": "074fad81-ba02-4ff6-f1fc-e7d3831fec00"
   },
   "outputs": [
    {
     "data": {
      "text/plain": [
       "AndersonResult(statistic=47.2851630791788, critical_values=array([0.574, 0.653, 0.784, 0.914, 1.088]), significance_level=array([15. , 10. ,  5. ,  2.5,  1. ]))"
      ]
     },
     "execution_count": 52,
     "metadata": {},
     "output_type": "execute_result"
    }
   ],
   "source": [
    "stats.anderson(x1, dist='norm')"
   ]
  },
  {
   "cell_type": "code",
   "execution_count": 53,
   "metadata": {},
   "outputs": [],
   "source": [
    "with open(\"./M/RUN2/N-N(m,s)/WGAN.txt\", \"w\") as f:\n",
    "    for x, y in zip(x1, x2):\n",
    "        f.write(str(x) + ',' + str(y)+ '\\n')\n",
    "f.close()"
   ]
  },
  {
   "cell_type": "markdown",
   "metadata": {
    "id": "G0PHSKuZwuCK",
    "jp-MarkdownHeadingCollapsed": true,
    "tags": []
   },
   "source": [
    "### LS-GAN"
   ]
  },
  {
   "cell_type": "code",
   "execution_count": 54,
   "metadata": {
    "id": "RGX-S2rSwuCL"
   },
   "outputs": [],
   "source": [
    "'https://github.com/meliketoy/LSGAN.pytorch/blob/master/main.py'\n",
    "generator = Generator()\n",
    "discriminator = Discriminator()\n",
    "\n",
    "\n",
    "if cuda:\n",
    "    generator.cuda()\n",
    "    discriminator.cuda()\n",
    "    adversarial_loss.cuda()\n",
    "\n",
    "optimizer_G = torch.optim.Adam(generator.parameters(), lr=1e-3)\n",
    "optimizer_D = torch.optim.SGD(discriminator.parameters(), lr=1e-3)\n",
    "\n",
    "\n",
    "# data_loader = DataModule(dim=(100,50,1), f='gauss', mu=-200, sigma=1, normalize=True)\n",
    "data_loader = DataModule(dim=(100,50,1), f='gauss', mu=-200, sigma=5, normalize=False)\n",
    "Xt_train, Xt_test = data_loader.X_train, data_loader.X_test"
   ]
  },
  {
   "cell_type": "code",
   "execution_count": 55,
   "metadata": {
    "colab": {
     "base_uri": "https://localhost:8080/",
     "height": 1000
    },
    "executionInfo": {
     "elapsed": 114526,
     "status": "ok",
     "timestamp": 1701795108242,
     "user": {
      "displayName": "Debanjan Dutta",
      "userId": "06129041946097564727"
     },
     "user_tz": -330
    },
    "id": "jNjz5cETwuCL",
    "outputId": "6f6f2f03-e027-4947-9436-ada2f4675323"
   },
   "outputs": [
    {
     "name": "stdout",
     "output_type": "stream",
     "text": [
      "[Epoch 400/400] [Batch 80/80] [D loss: 0.261529] [G Loss: 0.308316] [Generated: -0.342600]"
     ]
    },
    {
     "data": {
      "image/png": "[encoded data removed]",
      "text/plain": [
       "<Figure size 640x480 with 1 Axes>"
      ]
     },
     "metadata": {},
     "output_type": "display_data"
    }
   ],
   "source": [
    "\n",
    "epochs = 400\n",
    "gloss, dloss = [], []\n",
    "for e in range(epochs):\n",
    "    for b, f in enumerate(data_loader.X_train):\n",
    "        dimn = (f.size(dim=0),  f.size(dim=1))\n",
    "\n",
    "        lbl_one = Variable(Tensor(np.ones(dimn)), requires_grad=False)\n",
    "        z = Variable(Tensor(np.random.normal(size=dimn)))\n",
    "        f_tilde = generator(z)\n",
    "\n",
    "        optimizer_D.zero_grad()\n",
    "        lbl_zero = Variable(Tensor(np.zeros(dimn)), requires_grad=False)\n",
    "        errD_real = 0.5 * torch.mean((discriminator(f) - lbl_one)**2)\n",
    "        errD_fake = 0.5 * torch.mean((discriminator(f_tilde) - lbl_zero)**2)\n",
    "        d_loss = (errD_fake + errD_real) / 2\n",
    "        d_loss.backward()\n",
    "        optimizer_D.step()\n",
    "\n",
    "        optimizer_G.zero_grad()\n",
    "        g_loss = 0.5 * torch.mean((discriminator(f_tilde.detach()) - lbl_one)**2) # criterion(output, label)\n",
    "        g_loss.backward()\n",
    "        optimizer_G.step()\n",
    "\n",
    "        # accuracy = Accuracy()\n",
    "        # b_acc = accuracy(discriminator(f_tilde.detach())>=0.5, lbl_zero.type(torch.int8))\n",
    "        sys.stdout.write(\"\\r[Epoch %d/%d] [Batch %d/%d] [D loss: %f] [G Loss: %f] [Generated: %f]\"%\n",
    "                         (e+1, epochs, b+1, len(Xt_train), d_loss.item(), g_loss.item(), torch.mean(f_tilde)))\n",
    "        # sys.stdout.write(\"\\r[Epoch %d/%d] [Batch %d/%d] [D loss: %f] [G Loss: %f] [Generated: %f]\"%\\\n",
    "                        # (e+1, epochs, b+1, len(data_loader), d_loss.item(), g_loss.item(), torch.mean(f_tilde)))\n",
    "    gloss.append(g_loss.item())\n",
    "    dloss.append(d_loss.item())\n",
    "\n",
    "plt.plot(range(epochs), gloss)\n",
    "plt.plot(range(epochs), dloss)\n",
    "plt.show()"
   ]
  },
  {
   "cell_type": "markdown",
   "metadata": {
    "id": "XrpSxZjTwuCL"
   },
   "source": [
    "#### Analysis of LSGAN"
   ]
  },
  {
   "cell_type": "code",
   "execution_count": 56,
   "metadata": {
    "colab": {
     "base_uri": "https://localhost:8080/",
     "height": 392
    },
    "executionInfo": {
     "elapsed": 1092,
     "status": "ok",
     "timestamp": 1701795109327,
     "user": {
      "displayName": "Debanjan Dutta",
      "userId": "06129041946097564727"
     },
     "user_tz": -330
    },
    "id": "a48KI3mmwuCL",
    "outputId": "788db5a9-8cf2-4d30-fbfc-791bef6c32ca"
   },
   "outputs": [
    {
     "data": {
      "image/png": "[encoded data removed]",
      "text/plain": [
       "<Figure size 500x300 with 1 Axes>"
      ]
     },
     "metadata": {},
     "output_type": "display_data"
    },
    {
     "data": {
      "text/plain": [
       "'https://github.com/eriklindernoren/PyTorch-GAN/blob/master/implementations/wgan/wgan.py'"
      ]
     },
     "execution_count": 56,
     "metadata": {},
     "output_type": "execute_result"
    }
   ],
   "source": [
    "noisetype = \"Normal(0,1)\"\n",
    "GAN = \"LSGAN\"\n",
    "\n",
    "z = Variable(Tensor(np.random.normal(size=(1000,1))))\n",
    "f_tilde = (generator(z)).flatten() # * data_loader.scale\n",
    "x1 = f_tilde.cpu().detach().numpy()\n",
    "x2 = Xt_test.flatten().cpu().detach().numpy() # * data_loader.scale\n",
    "import scipy.stats as stats\n",
    "fig = plt.figure(figsize=(5,3))\n",
    "x1.sort()\n",
    "x2.sort()\n",
    "plt.scatter(x1, x2, label='Direct QQ-plot on Tar vs Gen', color='blue')\n",
    "# plt.xlabel('Target Data')\n",
    "# plt.ylabel('Generated Data')\n",
    "# plt.title('Given %s Noise Reach Normal(-200, 5) \\n after %d Epochs using %s'%(noisetype, epochs, GAN))\n",
    "plt.show()\n",
    "'https://github.com/eriklindernoren/PyTorch-GAN/blob/master/implementations/wgan/wgan.py'"
   ]
  },
  {
   "cell_type": "code",
   "execution_count": 57,
   "metadata": {
    "colab": {
     "base_uri": "https://localhost:8080/",
     "height": 476
    },
    "executionInfo": {
     "elapsed": 9,
     "status": "ok",
     "timestamp": 1701794961350,
     "user": {
      "displayName": "Debanjan Dutta",
      "userId": "06129041946097564727"
     },
     "user_tz": -330
    },
    "id": "ypxNwCXswuCL",
    "outputId": "88e18593-654b-4365-800e-bbaa0693ce50"
   },
   "outputs": [
    {
     "data": {
      "text/plain": [
       "Text(0.5, 0, 'Bins')"
      ]
     },
     "execution_count": 57,
     "metadata": {},
     "output_type": "execute_result"
    },
    {
     "data": {
      "image/png": "[encoded data removed]",
      "text/plain": [
       "<Figure size 640x480 with 1 Axes>"
      ]
     },
     "metadata": {},
     "output_type": "display_data"
    }
   ],
   "source": [
    "# x1 = (x1+200)/500\n",
    "hist = torch.histc(torch.tensor(x1), bins=10, min=x1.min(), max=x1.max())\n",
    "bins = 10\n",
    "x = range(bins)\n",
    "plt.bar(x, hist, align='center')\n",
    "plt.xlabel('Bins')"
   ]
  },
  {
   "cell_type": "code",
   "execution_count": 58,
   "metadata": {
    "colab": {
     "base_uri": "https://localhost:8080/"
    },
    "executionInfo": {
     "elapsed": 4,
     "status": "ok",
     "timestamp": 1701795495497,
     "user": {
      "displayName": "Debanjan Dutta",
      "userId": "06129041946097564727"
     },
     "user_tz": -330
    },
    "id": "nWzGspv1wuCM",
    "outputId": "18442f32-5a40-4c05-9252-a90e6948daae"
   },
   "outputs": [
    {
     "data": {
      "text/plain": [
       "AndersonResult(statistic=33.27249559085294, critical_values=array([0.574, 0.653, 0.784, 0.914, 1.088]), significance_level=array([15. , 10. ,  5. ,  2.5,  1. ]))"
      ]
     },
     "execution_count": 58,
     "metadata": {},
     "output_type": "execute_result"
    }
   ],
   "source": [
    "stats.anderson(x1, dist='norm')"
   ]
  },
  {
   "cell_type": "code",
   "execution_count": 59,
   "metadata": {},
   "outputs": [],
   "source": [
    "with open(\"./M/RUN2/N-N(m,s)/LSGAN.txt\", \"w\") as f:\n",
    "    for x, y in zip(x1, x2):\n",
    "        f.write(str(x) + ',' + str(y)+ '\\n')\n",
    "f.close()"
   ]
  },
  {
   "cell_type": "markdown",
   "metadata": {},
   "source": [
    "## End of Part III\n",
    "\n",
    "---\n",
    "\n",
    "---"
   ]
  },
  {
   "cell_type": "markdown",
   "metadata": {
    "id": "Me-fqJrhw7WL",
    "tags": []
   },
   "source": [
    "## **$\\mathcal{U}(0,1) \\to \\mathcal{N}(0,1)$**"
   ]
  },
  {
   "cell_type": "markdown",
   "metadata": {
    "id": "GAP1PTwmwuCF",
    "tags": []
   },
   "source": [
    "### Vanilla GAN\n"
   ]
  },
  {
   "cell_type": "code",
   "execution_count": 60,
   "metadata": {
    "id": "1aslLf9CwuCG"
   },
   "outputs": [],
   "source": [
    "!rm -r Log2\n",
    "!mkdir Log2\n",
    "generator = Generator()\n",
    "discriminator = Discriminator()\n",
    "\n",
    "\n",
    "if cuda:\n",
    "    generator.cuda()\n",
    "    discriminator.cuda()\n",
    "    adversarial_loss.cuda()\n",
    "\n",
    "optimizer_G = torch.optim.Adam(generator.parameters(), lr=1e-3)\n",
    "optimizer_D = torch.optim.SGD(discriminator.parameters(), lr=1e-3)\n",
    "\n",
    "\n",
    "\n",
    "data_loader = DataModule(dim=(100,50,1), f='gauss', mu=0, sigma=1)\n",
    "# data = DataModule(dim=(10,50,1), f='uniform', min=-12, max=500)\n",
    "Xt_train, Xt_test = data_loader.X_train, data_loader.X_test"
   ]
  },
  {
   "cell_type": "code",
   "execution_count": 61,
   "metadata": {
    "colab": {
     "base_uri": "https://localhost:8080/",
     "height": 1000
    },
    "executionInfo": {
     "elapsed": 297052,
     "status": "ok",
     "timestamp": 1701795850470,
     "user": {
      "displayName": "Debanjan Dutta",
      "userId": "06129041946097564727"
     },
     "user_tz": -330
    },
    "id": "OygjUECWwuCG",
    "outputId": "f5da4dc5-63f8-40b2-813d-33c0fa30e70f"
   },
   "outputs": [
    {
     "name": "stdout",
     "output_type": "stream",
     "text": [
      "[Epoch 1000/1000] [Batch 80/80] [D loss: 0.451310] [G Loss: 1.112384] [Generated: -0.113943]\r"
     ]
    },
    {
     "data": {
      "image/png": "[encoded data removed]",
      "text/plain": [
       "<Figure size 640x480 with 1 Axes>"
      ]
     },
     "metadata": {},
     "output_type": "display_data"
    }
   ],
   "source": [
    "\n",
    "epochs = 1000\n",
    "gloss, dloss = [], []\n",
    "for e in range(epochs):\n",
    "    for b, f in enumerate(data_loader.X_train):\n",
    "        dimn = (f.size(dim=0),  f.size(dim=1))\n",
    "\n",
    "        lbl_one = Variable(Tensor(np.ones(dimn)), requires_grad=False)\n",
    "        z = Variable(Tensor(np.random.random(size=dimn)))\n",
    "        f_tilde = generator(z)\n",
    "\n",
    "        optimizer_D.zero_grad()\n",
    "        lbl_zero = Variable(Tensor(np.zeros(dimn)), requires_grad=False)\n",
    "        real_loss = adversarial_loss(discriminator(f), lbl_one)\n",
    "        fake_loss = adversarial_loss(discriminator(f_tilde), lbl_zero)\n",
    "        d_loss = (real_loss + fake_loss) / 2\n",
    "        d_loss.backward()\n",
    "        optimizer_D.step()\n",
    "\n",
    "        optimizer_G.zero_grad()\n",
    "        g_loss = adversarial_loss(discriminator(f_tilde.detach()), lbl_one)\n",
    "        g_loss.backward()\n",
    "        optimizer_G.step()\n",
    "        if (e%10 == 0):\n",
    "            torch.save(generator, \"./Log/Generaor_%d\"%(e))\n",
    "\n",
    "        # accuracy = Accuracy()\n",
    "        # b_acc = accuracy(discriminator(f_tilde.detach())>=0.5, lbl_zero.type(torch.int8))\n",
    "        sys.stdout.write(\"[Epoch %d/%d] [Batch %d/%d] [D loss: %f] [G Loss: %f] [Generated: %f]\\r\"%\n",
    "                         (e+1, epochs, b+1, len(Xt_train), d_loss.item(), g_loss.item(), torch.mean(f_tilde)))\n",
    "        # sys.stdout.write(\"\\r[Epoch %d/%d] [Batch %d/%d] [D loss: %f] [G Loss: %f] [Generated: %f]\"%\\\n",
    "                        # (e+1, epochs, b+1, len(data_loader), d_loss.item(), g_loss.item(), torch.mean(f_tilde)))\n",
    "    gloss.append(g_loss.item())\n",
    "    dloss.append(d_loss.item())\n",
    "\n",
    "plt.plot(range(epochs), gloss)\n",
    "plt.plot(range(epochs), dloss)\n",
    "plt.show()"
   ]
  },
  {
   "cell_type": "markdown",
   "metadata": {
    "id": "2Wox2KYmwuCH"
   },
   "source": [
    "#### Analysis"
   ]
  },
  {
   "cell_type": "code",
   "execution_count": 62,
   "metadata": {
    "colab": {
     "base_uri": "https://localhost:8080/",
     "height": 392
    },
    "executionInfo": {
     "elapsed": 1210,
     "status": "ok",
     "timestamp": 1701795851674,
     "user": {
      "displayName": "Debanjan Dutta",
      "userId": "06129041946097564727"
     },
     "user_tz": -330
    },
    "id": "EB31_KpCwuCH",
    "outputId": "30b86770-ec0b-4169-88d4-11c657d65aaf"
   },
   "outputs": [
    {
     "data": {
      "image/png": "[encoded data removed]",
      "text/plain": [
       "<Figure size 500x300 with 1 Axes>"
      ]
     },
     "metadata": {},
     "output_type": "display_data"
    }
   ],
   "source": [
    "noisetype = \"Uniform(0,1)\"\n",
    "GAN = \"Vanilla GAN\"\n",
    "import statsmodels.api as sm \n",
    "import pylab as py \n",
    "\n",
    "z = Variable(Tensor(np.random.random(size=(1000,1))))\n",
    "f_tilde = (generator(z)).flatten() * data_loader.scale\n",
    "x1 = f_tilde.cpu().detach().numpy()\n",
    "x2 = Xt_test.flatten().cpu().detach().numpy() * data_loader.scale\n",
    "import scipy.stats as stats\n",
    "fig = plt.figure(figsize=(5,3))\n",
    "x1.sort()\n",
    "x2.sort()\n",
    "plt.scatter(x1, x2, label='Direct QQ-plot on Tar vs Gen', color='blue')\n",
    "# plt.xlabel('Generated Data')\n",
    "# plt.ylabel('Target Data')\n",
    "# plt.title('Given %s Noise Reach Normal(0, 1) \\n after %d Epochs using %s'%(noisetype, epochs, GAN))\n",
    "plt.show()"
   ]
  },
  {
   "cell_type": "code",
   "execution_count": 63,
   "metadata": {
    "colab": {
     "base_uri": "https://localhost:8080/",
     "height": 482
    },
    "executionInfo": {
     "elapsed": 13,
     "status": "ok",
     "timestamp": 1701795851675,
     "user": {
      "displayName": "Debanjan Dutta",
      "userId": "06129041946097564727"
     },
     "user_tz": -330
    },
    "id": "gYG8oNaWwuCH",
    "outputId": "d96893ca-f6f1-4ea9-9d69-e23298f2ec07"
   },
   "outputs": [
    {
     "data": {
      "text/plain": [
       "Text(0.5, 0, 'Bins')"
      ]
     },
     "execution_count": 63,
     "metadata": {},
     "output_type": "execute_result"
    },
    {
     "data": {
      "image/png": "[encoded data removed]",
      "text/plain": [
       "<Figure size 640x480 with 1 Axes>"
      ]
     },
     "metadata": {},
     "output_type": "display_data"
    }
   ],
   "source": [
    "# x1 = (x1+200)/500\n",
    "hist = torch.histc(torch.tensor(x1), bins=10, min=x1.min(), max=x1.max())\n",
    "bins = 10\n",
    "x = range(bins)\n",
    "plt.bar(x, hist, align='center')\n",
    "plt.xlabel('Bins')"
   ]
  },
  {
   "cell_type": "code",
   "execution_count": 64,
   "metadata": {
    "colab": {
     "base_uri": "https://localhost:8080/"
    },
    "executionInfo": {
     "elapsed": 9,
     "status": "ok",
     "timestamp": 1701795851675,
     "user": {
      "displayName": "Debanjan Dutta",
      "userId": "06129041946097564727"
     },
     "user_tz": -330
    },
    "id": "P3wLQx9uwuCI",
    "outputId": "63c66a25-fe53-4e64-bb81-0bdb8096b3b8"
   },
   "outputs": [
    {
     "data": {
      "text/plain": [
       "AndersonResult(statistic=30.11019800663803, critical_values=array([0.574, 0.653, 0.784, 0.914, 1.088]), significance_level=array([15. , 10. ,  5. ,  2.5,  1. ]))"
      ]
     },
     "execution_count": 64,
     "metadata": {},
     "output_type": "execute_result"
    }
   ],
   "source": [
    "stats.anderson(x1, dist='norm')"
   ]
  },
  {
   "cell_type": "code",
   "execution_count": 67,
   "metadata": {},
   "outputs": [],
   "source": [
    "with open(\"./M/RUN2/U(0,1)toN(0,1)/VGAN.txt\", \"w\") as f:\n",
    "    for x, y in zip(x1, x2):\n",
    "        f.write(str(x) + ',' + str(y)+ '\\n')\n",
    "f.close()"
   ]
  },
  {
   "cell_type": "markdown",
   "metadata": {
    "id": "6aEoY5MfwuCI",
    "jp-MarkdownHeadingCollapsed": true,
    "tags": []
   },
   "source": [
    "### W-GAN"
   ]
  },
  {
   "cell_type": "code",
   "execution_count": 68,
   "metadata": {
    "id": "FsCrXHytwuCI"
   },
   "outputs": [],
   "source": [
    "\n",
    "generator = Generator()\n",
    "discriminator = Discriminator()\n",
    "\n",
    "\n",
    "if cuda:\n",
    "    generator.cuda()\n",
    "    discriminator.cuda()\n",
    "    adversarial_loss.cuda()\n",
    "\n",
    "optimizer_G = torch.optim.Adam(generator.parameters(), lr=1e-3)\n",
    "optimizer_D = torch.optim.SGD(discriminator.parameters(), lr=1e-3)\n",
    "\n",
    "\n",
    "data_loader = DataModule(dim=(100,50,1), f='gauss', mu=0, sigma=1)\n",
    "# data = DataModule(dim=(10,50,1), f='uniform', min=-12, max=500)\n",
    "Xt_train, Xt_test = data_loader.X_train, data_loader.X_test"
   ]
  },
  {
   "cell_type": "code",
   "execution_count": 69,
   "metadata": {
    "colab": {
     "base_uri": "https://localhost:8080/",
     "height": 452
    },
    "executionInfo": {
     "elapsed": 191267,
     "status": "ok",
     "timestamp": 1701796044057,
     "user": {
      "displayName": "Debanjan Dutta",
      "userId": "06129041946097564727"
     },
     "user_tz": -330
    },
    "id": "k-pNuo6nwuCI",
    "outputId": "563cb36c-73c2-4892-ecb2-274c6958a99b"
   },
   "outputs": [
    {
     "name": "stdout",
     "output_type": "stream",
     "text": [
      "[Epoch 400/400] [Batch 80/80] [D loss: 0.000616] [G Loss: -0.434346] [Generated: 0.848967]]]"
     ]
    },
    {
     "data": {
      "image/png": "[encoded data removed]",
      "text/plain": [
       "<Figure size 640x480 with 1 Axes>"
      ]
     },
     "metadata": {},
     "output_type": "display_data"
    }
   ],
   "source": [
    "\n",
    "epochs = 400\n",
    "gloss, dloss = [], []\n",
    "clip_value = 0.2\n",
    "n_critic = 7\n",
    "\n",
    "\n",
    "batches_done = 0\n",
    "for e in range(epochs):\n",
    "    for b, f in enumerate(data_loader.X_train):\n",
    "        dimn = (f.size(dim=0),  f.size(dim=1))\n",
    "\n",
    "        z = Variable(Tensor(np.random.random(size=dimn)))\n",
    "\n",
    "        # ---------------------\n",
    "        #  Train Discriminator\n",
    "        # ---------------------\n",
    "\n",
    "        optimizer_D.zero_grad()\n",
    "\n",
    "\n",
    "        # Generate a batch of images\n",
    "        f_tilde = generator(z).detach()\n",
    "        # Adversarial loss\n",
    "        d_loss = -torch.mean(discriminator(f)) + torch.mean(discriminator(f_tilde))\n",
    "\n",
    "        d_loss.backward()\n",
    "        optimizer_D.step()\n",
    "\n",
    "        # Clip weights of discriminator\n",
    "        for p in discriminator.parameters():\n",
    "            p.data.clamp_(-clip_value, clip_value)\n",
    "\n",
    "        # Train the generator every n_critic iterations\n",
    "        if e % n_critic == 0:\n",
    "\n",
    "            # -----------------\n",
    "            #  Train Generator\n",
    "            # -----------------\n",
    "\n",
    "            optimizer_G.zero_grad()\n",
    "\n",
    "            # Generate a batch of images\n",
    "            f_tilde = generator(z)\n",
    "            # Adversarial loss\n",
    "            g_loss = -torch.mean(discriminator(f_tilde))\n",
    "\n",
    "            g_loss.backward()\n",
    "            optimizer_G.step()\n",
    "\n",
    "        sys.stdout.write(\"\\r[Epoch %d/%d] [Batch %d/%d] [D loss: %f] [G Loss: %f] [Generated: %f]\"%\n",
    "                         (e+1, epochs, b+1, len(Xt_train), d_loss.item(), g_loss.item(), torch.mean(f_tilde)))\n",
    "\n",
    "        batches_done += 1\n",
    "    gloss.append(g_loss.item())\n",
    "    dloss.append(d_loss.item())\n",
    "\n",
    "plt.plot(range(epochs), gloss)\n",
    "plt.plot(range(epochs), dloss)\n",
    "plt.show()"
   ]
  },
  {
   "cell_type": "markdown",
   "metadata": {
    "id": "mmvoARxNwuCJ"
   },
   "source": [
    "#### Analysis of W-GAN"
   ]
  },
  {
   "cell_type": "code",
   "execution_count": 70,
   "metadata": {
    "colab": {
     "base_uri": "https://localhost:8080/",
     "height": 392
    },
    "executionInfo": {
     "elapsed": 1389,
     "status": "ok",
     "timestamp": 1701796045440,
     "user": {
      "displayName": "Debanjan Dutta",
      "userId": "06129041946097564727"
     },
     "user_tz": -330
    },
    "id": "SXkPxVZLwuCJ",
    "outputId": "11d79138-a7a5-4d2a-9f85-3e4007676e89"
   },
   "outputs": [
    {
     "data": {
      "image/png": "[encoded data removed]",
      "text/plain": [
       "<Figure size 500x300 with 1 Axes>"
      ]
     },
     "metadata": {},
     "output_type": "display_data"
    },
    {
     "data": {
      "text/plain": [
       "'https://github.com/eriklindernoren/PyTorch-GAN/blob/master/implementations/wgan/wgan.py'"
      ]
     },
     "execution_count": 70,
     "metadata": {},
     "output_type": "execute_result"
    }
   ],
   "source": [
    "noisetype = \"Uniform(0,1)\"\n",
    "GAN = \"W-GAN\"\n",
    "\n",
    "z = Variable(Tensor(np.random.random(size=(1000,1))))\n",
    "f_tilde = (generator(z)).flatten() * data_loader.scale\n",
    "x1 = f_tilde.cpu().detach().numpy()\n",
    "x2 = Xt_test.flatten().cpu().detach().numpy() * data_loader.scale\n",
    "import scipy.stats as stats\n",
    "fig = plt.figure(figsize=(5,3))\n",
    "x1.sort()\n",
    "x2.sort()\n",
    "plt.scatter(x1, x2, label='Direct QQ-plot on Tar vs Gen', color='blue')\n",
    "plt.show()\n",
    "'https://github.com/eriklindernoren/PyTorch-GAN/blob/master/implementations/wgan/wgan.py'"
   ]
  },
  {
   "cell_type": "code",
   "execution_count": 71,
   "metadata": {
    "colab": {
     "base_uri": "https://localhost:8080/",
     "height": 476
    },
    "executionInfo": {
     "elapsed": 965,
     "status": "ok",
     "timestamp": 1701796046398,
     "user": {
      "displayName": "Debanjan Dutta",
      "userId": "06129041946097564727"
     },
     "user_tz": -330
    },
    "id": "_tVklASAwuCJ",
    "outputId": "82e446bb-05c4-4713-8df1-73a769bf0e65"
   },
   "outputs": [
    {
     "data": {
      "text/plain": [
       "Text(0.5, 0, 'Bins')"
      ]
     },
     "execution_count": 71,
     "metadata": {},
     "output_type": "execute_result"
    },
    {
     "data": {
      "image/png": "[encoded data removed]",
      "text/plain": [
       "<Figure size 640x480 with 1 Axes>"
      ]
     },
     "metadata": {},
     "output_type": "display_data"
    }
   ],
   "source": [
    "# x1 = (x1+200)/500\n",
    "hist = torch.histc(torch.tensor(x1), bins=10, min=x1.min(), max=x1.max())\n",
    "bins = 10\n",
    "x = range(bins)\n",
    "plt.bar(x, hist, align='center')\n",
    "plt.xlabel('Bins')"
   ]
  },
  {
   "cell_type": "code",
   "execution_count": 72,
   "metadata": {
    "colab": {
     "base_uri": "https://localhost:8080/"
    },
    "executionInfo": {
     "elapsed": 10,
     "status": "ok",
     "timestamp": 1701796046398,
     "user": {
      "displayName": "Debanjan Dutta",
      "userId": "06129041946097564727"
     },
     "user_tz": -330
    },
    "id": "_HSiib8bwuCK",
    "outputId": "074fad81-ba02-4ff6-f1fc-e7d3831fec00"
   },
   "outputs": [
    {
     "data": {
      "text/plain": [
       "AndersonResult(statistic=12.384525929564688, critical_values=array([0.574, 0.653, 0.784, 0.914, 1.088]), significance_level=array([15. , 10. ,  5. ,  2.5,  1. ]))"
      ]
     },
     "execution_count": 72,
     "metadata": {},
     "output_type": "execute_result"
    }
   ],
   "source": [
    "stats.anderson(x1, dist='norm')"
   ]
  },
  {
   "cell_type": "code",
   "execution_count": 73,
   "metadata": {},
   "outputs": [],
   "source": [
    "with open(\"./M/RUN2/U(0,1)toN(0,1)/WGAN.txt\", \"w\") as f:\n",
    "    for x, y in zip(x1, x2):\n",
    "        f.write(str(x) + ',' + str(y)+ '\\n')\n",
    "f.close()"
   ]
  },
  {
   "cell_type": "markdown",
   "metadata": {
    "id": "G0PHSKuZwuCK",
    "jp-MarkdownHeadingCollapsed": true,
    "tags": []
   },
   "source": [
    "### LS-GAN"
   ]
  },
  {
   "cell_type": "code",
   "execution_count": 74,
   "metadata": {
    "id": "RGX-S2rSwuCL"
   },
   "outputs": [],
   "source": [
    "'https://github.com/meliketoy/LSGAN.pytorch/blob/master/main.py'\n",
    "generator = Generator()\n",
    "discriminator = Discriminator()\n",
    "\n",
    "\n",
    "if cuda:\n",
    "    generator.cuda()\n",
    "    discriminator.cuda()\n",
    "    adversarial_loss.cuda()\n",
    "\n",
    "optimizer_G = torch.optim.Adam(generator.parameters(), lr=1e-3)\n",
    "optimizer_D = torch.optim.SGD(discriminator.parameters(), lr=1e-3)\n",
    "\n",
    "\n",
    "# data_loader = DataModule(dim=(100,50,1), f='gauss', mu=-200, sigma=1, normalize=True)\n",
    "data_loader = DataModule(dim=(100,50,1), f='gauss', mu=0, sigma=1, normalize=False)\n",
    "Xt_train, Xt_test = data_loader.X_train, data_loader.X_test"
   ]
  },
  {
   "cell_type": "code",
   "execution_count": 75,
   "metadata": {
    "colab": {
     "base_uri": "https://localhost:8080/",
     "height": 1000
    },
    "executionInfo": {
     "elapsed": 114526,
     "status": "ok",
     "timestamp": 1701795108242,
     "user": {
      "displayName": "Debanjan Dutta",
      "userId": "06129041946097564727"
     },
     "user_tz": -330
    },
    "id": "jNjz5cETwuCL",
    "outputId": "6f6f2f03-e027-4947-9436-ada2f4675323"
   },
   "outputs": [
    {
     "name": "stdout",
     "output_type": "stream",
     "text": [
      "[Epoch 400/400] [Batch 80/80] [D loss: 0.090829] [G Loss: 0.157147] [Generated: 0.398574]"
     ]
    },
    {
     "data": {
      "image/png": "[encoded data removed]",
      "text/plain": [
       "<Figure size 640x480 with 1 Axes>"
      ]
     },
     "metadata": {},
     "output_type": "display_data"
    }
   ],
   "source": [
    "\n",
    "epochs = 400\n",
    "gloss, dloss = [], []\n",
    "for e in range(epochs):\n",
    "    for b, f in enumerate(data_loader.X_train):\n",
    "        dimn = (f.size(dim=0),  f.size(dim=1))\n",
    "\n",
    "        lbl_one = Variable(Tensor(np.ones(dimn)), requires_grad=False)\n",
    "        z = Variable(Tensor(np.random.random(size=dimn)))\n",
    "        f_tilde = generator(z)\n",
    "\n",
    "        optimizer_D.zero_grad()\n",
    "        lbl_zero = Variable(Tensor(np.zeros(dimn)), requires_grad=False)\n",
    "        errD_real = 0.5 * torch.mean((discriminator(f) - lbl_one)**2)\n",
    "        errD_fake = 0.5 * torch.mean((discriminator(f_tilde) - lbl_zero)**2)\n",
    "        d_loss = (errD_fake + errD_real) / 2\n",
    "        d_loss.backward()\n",
    "        optimizer_D.step()\n",
    "\n",
    "        optimizer_G.zero_grad()\n",
    "        g_loss = 0.5 * torch.mean((discriminator(f_tilde.detach()) - lbl_one)**2) # criterion(output, label)\n",
    "        g_loss.backward()\n",
    "        optimizer_G.step()\n",
    "\n",
    "        # accuracy = Accuracy()\n",
    "        # b_acc = accuracy(discriminator(f_tilde.detach())>=0.5, lbl_zero.type(torch.int8))\n",
    "        sys.stdout.write(\"\\r[Epoch %d/%d] [Batch %d/%d] [D loss: %f] [G Loss: %f] [Generated: %f]\"%\n",
    "                         (e+1, epochs, b+1, len(Xt_train), d_loss.item(), g_loss.item(), torch.mean(f_tilde)))\n",
    "        # sys.stdout.write(\"\\r[Epoch %d/%d] [Batch %d/%d] [D loss: %f] [G Loss: %f] [Generated: %f]\"%\\\n",
    "                        # (e+1, epochs, b+1, len(data_loader), d_loss.item(), g_loss.item(), torch.mean(f_tilde)))\n",
    "    gloss.append(g_loss.item())\n",
    "    dloss.append(d_loss.item())\n",
    "\n",
    "plt.plot(range(epochs), gloss)\n",
    "plt.plot(range(epochs), dloss)\n",
    "plt.show()"
   ]
  },
  {
   "cell_type": "markdown",
   "metadata": {
    "id": "XrpSxZjTwuCL"
   },
   "source": [
    "#### Analysis of LSGAN"
   ]
  },
  {
   "cell_type": "code",
   "execution_count": 76,
   "metadata": {
    "colab": {
     "base_uri": "https://localhost:8080/",
     "height": 392
    },
    "executionInfo": {
     "elapsed": 1092,
     "status": "ok",
     "timestamp": 1701795109327,
     "user": {
      "displayName": "Debanjan Dutta",
      "userId": "06129041946097564727"
     },
     "user_tz": -330
    },
    "id": "a48KI3mmwuCL",
    "outputId": "788db5a9-8cf2-4d30-fbfc-791bef6c32ca"
   },
   "outputs": [
    {
     "data": {
      "image/png": "[encoded data removed]",
      "text/plain": [
       "<Figure size 500x300 with 1 Axes>"
      ]
     },
     "metadata": {},
     "output_type": "display_data"
    },
    {
     "data": {
      "text/plain": [
       "'https://github.com/eriklindernoren/PyTorch-GAN/blob/master/implementations/wgan/wgan.py'"
      ]
     },
     "execution_count": 76,
     "metadata": {},
     "output_type": "execute_result"
    }
   ],
   "source": [
    "noisetype = \"Uniform(0,1)\"\n",
    "GAN = \"LSGAN\"\n",
    "\n",
    "z = Variable(Tensor(np.random.random(size=(1000,1))))\n",
    "f_tilde = (generator(z)).flatten() # * data_loader.scale\n",
    "x1 = f_tilde.cpu().detach().numpy()\n",
    "x2 = Xt_test.flatten().cpu().detach().numpy() # * data_loader.scale\n",
    "import scipy.stats as stats\n",
    "fig = plt.figure(figsize=(5,3))\n",
    "x1.sort()\n",
    "x2.sort()\n",
    "plt.scatter(x1, x2, label='Direct QQ-plot on Tar vs Gen', color='blue')\n",
    "plt.show()\n",
    "'https://github.com/eriklindernoren/PyTorch-GAN/blob/master/implementations/wgan/wgan.py'"
   ]
  },
  {
   "cell_type": "code",
   "execution_count": 77,
   "metadata": {
    "colab": {
     "base_uri": "https://localhost:8080/",
     "height": 476
    },
    "executionInfo": {
     "elapsed": 9,
     "status": "ok",
     "timestamp": 1701794961350,
     "user": {
      "displayName": "Debanjan Dutta",
      "userId": "06129041946097564727"
     },
     "user_tz": -330
    },
    "id": "ypxNwCXswuCL",
    "outputId": "88e18593-654b-4365-800e-bbaa0693ce50"
   },
   "outputs": [
    {
     "data": {
      "text/plain": [
       "Text(0.5, 0, 'Bins')"
      ]
     },
     "execution_count": 77,
     "metadata": {},
     "output_type": "execute_result"
    },
    {
     "data": {
      "image/png": "[encoded data removed]",
      "text/plain": [
       "<Figure size 640x480 with 1 Axes>"
      ]
     },
     "metadata": {},
     "output_type": "display_data"
    }
   ],
   "source": [
    "# x1 = (x1+200)/500\n",
    "hist = torch.histc(torch.tensor(x1), bins=10, min=x1.min(), max=x1.max())\n",
    "bins = 10\n",
    "x = range(bins)\n",
    "plt.bar(x, hist, align='center')\n",
    "plt.xlabel('Bins')"
   ]
  },
  {
   "cell_type": "code",
   "execution_count": 78,
   "metadata": {
    "colab": {
     "base_uri": "https://localhost:8080/"
    },
    "executionInfo": {
     "elapsed": 4,
     "status": "ok",
     "timestamp": 1701795495497,
     "user": {
      "displayName": "Debanjan Dutta",
      "userId": "06129041946097564727"
     },
     "user_tz": -330
    },
    "id": "nWzGspv1wuCM",
    "outputId": "18442f32-5a40-4c05-9252-a90e6948daae"
   },
   "outputs": [
    {
     "data": {
      "text/plain": [
       "AndersonResult(statistic=68.16592066073281, critical_values=array([0.574, 0.653, 0.784, 0.914, 1.088]), significance_level=array([15. , 10. ,  5. ,  2.5,  1. ]))"
      ]
     },
     "execution_count": 78,
     "metadata": {},
     "output_type": "execute_result"
    }
   ],
   "source": [
    "stats.anderson(x1, dist='norm')"
   ]
  },
  {
   "cell_type": "code",
   "execution_count": 79,
   "metadata": {},
   "outputs": [],
   "source": [
    "with open(\"./M/RUN2/U(0,1)toN(0,1)/LSGAN.txt\", \"w\") as f:\n",
    "    for x, y in zip(x1, x2):\n",
    "        f.write(str(x) + ',' + str(y)+ '\\n')\n",
    "f.close()"
   ]
  },
  {
   "cell_type": "markdown",
   "metadata": {
    "jp-MarkdownHeadingCollapsed": true,
    "tags": []
   },
   "source": [
    "## End of Part IV\n",
    "\n",
    "---\n",
    "\n",
    "---"
   ]
  }
 ],
 "metadata": {
  "colab": {
   "collapsed_sections": [
    "DePAnR_hs_vd",
    "cO3k-JitqSLp"
   ],
   "name": "",
   "provenance": [
    {
     "file_id": "12ngwM45wMYdKGyh36BrYkA-ItJNX2gSl",
     "timestamp": 1701775127349
    }
   ],
   "version": ""
  },
  "kernelspec": {
   "display_name": "Python 3",
   "language": "python",
   "name": "python3"
  },
  "language_info": {
   "codemirror_mode": {
    "name": "ipython",
    "version": 3
   },
   "file_extension": ".py",
   "mimetype": "text/x-python",
   "name": "python",
   "nbconvert_exporter": "python",
   "pygments_lexer": "ipython3",
   "version": "3.8.10"
  }
 },
 "nbformat": 4,
 "nbformat_minor": 4
}
